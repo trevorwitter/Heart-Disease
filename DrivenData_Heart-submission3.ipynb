{
 "cells": [
  {
   "cell_type": "markdown",
   "metadata": {},
   "source": [
    "# DrivenData Machine Learning with a Heart\n",
    "Detect heart disease from patient cardiovascular dataset. The objective of this project is to predict the binary class, `heart_disease_present`, which represents whether or not a patient has heart disease:\n",
    "- `0` represents no heart disease present\n",
    "- `1` represents heart disease present\n",
    "\n",
    "DrivenData [competition info here](https://www.drivendata.org/competitions/54/machine-learning-with-a-heart/page/107/); data provided by [Cleveland Heart Disease Database](http://archive.ics.uci.edu/ml/datasets/statlog+(heart)) via the UCI Machine Learning repository"
   ]
  },
  {
   "cell_type": "markdown",
   "metadata": {},
   "source": [
    "- Invert values for `num_major_vessels` (0-3) values should change to (3-0) ie 1 changes to 2, 0, changes to 3\n",
    "- Invert values for `ST_depression` - values represent where ST segment is abnormally low below baseline"
   ]
  },
  {
   "cell_type": "code",
   "execution_count": 1,
   "metadata": {},
   "outputs": [],
   "source": [
    "import numpy as np\n",
    "import pandas as pd\n",
    "import matplotlib.pyplot as plt\n",
    "import seaborn as sns\n",
    "\n",
    "from sklearn.base import BaseEstimator, TransformerMixin\n",
    "from sklearn.model_selection import train_test_split, cross_val_score, GridSearchCV\n",
    "from sklearn.pipeline import Pipeline, FeatureUnion\n",
    "from sklearn.preprocessing import PolynomialFeatures, StandardScaler, MinMaxScaler, OneHotEncoder, KBinsDiscretizer\n",
    "\n",
    "from sklearn.linear_model import SGDClassifier, LogisticRegression\n",
    "from sklearn.tree import DecisionTreeClassifier\n",
    "from sklearn.svm import SVC\n",
    "from sklearn.neighbors import KNeighborsClassifier\n",
    "from sklearn.ensemble import AdaBoostClassifier, RandomForestClassifier, ExtraTreesClassifier, VotingClassifier\n",
    "from xgboost import XGBClassifier\n",
    "\n",
    "%matplotlib inline"
   ]
  },
  {
   "cell_type": "code",
   "execution_count": 2,
   "metadata": {},
   "outputs": [],
   "source": [
    "df = pd.read_csv('https://s3.amazonaws.com/drivendata/data/54/public/train_values.csv')\n",
    "labels = pd.read_csv('https://s3.amazonaws.com/drivendata/data/54/public/train_labels.csv')\n",
    "labels.drop(['patient_id'],axis=1,inplace=True)"
   ]
  },
  {
   "cell_type": "code",
   "execution_count": 3,
   "metadata": {},
   "outputs": [],
   "source": [
    "X_train, X_test, y_train, y_test = train_test_split(df, labels, test_size=0.2, random_state=42)"
   ]
  },
  {
   "cell_type": "code",
   "execution_count": 4,
   "metadata": {},
   "outputs": [
    {
     "data": {
      "text/html": [
       "<div>\n",
       "<style scoped>\n",
       "    .dataframe tbody tr th:only-of-type {\n",
       "        vertical-align: middle;\n",
       "    }\n",
       "\n",
       "    .dataframe tbody tr th {\n",
       "        vertical-align: top;\n",
       "    }\n",
       "\n",
       "    .dataframe thead th {\n",
       "        text-align: right;\n",
       "    }\n",
       "</style>\n",
       "<table border=\"1\" class=\"dataframe\">\n",
       "  <thead>\n",
       "    <tr style=\"text-align: right;\">\n",
       "      <th></th>\n",
       "      <th>patient_id</th>\n",
       "      <th>slope_of_peak_exercise_st_segment</th>\n",
       "      <th>thal</th>\n",
       "      <th>resting_blood_pressure</th>\n",
       "      <th>chest_pain_type</th>\n",
       "      <th>num_major_vessels</th>\n",
       "      <th>fasting_blood_sugar_gt_120_mg_per_dl</th>\n",
       "      <th>resting_ekg_results</th>\n",
       "      <th>serum_cholesterol_mg_per_dl</th>\n",
       "      <th>oldpeak_eq_st_depression</th>\n",
       "      <th>sex</th>\n",
       "      <th>age</th>\n",
       "      <th>max_heart_rate_achieved</th>\n",
       "      <th>exercise_induced_angina</th>\n",
       "    </tr>\n",
       "  </thead>\n",
       "  <tbody>\n",
       "    <tr>\n",
       "      <th>117</th>\n",
       "      <td>9dqkpy</td>\n",
       "      <td>1</td>\n",
       "      <td>reversible_defect</td>\n",
       "      <td>110</td>\n",
       "      <td>4</td>\n",
       "      <td>0</td>\n",
       "      <td>0</td>\n",
       "      <td>2</td>\n",
       "      <td>172</td>\n",
       "      <td>0.0</td>\n",
       "      <td>1</td>\n",
       "      <td>41</td>\n",
       "      <td>158</td>\n",
       "      <td>0</td>\n",
       "    </tr>\n",
       "    <tr>\n",
       "      <th>65</th>\n",
       "      <td>nck22c</td>\n",
       "      <td>1</td>\n",
       "      <td>reversible_defect</td>\n",
       "      <td>126</td>\n",
       "      <td>4</td>\n",
       "      <td>0</td>\n",
       "      <td>0</td>\n",
       "      <td>2</td>\n",
       "      <td>282</td>\n",
       "      <td>0.0</td>\n",
       "      <td>1</td>\n",
       "      <td>35</td>\n",
       "      <td>156</td>\n",
       "      <td>1</td>\n",
       "    </tr>\n",
       "    <tr>\n",
       "      <th>67</th>\n",
       "      <td>f70grj</td>\n",
       "      <td>2</td>\n",
       "      <td>normal</td>\n",
       "      <td>115</td>\n",
       "      <td>4</td>\n",
       "      <td>0</td>\n",
       "      <td>0</td>\n",
       "      <td>0</td>\n",
       "      <td>303</td>\n",
       "      <td>1.2</td>\n",
       "      <td>1</td>\n",
       "      <td>43</td>\n",
       "      <td>181</td>\n",
       "      <td>0</td>\n",
       "    </tr>\n",
       "    <tr>\n",
       "      <th>31</th>\n",
       "      <td>z7xkou</td>\n",
       "      <td>2</td>\n",
       "      <td>reversible_defect</td>\n",
       "      <td>150</td>\n",
       "      <td>4</td>\n",
       "      <td>3</td>\n",
       "      <td>0</td>\n",
       "      <td>2</td>\n",
       "      <td>225</td>\n",
       "      <td>1.0</td>\n",
       "      <td>0</td>\n",
       "      <td>65</td>\n",
       "      <td>114</td>\n",
       "      <td>0</td>\n",
       "    </tr>\n",
       "    <tr>\n",
       "      <th>12</th>\n",
       "      <td>mpggsq</td>\n",
       "      <td>1</td>\n",
       "      <td>normal</td>\n",
       "      <td>140</td>\n",
       "      <td>3</td>\n",
       "      <td>0</td>\n",
       "      <td>0</td>\n",
       "      <td>0</td>\n",
       "      <td>335</td>\n",
       "      <td>0.0</td>\n",
       "      <td>1</td>\n",
       "      <td>64</td>\n",
       "      <td>158</td>\n",
       "      <td>0</td>\n",
       "    </tr>\n",
       "  </tbody>\n",
       "</table>\n",
       "</div>"
      ],
      "text/plain": [
       "    patient_id  slope_of_peak_exercise_st_segment               thal  \\\n",
       "117     9dqkpy                                  1  reversible_defect   \n",
       "65      nck22c                                  1  reversible_defect   \n",
       "67      f70grj                                  2             normal   \n",
       "31      z7xkou                                  2  reversible_defect   \n",
       "12      mpggsq                                  1             normal   \n",
       "\n",
       "     resting_blood_pressure  chest_pain_type  num_major_vessels  \\\n",
       "117                     110                4                  0   \n",
       "65                      126                4                  0   \n",
       "67                      115                4                  0   \n",
       "31                      150                4                  3   \n",
       "12                      140                3                  0   \n",
       "\n",
       "     fasting_blood_sugar_gt_120_mg_per_dl  resting_ekg_results  \\\n",
       "117                                     0                    2   \n",
       "65                                      0                    2   \n",
       "67                                      0                    0   \n",
       "31                                      0                    2   \n",
       "12                                      0                    0   \n",
       "\n",
       "     serum_cholesterol_mg_per_dl  oldpeak_eq_st_depression  sex  age  \\\n",
       "117                          172                       0.0    1   41   \n",
       "65                           282                       0.0    1   35   \n",
       "67                           303                       1.2    1   43   \n",
       "31                           225                       1.0    0   65   \n",
       "12                           335                       0.0    1   64   \n",
       "\n",
       "     max_heart_rate_achieved  exercise_induced_angina  \n",
       "117                      158                        0  \n",
       "65                       156                        1  \n",
       "67                       181                        0  \n",
       "31                       114                        0  \n",
       "12                       158                        0  "
      ]
     },
     "execution_count": 4,
     "metadata": {},
     "output_type": "execute_result"
    }
   ],
   "source": [
    "X_train.head()"
   ]
  },
  {
   "cell_type": "code",
   "execution_count": 5,
   "metadata": {},
   "outputs": [
    {
     "name": "stdout",
     "output_type": "stream",
     "text": [
      "<class 'pandas.core.frame.DataFrame'>\n",
      "Int64Index: 144 entries, 117 to 102\n",
      "Data columns (total 14 columns):\n",
      "patient_id                              144 non-null object\n",
      "slope_of_peak_exercise_st_segment       144 non-null int64\n",
      "thal                                    144 non-null object\n",
      "resting_blood_pressure                  144 non-null int64\n",
      "chest_pain_type                         144 non-null int64\n",
      "num_major_vessels                       144 non-null int64\n",
      "fasting_blood_sugar_gt_120_mg_per_dl    144 non-null int64\n",
      "resting_ekg_results                     144 non-null int64\n",
      "serum_cholesterol_mg_per_dl             144 non-null int64\n",
      "oldpeak_eq_st_depression                144 non-null float64\n",
      "sex                                     144 non-null int64\n",
      "age                                     144 non-null int64\n",
      "max_heart_rate_achieved                 144 non-null int64\n",
      "exercise_induced_angina                 144 non-null int64\n",
      "dtypes: float64(1), int64(11), object(2)\n",
      "memory usage: 16.9+ KB\n"
     ]
    }
   ],
   "source": [
    "X_train.info()"
   ]
  },
  {
   "cell_type": "code",
   "execution_count": 6,
   "metadata": {},
   "outputs": [
    {
     "name": "stderr",
     "output_type": "stream",
     "text": [
      "/anaconda3/envs/python3/lib/python3.6/site-packages/pandas/core/frame.py:3697: SettingWithCopyWarning: \n",
      "A value is trying to be set on a copy of a slice from a DataFrame\n",
      "\n",
      "See the caveats in the documentation: http://pandas.pydata.org/pandas-docs/stable/indexing.html#indexing-view-versus-copy\n",
      "  errors=errors)\n"
     ]
    }
   ],
   "source": [
    "X_train.drop(['patient_id'],axis=1,inplace=True)"
   ]
  },
  {
   "cell_type": "code",
   "execution_count": 7,
   "metadata": {},
   "outputs": [
    {
     "name": "stderr",
     "output_type": "stream",
     "text": [
      "/anaconda3/envs/python3/lib/python3.6/site-packages/pandas/core/indexing.py:543: SettingWithCopyWarning: \n",
      "A value is trying to be set on a copy of a slice from a DataFrame.\n",
      "Try using .loc[row_indexer,col_indexer] = value instead\n",
      "\n",
      "See the caveats in the documentation: http://pandas.pydata.org/pandas-docs/stable/indexing.html#indexing-view-versus-copy\n",
      "  self.obj[item] = s\n"
     ]
    }
   ],
   "source": [
    "X_train.loc[:,'thal'] = X_train.loc[:,'thal'].astype('category')"
   ]
  },
  {
   "cell_type": "code",
   "execution_count": 8,
   "metadata": {},
   "outputs": [],
   "source": [
    "X_train.loc[:,'chest_pain_type'] = X_train.loc[:,'chest_pain_type'].astype('category')"
   ]
  },
  {
   "cell_type": "code",
   "execution_count": 9,
   "metadata": {},
   "outputs": [
    {
     "data": {
      "text/plain": [
       "normal               79\n",
       "reversible_defect    58\n",
       "fixed_defect          7\n",
       "Name: thal, dtype: int64"
      ]
     },
     "execution_count": 9,
     "metadata": {},
     "output_type": "execute_result"
    }
   ],
   "source": [
    "X_train['thal'].value_counts()"
   ]
  },
  {
   "cell_type": "code",
   "execution_count": 10,
   "metadata": {},
   "outputs": [
    {
     "name": "stdout",
     "output_type": "stream",
     "text": [
      "<class 'pandas.core.frame.DataFrame'>\n",
      "Int64Index: 144 entries, 117 to 102\n",
      "Data columns (total 13 columns):\n",
      "slope_of_peak_exercise_st_segment       144 non-null int64\n",
      "thal                                    144 non-null category\n",
      "resting_blood_pressure                  144 non-null int64\n",
      "chest_pain_type                         144 non-null category\n",
      "num_major_vessels                       144 non-null int64\n",
      "fasting_blood_sugar_gt_120_mg_per_dl    144 non-null int64\n",
      "resting_ekg_results                     144 non-null int64\n",
      "serum_cholesterol_mg_per_dl             144 non-null int64\n",
      "oldpeak_eq_st_depression                144 non-null float64\n",
      "sex                                     144 non-null int64\n",
      "age                                     144 non-null int64\n",
      "max_heart_rate_achieved                 144 non-null int64\n",
      "exercise_induced_angina                 144 non-null int64\n",
      "dtypes: category(2), float64(1), int64(10)\n",
      "memory usage: 14.1 KB\n"
     ]
    }
   ],
   "source": [
    "X_train.info()"
   ]
  },
  {
   "cell_type": "code",
   "execution_count": 11,
   "metadata": {},
   "outputs": [],
   "source": [
    "#X_train = pd.get_dummies(X_train)"
   ]
  },
  {
   "cell_type": "code",
   "execution_count": 12,
   "metadata": {},
   "outputs": [
    {
     "name": "stdout",
     "output_type": "stream",
     "text": [
      "<class 'pandas.core.frame.DataFrame'>\n",
      "Int64Index: 144 entries, 117 to 102\n",
      "Data columns (total 13 columns):\n",
      "slope_of_peak_exercise_st_segment       144 non-null int64\n",
      "thal                                    144 non-null category\n",
      "resting_blood_pressure                  144 non-null int64\n",
      "chest_pain_type                         144 non-null category\n",
      "num_major_vessels                       144 non-null int64\n",
      "fasting_blood_sugar_gt_120_mg_per_dl    144 non-null int64\n",
      "resting_ekg_results                     144 non-null int64\n",
      "serum_cholesterol_mg_per_dl             144 non-null int64\n",
      "oldpeak_eq_st_depression                144 non-null float64\n",
      "sex                                     144 non-null int64\n",
      "age                                     144 non-null int64\n",
      "max_heart_rate_achieved                 144 non-null int64\n",
      "exercise_induced_angina                 144 non-null int64\n",
      "dtypes: category(2), float64(1), int64(10)\n",
      "memory usage: 14.1 KB\n"
     ]
    }
   ],
   "source": [
    "X_train.info()"
   ]
  },
  {
   "cell_type": "code",
   "execution_count": 13,
   "metadata": {},
   "outputs": [
    {
     "data": {
      "text/html": [
       "<div>\n",
       "<style scoped>\n",
       "    .dataframe tbody tr th:only-of-type {\n",
       "        vertical-align: middle;\n",
       "    }\n",
       "\n",
       "    .dataframe tbody tr th {\n",
       "        vertical-align: top;\n",
       "    }\n",
       "\n",
       "    .dataframe thead th {\n",
       "        text-align: right;\n",
       "    }\n",
       "</style>\n",
       "<table border=\"1\" class=\"dataframe\">\n",
       "  <thead>\n",
       "    <tr style=\"text-align: right;\">\n",
       "      <th></th>\n",
       "      <th>slope_of_peak_exercise_st_segment</th>\n",
       "      <th>resting_blood_pressure</th>\n",
       "      <th>num_major_vessels</th>\n",
       "      <th>fasting_blood_sugar_gt_120_mg_per_dl</th>\n",
       "      <th>resting_ekg_results</th>\n",
       "      <th>serum_cholesterol_mg_per_dl</th>\n",
       "      <th>oldpeak_eq_st_depression</th>\n",
       "      <th>sex</th>\n",
       "      <th>age</th>\n",
       "      <th>max_heart_rate_achieved</th>\n",
       "      <th>exercise_induced_angina</th>\n",
       "    </tr>\n",
       "  </thead>\n",
       "  <tbody>\n",
       "    <tr>\n",
       "      <th>count</th>\n",
       "      <td>144.000000</td>\n",
       "      <td>144.000000</td>\n",
       "      <td>144.000000</td>\n",
       "      <td>144.000000</td>\n",
       "      <td>144.000000</td>\n",
       "      <td>144.000000</td>\n",
       "      <td>144.000000</td>\n",
       "      <td>144.000000</td>\n",
       "      <td>144.000000</td>\n",
       "      <td>144.000000</td>\n",
       "      <td>144.000000</td>\n",
       "    </tr>\n",
       "    <tr>\n",
       "      <th>mean</th>\n",
       "      <td>1.527778</td>\n",
       "      <td>131.472222</td>\n",
       "      <td>0.694444</td>\n",
       "      <td>0.166667</td>\n",
       "      <td>1.006944</td>\n",
       "      <td>246.409722</td>\n",
       "      <td>0.960417</td>\n",
       "      <td>0.673611</td>\n",
       "      <td>55.020833</td>\n",
       "      <td>149.694444</td>\n",
       "      <td>0.326389</td>\n",
       "    </tr>\n",
       "    <tr>\n",
       "      <th>std</th>\n",
       "      <td>0.636253</td>\n",
       "      <td>17.078160</td>\n",
       "      <td>0.977207</td>\n",
       "      <td>0.373979</td>\n",
       "      <td>0.999976</td>\n",
       "      <td>47.140827</td>\n",
       "      <td>1.109981</td>\n",
       "      <td>0.470528</td>\n",
       "      <td>9.004637</td>\n",
       "      <td>22.091443</td>\n",
       "      <td>0.470528</td>\n",
       "    </tr>\n",
       "    <tr>\n",
       "      <th>min</th>\n",
       "      <td>1.000000</td>\n",
       "      <td>94.000000</td>\n",
       "      <td>0.000000</td>\n",
       "      <td>0.000000</td>\n",
       "      <td>0.000000</td>\n",
       "      <td>126.000000</td>\n",
       "      <td>0.000000</td>\n",
       "      <td>0.000000</td>\n",
       "      <td>34.000000</td>\n",
       "      <td>96.000000</td>\n",
       "      <td>0.000000</td>\n",
       "    </tr>\n",
       "    <tr>\n",
       "      <th>25%</th>\n",
       "      <td>1.000000</td>\n",
       "      <td>120.000000</td>\n",
       "      <td>0.000000</td>\n",
       "      <td>0.000000</td>\n",
       "      <td>0.000000</td>\n",
       "      <td>212.750000</td>\n",
       "      <td>0.000000</td>\n",
       "      <td>0.000000</td>\n",
       "      <td>48.750000</td>\n",
       "      <td>136.250000</td>\n",
       "      <td>0.000000</td>\n",
       "    </tr>\n",
       "    <tr>\n",
       "      <th>50%</th>\n",
       "      <td>1.000000</td>\n",
       "      <td>130.000000</td>\n",
       "      <td>0.000000</td>\n",
       "      <td>0.000000</td>\n",
       "      <td>1.500000</td>\n",
       "      <td>245.500000</td>\n",
       "      <td>0.600000</td>\n",
       "      <td>1.000000</td>\n",
       "      <td>56.000000</td>\n",
       "      <td>152.500000</td>\n",
       "      <td>0.000000</td>\n",
       "    </tr>\n",
       "    <tr>\n",
       "      <th>75%</th>\n",
       "      <td>2.000000</td>\n",
       "      <td>140.000000</td>\n",
       "      <td>1.000000</td>\n",
       "      <td>0.000000</td>\n",
       "      <td>2.000000</td>\n",
       "      <td>277.000000</td>\n",
       "      <td>1.525000</td>\n",
       "      <td>1.000000</td>\n",
       "      <td>62.000000</td>\n",
       "      <td>166.250000</td>\n",
       "      <td>1.000000</td>\n",
       "    </tr>\n",
       "    <tr>\n",
       "      <th>max</th>\n",
       "      <td>3.000000</td>\n",
       "      <td>180.000000</td>\n",
       "      <td>3.000000</td>\n",
       "      <td>1.000000</td>\n",
       "      <td>2.000000</td>\n",
       "      <td>417.000000</td>\n",
       "      <td>6.200000</td>\n",
       "      <td>1.000000</td>\n",
       "      <td>77.000000</td>\n",
       "      <td>192.000000</td>\n",
       "      <td>1.000000</td>\n",
       "    </tr>\n",
       "  </tbody>\n",
       "</table>\n",
       "</div>"
      ],
      "text/plain": [
       "       slope_of_peak_exercise_st_segment  resting_blood_pressure  \\\n",
       "count                         144.000000              144.000000   \n",
       "mean                            1.527778              131.472222   \n",
       "std                             0.636253               17.078160   \n",
       "min                             1.000000               94.000000   \n",
       "25%                             1.000000              120.000000   \n",
       "50%                             1.000000              130.000000   \n",
       "75%                             2.000000              140.000000   \n",
       "max                             3.000000              180.000000   \n",
       "\n",
       "       num_major_vessels  fasting_blood_sugar_gt_120_mg_per_dl  \\\n",
       "count         144.000000                            144.000000   \n",
       "mean            0.694444                              0.166667   \n",
       "std             0.977207                              0.373979   \n",
       "min             0.000000                              0.000000   \n",
       "25%             0.000000                              0.000000   \n",
       "50%             0.000000                              0.000000   \n",
       "75%             1.000000                              0.000000   \n",
       "max             3.000000                              1.000000   \n",
       "\n",
       "       resting_ekg_results  serum_cholesterol_mg_per_dl  \\\n",
       "count           144.000000                   144.000000   \n",
       "mean              1.006944                   246.409722   \n",
       "std               0.999976                    47.140827   \n",
       "min               0.000000                   126.000000   \n",
       "25%               0.000000                   212.750000   \n",
       "50%               1.500000                   245.500000   \n",
       "75%               2.000000                   277.000000   \n",
       "max               2.000000                   417.000000   \n",
       "\n",
       "       oldpeak_eq_st_depression         sex         age  \\\n",
       "count                144.000000  144.000000  144.000000   \n",
       "mean                   0.960417    0.673611   55.020833   \n",
       "std                    1.109981    0.470528    9.004637   \n",
       "min                    0.000000    0.000000   34.000000   \n",
       "25%                    0.000000    0.000000   48.750000   \n",
       "50%                    0.600000    1.000000   56.000000   \n",
       "75%                    1.525000    1.000000   62.000000   \n",
       "max                    6.200000    1.000000   77.000000   \n",
       "\n",
       "       max_heart_rate_achieved  exercise_induced_angina  \n",
       "count               144.000000               144.000000  \n",
       "mean                149.694444                 0.326389  \n",
       "std                  22.091443                 0.470528  \n",
       "min                  96.000000                 0.000000  \n",
       "25%                 136.250000                 0.000000  \n",
       "50%                 152.500000                 0.000000  \n",
       "75%                 166.250000                 1.000000  \n",
       "max                 192.000000                 1.000000  "
      ]
     },
     "execution_count": 13,
     "metadata": {},
     "output_type": "execute_result"
    }
   ],
   "source": [
    "X_train.describe()"
   ]
  },
  {
   "cell_type": "code",
   "execution_count": 14,
   "metadata": {},
   "outputs": [
    {
     "data": {
      "image/png": "[encoded data removed]",
      "text/plain": [
       "<Figure size 1440x1080 with 12 Axes>"
      ]
     },
     "metadata": {
      "needs_background": "light"
     },
     "output_type": "display_data"
    }
   ],
   "source": [
    "X_train.hist(bins=50, figsize=(20,15),grid=False)\n",
    "plt.show()"
   ]
  },
  {
   "cell_type": "code",
   "execution_count": 15,
   "metadata": {},
   "outputs": [
    {
     "data": {
      "image/png": "[encoded data removed]",
      "text/plain": [
       "<Figure size 432x288 with 1 Axes>"
      ]
     },
     "metadata": {
      "needs_background": "light"
     },
     "output_type": "display_data"
    }
   ],
   "source": [
    "y_train.hist(bins=2,rwidth=.7,grid=False)\n",
    "plt.show()"
   ]
  },
  {
   "cell_type": "code",
   "execution_count": 18,
   "metadata": {},
   "outputs": [],
   "source": [
    "def get_cat_num_labels(df):\n",
    "    num = []\n",
    "    cat = []\n",
    "    for col in df.columns:\n",
    "        if df[col].dtype == 'float64':\n",
    "            num.append(col)\n",
    "        elif df[col].dtype == 'int64':\n",
    "            num.append(col)\n",
    "        else:\n",
    "            cat.append(col)\n",
    "    return num, cat"
   ]
  },
  {
   "cell_type": "code",
   "execution_count": 19,
   "metadata": {},
   "outputs": [],
   "source": [
    "class DataFrameSelector(BaseEstimator, TransformerMixin):\n",
    "    def __init__(self, attribute_names):\n",
    "        self.attribute_names = attribute_names\n",
    "    def fit(self, X, y=None):\n",
    "        return self\n",
    "    def transform(self, X):\n",
    "        return X[self.attribute_names].values"
   ]
  },
  {
   "cell_type": "code",
   "execution_count": 20,
   "metadata": {},
   "outputs": [],
   "source": [
    "num, cat = get_cat_num_labels(X_train)"
   ]
  },
  {
   "cell_type": "code",
   "execution_count": 21,
   "metadata": {},
   "outputs": [
    {
     "data": {
      "text/plain": [
       "['slope_of_peak_exercise_st_segment',\n",
       " 'resting_blood_pressure',\n",
       " 'num_major_vessels',\n",
       " 'fasting_blood_sugar_gt_120_mg_per_dl',\n",
       " 'resting_ekg_results',\n",
       " 'serum_cholesterol_mg_per_dl',\n",
       " 'oldpeak_eq_st_depression',\n",
       " 'sex',\n",
       " 'age',\n",
       " 'max_heart_rate_achieved',\n",
       " 'exercise_induced_angina']"
      ]
     },
     "execution_count": 21,
     "metadata": {},
     "output_type": "execute_result"
    }
   ],
   "source": [
    "num"
   ]
  },
  {
   "cell_type": "code",
   "execution_count": 22,
   "metadata": {},
   "outputs": [
    {
     "data": {
      "text/plain": [
       "['thal', 'chest_pain_type']"
      ]
     },
     "execution_count": 22,
     "metadata": {},
     "output_type": "execute_result"
    }
   ],
   "source": [
    "cat"
   ]
  },
  {
   "cell_type": "code",
   "execution_count": 47,
   "metadata": {},
   "outputs": [],
   "source": [
    "num_pipeline = Pipeline([\n",
    "    ('df_selector',DataFrameSelector(num)),\n",
    "    ('Normalizer', MinMaxScaler(feature_range=(0,1))),\n",
    "])\n",
    "\n",
    "cat_pipeline = Pipeline([\n",
    "    ('df_selector',DataFrameSelector(cat)),\n",
    "    ('ohe', OneHotEncoder(handle_unknown='ignore'))])\n",
    "\n",
    "pipe = Pipeline([('feats',FeatureUnion(transformer_list=[\n",
    "    ('num_pipeline', num_pipeline),\n",
    "    ('cat_pipeline',cat_pipeline),\n",
    "])),\n",
    "                ])\n",
    "\n",
    "poly2_pipe = Pipeline([('feats',FeatureUnion(transformer_list=[\n",
    "    ('num_pipeline', num_pipeline),\n",
    "    ('cat_pipeline',cat_pipeline),\n",
    "])),\n",
    "    ('poly',PolynomialFeatures(2)),\n",
    "                ])\n",
    "\n",
    "poly3_pipe = Pipeline([('feats',FeatureUnion(transformer_list=[\n",
    "    ('num_pipeline', num_pipeline),\n",
    "    ('cat_pipeline',cat_pipeline),\n",
    "])),\n",
    "    ('poly',PolynomialFeatures(3)),\n",
    "                ])\n",
    "\n",
    "poly4_pipe = Pipeline([('feats',FeatureUnion(transformer_list=[\n",
    "    ('num_pipeline', num_pipeline),\n",
    "    ('cat_pipeline',cat_pipeline),\n",
    "])),\n",
    "    ('poly',PolynomialFeatures(4)),\n",
    "                ])"
   ]
  },
  {
   "cell_type": "code",
   "execution_count": 24,
   "metadata": {},
   "outputs": [],
   "source": [
    "corr_matrix = X_train.corr()"
   ]
  },
  {
   "cell_type": "code",
   "execution_count": 25,
   "metadata": {},
   "outputs": [
    {
     "data": {
      "text/html": [
       "<style  type=\"text/css\" >\n",
       "    #T_3ead43f4_5237_11e9_8622_8c8590cfa046row0_col0 {\n",
       "            background-color:  #b40426;\n",
       "        }    #T_3ead43f4_5237_11e9_8622_8c8590cfa046row0_col1 {\n",
       "            background-color:  #7295f4;\n",
       "        }    #T_3ead43f4_5237_11e9_8622_8c8590cfa046row0_col2 {\n",
       "            background-color:  #97b8ff;\n",
       "        }    #T_3ead43f4_5237_11e9_8622_8c8590cfa046row0_col3 {\n",
       "            background-color:  #506bda;\n",
       "        }    #T_3ead43f4_5237_11e9_8622_8c8590cfa046row0_col4 {\n",
       "            background-color:  #8db0fe;\n",
       "        }    #T_3ead43f4_5237_11e9_8622_8c8590cfa046row0_col5 {\n",
       "            background-color:  #5673e0;\n",
       "        }    #T_3ead43f4_5237_11e9_8622_8c8590cfa046row0_col6 {\n",
       "            background-color:  #f7af91;\n",
       "        }    #T_3ead43f4_5237_11e9_8622_8c8590cfa046row0_col7 {\n",
       "            background-color:  #7a9df8;\n",
       "        }    #T_3ead43f4_5237_11e9_8622_8c8590cfa046row0_col8 {\n",
       "            background-color:  #cbd8ee;\n",
       "        }    #T_3ead43f4_5237_11e9_8622_8c8590cfa046row0_col9 {\n",
       "            background-color:  #3b4cc0;\n",
       "        }    #T_3ead43f4_5237_11e9_8622_8c8590cfa046row0_col10 {\n",
       "            background-color:  #cad8ef;\n",
       "        }    #T_3ead43f4_5237_11e9_8622_8c8590cfa046row1_col0 {\n",
       "            background-color:  #b5cdfa;\n",
       "        }    #T_3ead43f4_5237_11e9_8622_8c8590cfa046row1_col1 {\n",
       "            background-color:  #b40426;\n",
       "        }    #T_3ead43f4_5237_11e9_8622_8c8590cfa046row1_col2 {\n",
       "            background-color:  #8db0fe;\n",
       "        }    #T_3ead43f4_5237_11e9_8622_8c8590cfa046row1_col3 {\n",
       "            background-color:  #6384eb;\n",
       "        }    #T_3ead43f4_5237_11e9_8622_8c8590cfa046row1_col4 {\n",
       "            background-color:  #6485ec;\n",
       "        }    #T_3ead43f4_5237_11e9_8622_8c8590cfa046row1_col5 {\n",
       "            background-color:  #9bbcff;\n",
       "        }    #T_3ead43f4_5237_11e9_8622_8c8590cfa046row1_col6 {\n",
       "            background-color:  #cbd8ee;\n",
       "        }    #T_3ead43f4_5237_11e9_8622_8c8590cfa046row1_col7 {\n",
       "            background-color:  #465ecf;\n",
       "        }    #T_3ead43f4_5237_11e9_8622_8c8590cfa046row1_col8 {\n",
       "            background-color:  #d1dae9;\n",
       "        }    #T_3ead43f4_5237_11e9_8622_8c8590cfa046row1_col9 {\n",
       "            background-color:  #90b2fe;\n",
       "        }    #T_3ead43f4_5237_11e9_8622_8c8590cfa046row1_col10 {\n",
       "            background-color:  #b1cbfc;\n",
       "        }    #T_3ead43f4_5237_11e9_8622_8c8590cfa046row2_col0 {\n",
       "            background-color:  #aec9fc;\n",
       "        }    #T_3ead43f4_5237_11e9_8622_8c8590cfa046row2_col1 {\n",
       "            background-color:  #5e7de7;\n",
       "        }    #T_3ead43f4_5237_11e9_8622_8c8590cfa046row2_col2 {\n",
       "            background-color:  #b40426;\n",
       "        }    #T_3ead43f4_5237_11e9_8622_8c8590cfa046row2_col3 {\n",
       "            background-color:  #7597f6;\n",
       "        }    #T_3ead43f4_5237_11e9_8622_8c8590cfa046row2_col4 {\n",
       "            background-color:  #799cf8;\n",
       "        }    #T_3ead43f4_5237_11e9_8622_8c8590cfa046row2_col5 {\n",
       "            background-color:  #8badfd;\n",
       "        }    #T_3ead43f4_5237_11e9_8622_8c8590cfa046row2_col6 {\n",
       "            background-color:  #c4d5f3;\n",
       "        }    #T_3ead43f4_5237_11e9_8622_8c8590cfa046row2_col7 {\n",
       "            background-color:  #7597f6;\n",
       "        }    #T_3ead43f4_5237_11e9_8622_8c8590cfa046row2_col8 {\n",
       "            background-color:  #e6d7cf;\n",
       "        }    #T_3ead43f4_5237_11e9_8622_8c8590cfa046row2_col9 {\n",
       "            background-color:  #5673e0;\n",
       "        }    #T_3ead43f4_5237_11e9_8622_8c8590cfa046row2_col10 {\n",
       "            background-color:  #c7d7f0;\n",
       "        }    #T_3ead43f4_5237_11e9_8622_8c8590cfa046row3_col0 {\n",
       "            background-color:  #aec9fc;\n",
       "        }    #T_3ead43f4_5237_11e9_8622_8c8590cfa046row3_col1 {\n",
       "            background-color:  #7b9ff9;\n",
       "        }    #T_3ead43f4_5237_11e9_8622_8c8590cfa046row3_col2 {\n",
       "            background-color:  #b5cdfa;\n",
       "        }    #T_3ead43f4_5237_11e9_8622_8c8590cfa046row3_col3 {\n",
       "            background-color:  #b40426;\n",
       "        }    #T_3ead43f4_5237_11e9_8622_8c8590cfa046row3_col4 {\n",
       "            background-color:  #5b7ae5;\n",
       "        }    #T_3ead43f4_5237_11e9_8622_8c8590cfa046row3_col5 {\n",
       "            background-color:  #6687ed;\n",
       "        }    #T_3ead43f4_5237_11e9_8622_8c8590cfa046row3_col6 {\n",
       "            background-color:  #8badfd;\n",
       "        }    #T_3ead43f4_5237_11e9_8622_8c8590cfa046row3_col7 {\n",
       "            background-color:  #82a6fb;\n",
       "        }    #T_3ead43f4_5237_11e9_8622_8c8590cfa046row3_col8 {\n",
       "            background-color:  #b5cdfa;\n",
       "        }    #T_3ead43f4_5237_11e9_8622_8c8590cfa046row3_col9 {\n",
       "            background-color:  #b1cbfc;\n",
       "        }    #T_3ead43f4_5237_11e9_8622_8c8590cfa046row3_col10 {\n",
       "            background-color:  #98b9ff;\n",
       "        }    #T_3ead43f4_5237_11e9_8622_8c8590cfa046row4_col0 {\n",
       "            background-color:  #c3d5f4;\n",
       "        }    #T_3ead43f4_5237_11e9_8622_8c8590cfa046row4_col1 {\n",
       "            background-color:  #5d7ce6;\n",
       "        }    #T_3ead43f4_5237_11e9_8622_8c8590cfa046row4_col2 {\n",
       "            background-color:  #9ebeff;\n",
       "        }    #T_3ead43f4_5237_11e9_8622_8c8590cfa046row4_col3 {\n",
       "            background-color:  #3b4cc0;\n",
       "        }    #T_3ead43f4_5237_11e9_8622_8c8590cfa046row4_col4 {\n",
       "            background-color:  #b40426;\n",
       "        }    #T_3ead43f4_5237_11e9_8622_8c8590cfa046row4_col5 {\n",
       "            background-color:  #92b4fe;\n",
       "        }    #T_3ead43f4_5237_11e9_8622_8c8590cfa046row4_col6 {\n",
       "            background-color:  #afcafc;\n",
       "        }    #T_3ead43f4_5237_11e9_8622_8c8590cfa046row4_col7 {\n",
       "            background-color:  #7da0f9;\n",
       "        }    #T_3ead43f4_5237_11e9_8622_8c8590cfa046row4_col8 {\n",
       "            background-color:  #b3cdfb;\n",
       "        }    #T_3ead43f4_5237_11e9_8622_8c8590cfa046row4_col9 {\n",
       "            background-color:  #80a3fa;\n",
       "        }    #T_3ead43f4_5237_11e9_8622_8c8590cfa046row4_col10 {\n",
       "            background-color:  #abc8fd;\n",
       "        }    #T_3ead43f4_5237_11e9_8622_8c8590cfa046row5_col0 {\n",
       "            background-color:  #93b5fe;\n",
       "        }    #T_3ead43f4_5237_11e9_8622_8c8590cfa046row5_col1 {\n",
       "            background-color:  #8fb1fe;\n",
       "        }    #T_3ead43f4_5237_11e9_8622_8c8590cfa046row5_col2 {\n",
       "            background-color:  #a9c6fd;\n",
       "        }    #T_3ead43f4_5237_11e9_8622_8c8590cfa046row5_col3 {\n",
       "            background-color:  #3f53c6;\n",
       "        }    #T_3ead43f4_5237_11e9_8622_8c8590cfa046row5_col4 {\n",
       "            background-color:  #8db0fe;\n",
       "        }    #T_3ead43f4_5237_11e9_8622_8c8590cfa046row5_col5 {\n",
       "            background-color:  #b40426;\n",
       "        }    #T_3ead43f4_5237_11e9_8622_8c8590cfa046row5_col6 {\n",
       "            background-color:  #81a4fb;\n",
       "        }    #T_3ead43f4_5237_11e9_8622_8c8590cfa046row5_col7 {\n",
       "            background-color:  #3f53c6;\n",
       "        }    #T_3ead43f4_5237_11e9_8622_8c8590cfa046row5_col8 {\n",
       "            background-color:  #cbd8ee;\n",
       "        }    #T_3ead43f4_5237_11e9_8622_8c8590cfa046row5_col9 {\n",
       "            background-color:  #7a9df8;\n",
       "        }    #T_3ead43f4_5237_11e9_8622_8c8590cfa046row5_col10 {\n",
       "            background-color:  #bfd3f6;\n",
       "        }    #T_3ead43f4_5237_11e9_8622_8c8590cfa046row6_col0 {\n",
       "            background-color:  #f7a889;\n",
       "        }    #T_3ead43f4_5237_11e9_8622_8c8590cfa046row6_col1 {\n",
       "            background-color:  #a5c3fe;\n",
       "        }    #T_3ead43f4_5237_11e9_8622_8c8590cfa046row6_col2 {\n",
       "            background-color:  #c0d4f5;\n",
       "        }    #T_3ead43f4_5237_11e9_8622_8c8590cfa046row6_col3 {\n",
       "            background-color:  #3c4ec2;\n",
       "        }    #T_3ead43f4_5237_11e9_8622_8c8590cfa046row6_col4 {\n",
       "            background-color:  #88abfd;\n",
       "        }    #T_3ead43f4_5237_11e9_8622_8c8590cfa046row6_col5 {\n",
       "            background-color:  #5875e1;\n",
       "        }    #T_3ead43f4_5237_11e9_8622_8c8590cfa046row6_col6 {\n",
       "            background-color:  #b40426;\n",
       "        }    #T_3ead43f4_5237_11e9_8622_8c8590cfa046row6_col7 {\n",
       "            background-color:  #7295f4;\n",
       "        }    #T_3ead43f4_5237_11e9_8622_8c8590cfa046row6_col8 {\n",
       "            background-color:  #d2dbe8;\n",
       "        }    #T_3ead43f4_5237_11e9_8622_8c8590cfa046row6_col9 {\n",
       "            background-color:  #516ddb;\n",
       "        }    #T_3ead43f4_5237_11e9_8622_8c8590cfa046row6_col10 {\n",
       "            background-color:  #c5d6f2;\n",
       "        }    #T_3ead43f4_5237_11e9_8622_8c8590cfa046row7_col0 {\n",
       "            background-color:  #b3cdfb;\n",
       "        }    #T_3ead43f4_5237_11e9_8622_8c8590cfa046row7_col1 {\n",
       "            background-color:  #3b4cc0;\n",
       "        }    #T_3ead43f4_5237_11e9_8622_8c8590cfa046row7_col2 {\n",
       "            background-color:  #98b9ff;\n",
       "        }    #T_3ead43f4_5237_11e9_8622_8c8590cfa046row7_col3 {\n",
       "            background-color:  #5e7de7;\n",
       "        }    #T_3ead43f4_5237_11e9_8622_8c8590cfa046row7_col4 {\n",
       "            background-color:  #799cf8;\n",
       "        }    #T_3ead43f4_5237_11e9_8622_8c8590cfa046row7_col5 {\n",
       "            background-color:  #4257c9;\n",
       "        }    #T_3ead43f4_5237_11e9_8622_8c8590cfa046row7_col6 {\n",
       "            background-color:  #9abbff;\n",
       "        }    #T_3ead43f4_5237_11e9_8622_8c8590cfa046row7_col7 {\n",
       "            background-color:  #b40426;\n",
       "        }    #T_3ead43f4_5237_11e9_8622_8c8590cfa046row7_col8 {\n",
       "            background-color:  #7b9ff9;\n",
       "        }    #T_3ead43f4_5237_11e9_8622_8c8590cfa046row7_col9 {\n",
       "            background-color:  #96b7ff;\n",
       "        }    #T_3ead43f4_5237_11e9_8622_8c8590cfa046row7_col10 {\n",
       "            background-color:  #cedaeb;\n",
       "        }    #T_3ead43f4_5237_11e9_8622_8c8590cfa046row8_col0 {\n",
       "            background-color:  #cbd8ee;\n",
       "        }    #T_3ead43f4_5237_11e9_8622_8c8590cfa046row8_col1 {\n",
       "            background-color:  #9abbff;\n",
       "        }    #T_3ead43f4_5237_11e9_8622_8c8590cfa046row8_col2 {\n",
       "            background-color:  #d9dce1;\n",
       "        }    #T_3ead43f4_5237_11e9_8622_8c8590cfa046row8_col3 {\n",
       "            background-color:  #5977e3;\n",
       "        }    #T_3ead43f4_5237_11e9_8622_8c8590cfa046row8_col4 {\n",
       "            background-color:  #7699f6;\n",
       "        }    #T_3ead43f4_5237_11e9_8622_8c8590cfa046row8_col5 {\n",
       "            background-color:  #9dbdff;\n",
       "        }    #T_3ead43f4_5237_11e9_8622_8c8590cfa046row8_col6 {\n",
       "            background-color:  #c5d6f2;\n",
       "        }    #T_3ead43f4_5237_11e9_8622_8c8590cfa046row8_col7 {\n",
       "            background-color:  #3b4cc0;\n",
       "        }    #T_3ead43f4_5237_11e9_8622_8c8590cfa046row8_col8 {\n",
       "            background-color:  #b40426;\n",
       "        }    #T_3ead43f4_5237_11e9_8622_8c8590cfa046row8_col9 {\n",
       "            background-color:  #3b4cc0;\n",
       "        }    #T_3ead43f4_5237_11e9_8622_8c8590cfa046row8_col10 {\n",
       "            background-color:  #b2ccfb;\n",
       "        }    #T_3ead43f4_5237_11e9_8622_8c8590cfa046row9_col0 {\n",
       "            background-color:  #3b4cc0;\n",
       "        }    #T_3ead43f4_5237_11e9_8622_8c8590cfa046row9_col1 {\n",
       "            background-color:  #445acc;\n",
       "        }    #T_3ead43f4_5237_11e9_8622_8c8590cfa046row9_col2 {\n",
       "            background-color:  #3b4cc0;\n",
       "        }    #T_3ead43f4_5237_11e9_8622_8c8590cfa046row9_col3 {\n",
       "            background-color:  #536edd;\n",
       "        }    #T_3ead43f4_5237_11e9_8622_8c8590cfa046row9_col4 {\n",
       "            background-color:  #3b4cc0;\n",
       "        }    #T_3ead43f4_5237_11e9_8622_8c8590cfa046row9_col5 {\n",
       "            background-color:  #3b4cc0;\n",
       "        }    #T_3ead43f4_5237_11e9_8622_8c8590cfa046row9_col6 {\n",
       "            background-color:  #3b4cc0;\n",
       "        }    #T_3ead43f4_5237_11e9_8622_8c8590cfa046row9_col7 {\n",
       "            background-color:  #5673e0;\n",
       "        }    #T_3ead43f4_5237_11e9_8622_8c8590cfa046row9_col8 {\n",
       "            background-color:  #3b4cc0;\n",
       "        }    #T_3ead43f4_5237_11e9_8622_8c8590cfa046row9_col9 {\n",
       "            background-color:  #b40426;\n",
       "        }    #T_3ead43f4_5237_11e9_8622_8c8590cfa046row9_col10 {\n",
       "            background-color:  #3b4cc0;\n",
       "        }    #T_3ead43f4_5237_11e9_8622_8c8590cfa046row10_col0 {\n",
       "            background-color:  #cedaeb;\n",
       "        }    #T_3ead43f4_5237_11e9_8622_8c8590cfa046row10_col1 {\n",
       "            background-color:  #7396f5;\n",
       "        }    #T_3ead43f4_5237_11e9_8622_8c8590cfa046row10_col2 {\n",
       "            background-color:  #bbd1f8;\n",
       "        }    #T_3ead43f4_5237_11e9_8622_8c8590cfa046row10_col3 {\n",
       "            background-color:  #3d50c3;\n",
       "        }    #T_3ead43f4_5237_11e9_8622_8c8590cfa046row10_col4 {\n",
       "            background-color:  #7699f6;\n",
       "        }    #T_3ead43f4_5237_11e9_8622_8c8590cfa046row10_col5 {\n",
       "            background-color:  #93b5fe;\n",
       "        }    #T_3ead43f4_5237_11e9_8622_8c8590cfa046row10_col6 {\n",
       "            background-color:  #bcd2f7;\n",
       "        }    #T_3ead43f4_5237_11e9_8622_8c8590cfa046row10_col7 {\n",
       "            background-color:  #a7c5fe;\n",
       "        }    #T_3ead43f4_5237_11e9_8622_8c8590cfa046row10_col8 {\n",
       "            background-color:  #b7cff9;\n",
       "        }    #T_3ead43f4_5237_11e9_8622_8c8590cfa046row10_col9 {\n",
       "            background-color:  #4358cb;\n",
       "        }    #T_3ead43f4_5237_11e9_8622_8c8590cfa046row10_col10 {\n",
       "            background-color:  #b40426;\n",
       "        }</style>  \n",
       "<table id=\"T_3ead43f4_5237_11e9_8622_8c8590cfa046\" > \n",
       "<thead>    <tr> \n",
       "        <th class=\"blank level0\" ></th> \n",
       "        <th class=\"col_heading level0 col0\" >slope_of_peak_exercise_st_segment</th> \n",
       "        <th class=\"col_heading level0 col1\" >resting_blood_pressure</th> \n",
       "        <th class=\"col_heading level0 col2\" >num_major_vessels</th> \n",
       "        <th class=\"col_heading level0 col3\" >fasting_blood_sugar_gt_120_mg_per_dl</th> \n",
       "        <th class=\"col_heading level0 col4\" >resting_ekg_results</th> \n",
       "        <th class=\"col_heading level0 col5\" >serum_cholesterol_mg_per_dl</th> \n",
       "        <th class=\"col_heading level0 col6\" >oldpeak_eq_st_depression</th> \n",
       "        <th class=\"col_heading level0 col7\" >sex</th> \n",
       "        <th class=\"col_heading level0 col8\" >age</th> \n",
       "        <th class=\"col_heading level0 col9\" >max_heart_rate_achieved</th> \n",
       "        <th class=\"col_heading level0 col10\" >exercise_induced_angina</th> \n",
       "    </tr></thead> \n",
       "<tbody>    <tr> \n",
       "        <th id=\"T_3ead43f4_5237_11e9_8622_8c8590cfa046level0_row0\" class=\"row_heading level0 row0\" >slope_of_peak_exercise_st_segment</th> \n",
       "        <td id=\"T_3ead43f4_5237_11e9_8622_8c8590cfa046row0_col0\" class=\"data row0 col0\" >1</td> \n",
       "        <td id=\"T_3ead43f4_5237_11e9_8622_8c8590cfa046row0_col1\" class=\"data row0 col1\" >0.1</td> \n",
       "        <td id=\"T_3ead43f4_5237_11e9_8622_8c8590cfa046row0_col2\" class=\"data row0 col2\" >0.07</td> \n",
       "        <td id=\"T_3ead43f4_5237_11e9_8622_8c8590cfa046row0_col3\" class=\"data row0 col3\" >0.069</td> \n",
       "        <td id=\"T_3ead43f4_5237_11e9_8622_8c8590cfa046row0_col4\" class=\"data row0 col4\" >0.16</td> \n",
       "        <td id=\"T_3ead43f4_5237_11e9_8622_8c8590cfa046row0_col5\" class=\"data row0 col5\" >-0.039</td> \n",
       "        <td id=\"T_3ead43f4_5237_11e9_8622_8c8590cfa046row0_col6\" class=\"data row0 col6\" >0.59</td> \n",
       "        <td id=\"T_3ead43f4_5237_11e9_8622_8c8590cfa046row0_col7\" class=\"data row0 col7\" >0.089</td> \n",
       "        <td id=\"T_3ead43f4_5237_11e9_8622_8c8590cfa046row0_col8\" class=\"data row0 col8\" >0.19</td> \n",
       "        <td id=\"T_3ead43f4_5237_11e9_8622_8c8590cfa046row0_col9\" class=\"data row0 col9\" >-0.42</td> \n",
       "        <td id=\"T_3ead43f4_5237_11e9_8622_8c8590cfa046row0_col10\" class=\"data row0 col10\" >0.21</td> \n",
       "    </tr>    <tr> \n",
       "        <th id=\"T_3ead43f4_5237_11e9_8622_8c8590cfa046level0_row1\" class=\"row_heading level0 row1\" >resting_blood_pressure</th> \n",
       "        <td id=\"T_3ead43f4_5237_11e9_8622_8c8590cfa046row1_col0\" class=\"data row1 col0\" >0.1</td> \n",
       "        <td id=\"T_3ead43f4_5237_11e9_8622_8c8590cfa046row1_col1\" class=\"data row1 col1\" >1</td> \n",
       "        <td id=\"T_3ead43f4_5237_11e9_8622_8c8590cfa046row1_col2\" class=\"data row1 col2\" >0.033</td> \n",
       "        <td id=\"T_3ead43f4_5237_11e9_8622_8c8590cfa046row1_col3\" class=\"data row1 col3\" >0.13</td> \n",
       "        <td id=\"T_3ead43f4_5237_11e9_8622_8c8590cfa046row1_col4\" class=\"data row1 col4\" >0.029</td> \n",
       "        <td id=\"T_3ead43f4_5237_11e9_8622_8c8590cfa046row1_col5\" class=\"data row1 col5\" >0.19</td> \n",
       "        <td id=\"T_3ead43f4_5237_11e9_8622_8c8590cfa046row1_col6\" class=\"data row1 col6\" >0.25</td> \n",
       "        <td id=\"T_3ead43f4_5237_11e9_8622_8c8590cfa046row1_col7\" class=\"data row1 col7\" >-0.091</td> \n",
       "        <td id=\"T_3ead43f4_5237_11e9_8622_8c8590cfa046row1_col8\" class=\"data row1 col8\" >0.22</td> \n",
       "        <td id=\"T_3ead43f4_5237_11e9_8622_8c8590cfa046row1_col9\" class=\"data row1 col9\" >-0.054</td> \n",
       "        <td id=\"T_3ead43f4_5237_11e9_8622_8c8590cfa046row1_col10\" class=\"data row1 col10\" >0.1</td> \n",
       "    </tr>    <tr> \n",
       "        <th id=\"T_3ead43f4_5237_11e9_8622_8c8590cfa046level0_row2\" class=\"row_heading level0 row2\" >num_major_vessels</th> \n",
       "        <td id=\"T_3ead43f4_5237_11e9_8622_8c8590cfa046row2_col0\" class=\"data row2 col0\" >0.07</td> \n",
       "        <td id=\"T_3ead43f4_5237_11e9_8622_8c8590cfa046row2_col1\" class=\"data row2 col1\" >0.033</td> \n",
       "        <td id=\"T_3ead43f4_5237_11e9_8622_8c8590cfa046row2_col2\" class=\"data row2 col2\" >1</td> \n",
       "        <td id=\"T_3ead43f4_5237_11e9_8622_8c8590cfa046row2_col3\" class=\"data row2 col3\" >0.18</td> \n",
       "        <td id=\"T_3ead43f4_5237_11e9_8622_8c8590cfa046row2_col4\" class=\"data row2 col4\" >0.095</td> \n",
       "        <td id=\"T_3ead43f4_5237_11e9_8622_8c8590cfa046row2_col5\" class=\"data row2 col5\" >0.13</td> \n",
       "        <td id=\"T_3ead43f4_5237_11e9_8622_8c8590cfa046row2_col6\" class=\"data row2 col6\" >0.22</td> \n",
       "        <td id=\"T_3ead43f4_5237_11e9_8622_8c8590cfa046row2_col7\" class=\"data row2 col7\" >0.071</td> \n",
       "        <td id=\"T_3ead43f4_5237_11e9_8622_8c8590cfa046row2_col8\" class=\"data row2 col8\" >0.34</td> \n",
       "        <td id=\"T_3ead43f4_5237_11e9_8622_8c8590cfa046row2_col9\" class=\"data row2 col9\" >-0.29</td> \n",
       "        <td id=\"T_3ead43f4_5237_11e9_8622_8c8590cfa046row2_col10\" class=\"data row2 col10\" >0.2</td> \n",
       "    </tr>    <tr> \n",
       "        <th id=\"T_3ead43f4_5237_11e9_8622_8c8590cfa046level0_row3\" class=\"row_heading level0 row3\" >fasting_blood_sugar_gt_120_mg_per_dl</th> \n",
       "        <td id=\"T_3ead43f4_5237_11e9_8622_8c8590cfa046row3_col0\" class=\"data row3 col0\" >0.069</td> \n",
       "        <td id=\"T_3ead43f4_5237_11e9_8622_8c8590cfa046row3_col1\" class=\"data row3 col1\" >0.13</td> \n",
       "        <td id=\"T_3ead43f4_5237_11e9_8622_8c8590cfa046row3_col2\" class=\"data row3 col2\" >0.18</td> \n",
       "        <td id=\"T_3ead43f4_5237_11e9_8622_8c8590cfa046row3_col3\" class=\"data row3 col3\" >1</td> \n",
       "        <td id=\"T_3ead43f4_5237_11e9_8622_8c8590cfa046row3_col4\" class=\"data row3 col4\" >-0.0031</td> \n",
       "        <td id=\"T_3ead43f4_5237_11e9_8622_8c8590cfa046row3_col5\" class=\"data row3 col5\" >0.014</td> \n",
       "        <td id=\"T_3ead43f4_5237_11e9_8622_8c8590cfa046row3_col6\" class=\"data row3 col6\" >0.0042</td> \n",
       "        <td id=\"T_3ead43f4_5237_11e9_8622_8c8590cfa046row3_col7\" class=\"data row3 col7\" >0.11</td> \n",
       "        <td id=\"T_3ead43f4_5237_11e9_8622_8c8590cfa046row3_col8\" class=\"data row3 col8\" >0.097</td> \n",
       "        <td id=\"T_3ead43f4_5237_11e9_8622_8c8590cfa046row3_col9\" class=\"data row3 col9\" >0.076</td> \n",
       "        <td id=\"T_3ead43f4_5237_11e9_8622_8c8590cfa046row3_col10\" class=\"data row3 col10\" >0.0066</td> \n",
       "    </tr>    <tr> \n",
       "        <th id=\"T_3ead43f4_5237_11e9_8622_8c8590cfa046level0_row4\" class=\"row_heading level0 row4\" >resting_ekg_results</th> \n",
       "        <td id=\"T_3ead43f4_5237_11e9_8622_8c8590cfa046row4_col0\" class=\"data row4 col0\" >0.16</td> \n",
       "        <td id=\"T_3ead43f4_5237_11e9_8622_8c8590cfa046row4_col1\" class=\"data row4 col1\" >0.029</td> \n",
       "        <td id=\"T_3ead43f4_5237_11e9_8622_8c8590cfa046row4_col2\" class=\"data row4 col2\" >0.095</td> \n",
       "        <td id=\"T_3ead43f4_5237_11e9_8622_8c8590cfa046row4_col3\" class=\"data row4 col3\" >-0.0031</td> \n",
       "        <td id=\"T_3ead43f4_5237_11e9_8622_8c8590cfa046row4_col4\" class=\"data row4 col4\" >1</td> \n",
       "        <td id=\"T_3ead43f4_5237_11e9_8622_8c8590cfa046row4_col5\" class=\"data row4 col5\" >0.16</td> \n",
       "        <td id=\"T_3ead43f4_5237_11e9_8622_8c8590cfa046row4_col6\" class=\"data row4 col6\" >0.14</td> \n",
       "        <td id=\"T_3ead43f4_5237_11e9_8622_8c8590cfa046row4_col7\" class=\"data row4 col7\" >0.094</td> \n",
       "        <td id=\"T_3ead43f4_5237_11e9_8622_8c8590cfa046row4_col8\" class=\"data row4 col8\" >0.086</td> \n",
       "        <td id=\"T_3ead43f4_5237_11e9_8622_8c8590cfa046row4_col9\" class=\"data row4 col9\" >-0.12</td> \n",
       "        <td id=\"T_3ead43f4_5237_11e9_8622_8c8590cfa046row4_col10\" class=\"data row4 col10\" >0.084</td> \n",
       "    </tr>    <tr> \n",
       "        <th id=\"T_3ead43f4_5237_11e9_8622_8c8590cfa046level0_row5\" class=\"row_heading level0 row5\" >serum_cholesterol_mg_per_dl</th> \n",
       "        <td id=\"T_3ead43f4_5237_11e9_8622_8c8590cfa046row5_col0\" class=\"data row5 col0\" >-0.039</td> \n",
       "        <td id=\"T_3ead43f4_5237_11e9_8622_8c8590cfa046row5_col1\" class=\"data row5 col1\" >0.19</td> \n",
       "        <td id=\"T_3ead43f4_5237_11e9_8622_8c8590cfa046row5_col2\" class=\"data row5 col2\" >0.13</td> \n",
       "        <td id=\"T_3ead43f4_5237_11e9_8622_8c8590cfa046row5_col3\" class=\"data row5 col3\" >0.014</td> \n",
       "        <td id=\"T_3ead43f4_5237_11e9_8622_8c8590cfa046row5_col4\" class=\"data row5 col4\" >0.16</td> \n",
       "        <td id=\"T_3ead43f4_5237_11e9_8622_8c8590cfa046row5_col5\" class=\"data row5 col5\" >1</td> \n",
       "        <td id=\"T_3ead43f4_5237_11e9_8622_8c8590cfa046row5_col6\" class=\"data row5 col6\" >-0.035</td> \n",
       "        <td id=\"T_3ead43f4_5237_11e9_8622_8c8590cfa046row5_col7\" class=\"data row5 col7\" >-0.12</td> \n",
       "        <td id=\"T_3ead43f4_5237_11e9_8622_8c8590cfa046row5_col8\" class=\"data row5 col8\" >0.19</td> \n",
       "        <td id=\"T_3ead43f4_5237_11e9_8622_8c8590cfa046row5_col9\" class=\"data row5 col9\" >-0.14</td> \n",
       "        <td id=\"T_3ead43f4_5237_11e9_8622_8c8590cfa046row5_col10\" class=\"data row5 col10\" >0.16</td> \n",
       "    </tr>    <tr> \n",
       "        <th id=\"T_3ead43f4_5237_11e9_8622_8c8590cfa046level0_row6\" class=\"row_heading level0 row6\" >oldpeak_eq_st_depression</th> \n",
       "        <td id=\"T_3ead43f4_5237_11e9_8622_8c8590cfa046row6_col0\" class=\"data row6 col0\" >0.59</td> \n",
       "        <td id=\"T_3ead43f4_5237_11e9_8622_8c8590cfa046row6_col1\" class=\"data row6 col1\" >0.25</td> \n",
       "        <td id=\"T_3ead43f4_5237_11e9_8622_8c8590cfa046row6_col2\" class=\"data row6 col2\" >0.22</td> \n",
       "        <td id=\"T_3ead43f4_5237_11e9_8622_8c8590cfa046row6_col3\" class=\"data row6 col3\" >0.0042</td> \n",
       "        <td id=\"T_3ead43f4_5237_11e9_8622_8c8590cfa046row6_col4\" class=\"data row6 col4\" >0.14</td> \n",
       "        <td id=\"T_3ead43f4_5237_11e9_8622_8c8590cfa046row6_col5\" class=\"data row6 col5\" >-0.035</td> \n",
       "        <td id=\"T_3ead43f4_5237_11e9_8622_8c8590cfa046row6_col6\" class=\"data row6 col6\" >1</td> \n",
       "        <td id=\"T_3ead43f4_5237_11e9_8622_8c8590cfa046row6_col7\" class=\"data row6 col7\" >0.059</td> \n",
       "        <td id=\"T_3ead43f4_5237_11e9_8622_8c8590cfa046row6_col8\" class=\"data row6 col8\" >0.23</td> \n",
       "        <td id=\"T_3ead43f4_5237_11e9_8622_8c8590cfa046row6_col9\" class=\"data row6 col9\" >-0.32</td> \n",
       "        <td id=\"T_3ead43f4_5237_11e9_8622_8c8590cfa046row6_col10\" class=\"data row6 col10\" >0.19</td> \n",
       "    </tr>    <tr> \n",
       "        <th id=\"T_3ead43f4_5237_11e9_8622_8c8590cfa046level0_row7\" class=\"row_heading level0 row7\" >sex</th> \n",
       "        <td id=\"T_3ead43f4_5237_11e9_8622_8c8590cfa046row7_col0\" class=\"data row7 col0\" >0.089</td> \n",
       "        <td id=\"T_3ead43f4_5237_11e9_8622_8c8590cfa046row7_col1\" class=\"data row7 col1\" >-0.091</td> \n",
       "        <td id=\"T_3ead43f4_5237_11e9_8622_8c8590cfa046row7_col2\" class=\"data row7 col2\" >0.071</td> \n",
       "        <td id=\"T_3ead43f4_5237_11e9_8622_8c8590cfa046row7_col3\" class=\"data row7 col3\" >0.11</td> \n",
       "        <td id=\"T_3ead43f4_5237_11e9_8622_8c8590cfa046row7_col4\" class=\"data row7 col4\" >0.094</td> \n",
       "        <td id=\"T_3ead43f4_5237_11e9_8622_8c8590cfa046row7_col5\" class=\"data row7 col5\" >-0.12</td> \n",
       "        <td id=\"T_3ead43f4_5237_11e9_8622_8c8590cfa046row7_col6\" class=\"data row7 col6\" >0.059</td> \n",
       "        <td id=\"T_3ead43f4_5237_11e9_8622_8c8590cfa046row7_col7\" class=\"data row7 col7\" >1</td> \n",
       "        <td id=\"T_3ead43f4_5237_11e9_8622_8c8590cfa046row7_col8\" class=\"data row7 col8\" >-0.14</td> \n",
       "        <td id=\"T_3ead43f4_5237_11e9_8622_8c8590cfa046row7_col9\" class=\"data row7 col9\" >-0.031</td> \n",
       "        <td id=\"T_3ead43f4_5237_11e9_8622_8c8590cfa046row7_col10\" class=\"data row7 col10\" >0.23</td> \n",
       "    </tr>    <tr> \n",
       "        <th id=\"T_3ead43f4_5237_11e9_8622_8c8590cfa046level0_row8\" class=\"row_heading level0 row8\" >age</th> \n",
       "        <td id=\"T_3ead43f4_5237_11e9_8622_8c8590cfa046row8_col0\" class=\"data row8 col0\" >0.19</td> \n",
       "        <td id=\"T_3ead43f4_5237_11e9_8622_8c8590cfa046row8_col1\" class=\"data row8 col1\" >0.22</td> \n",
       "        <td id=\"T_3ead43f4_5237_11e9_8622_8c8590cfa046row8_col2\" class=\"data row8 col2\" >0.34</td> \n",
       "        <td id=\"T_3ead43f4_5237_11e9_8622_8c8590cfa046row8_col3\" class=\"data row8 col3\" >0.097</td> \n",
       "        <td id=\"T_3ead43f4_5237_11e9_8622_8c8590cfa046row8_col4\" class=\"data row8 col4\" >0.086</td> \n",
       "        <td id=\"T_3ead43f4_5237_11e9_8622_8c8590cfa046row8_col5\" class=\"data row8 col5\" >0.19</td> \n",
       "        <td id=\"T_3ead43f4_5237_11e9_8622_8c8590cfa046row8_col6\" class=\"data row8 col6\" >0.23</td> \n",
       "        <td id=\"T_3ead43f4_5237_11e9_8622_8c8590cfa046row8_col7\" class=\"data row8 col7\" >-0.14</td> \n",
       "        <td id=\"T_3ead43f4_5237_11e9_8622_8c8590cfa046row8_col8\" class=\"data row8 col8\" >1</td> \n",
       "        <td id=\"T_3ead43f4_5237_11e9_8622_8c8590cfa046row8_col9\" class=\"data row8 col9\" >-0.43</td> \n",
       "        <td id=\"T_3ead43f4_5237_11e9_8622_8c8590cfa046row8_col10\" class=\"data row8 col10\" >0.11</td> \n",
       "    </tr>    <tr> \n",
       "        <th id=\"T_3ead43f4_5237_11e9_8622_8c8590cfa046level0_row9\" class=\"row_heading level0 row9\" >max_heart_rate_achieved</th> \n",
       "        <td id=\"T_3ead43f4_5237_11e9_8622_8c8590cfa046row9_col0\" class=\"data row9 col0\" >-0.42</td> \n",
       "        <td id=\"T_3ead43f4_5237_11e9_8622_8c8590cfa046row9_col1\" class=\"data row9 col1\" >-0.054</td> \n",
       "        <td id=\"T_3ead43f4_5237_11e9_8622_8c8590cfa046row9_col2\" class=\"data row9 col2\" >-0.29</td> \n",
       "        <td id=\"T_3ead43f4_5237_11e9_8622_8c8590cfa046row9_col3\" class=\"data row9 col3\" >0.076</td> \n",
       "        <td id=\"T_3ead43f4_5237_11e9_8622_8c8590cfa046row9_col4\" class=\"data row9 col4\" >-0.12</td> \n",
       "        <td id=\"T_3ead43f4_5237_11e9_8622_8c8590cfa046row9_col5\" class=\"data row9 col5\" >-0.14</td> \n",
       "        <td id=\"T_3ead43f4_5237_11e9_8622_8c8590cfa046row9_col6\" class=\"data row9 col6\" >-0.32</td> \n",
       "        <td id=\"T_3ead43f4_5237_11e9_8622_8c8590cfa046row9_col7\" class=\"data row9 col7\" >-0.031</td> \n",
       "        <td id=\"T_3ead43f4_5237_11e9_8622_8c8590cfa046row9_col8\" class=\"data row9 col8\" >-0.43</td> \n",
       "        <td id=\"T_3ead43f4_5237_11e9_8622_8c8590cfa046row9_col9\" class=\"data row9 col9\" >1</td> \n",
       "        <td id=\"T_3ead43f4_5237_11e9_8622_8c8590cfa046row9_col10\" class=\"data row9 col10\" >-0.39</td> \n",
       "    </tr>    <tr> \n",
       "        <th id=\"T_3ead43f4_5237_11e9_8622_8c8590cfa046level0_row10\" class=\"row_heading level0 row10\" >exercise_induced_angina</th> \n",
       "        <td id=\"T_3ead43f4_5237_11e9_8622_8c8590cfa046row10_col0\" class=\"data row10 col0\" >0.21</td> \n",
       "        <td id=\"T_3ead43f4_5237_11e9_8622_8c8590cfa046row10_col1\" class=\"data row10 col1\" >0.1</td> \n",
       "        <td id=\"T_3ead43f4_5237_11e9_8622_8c8590cfa046row10_col2\" class=\"data row10 col2\" >0.2</td> \n",
       "        <td id=\"T_3ead43f4_5237_11e9_8622_8c8590cfa046row10_col3\" class=\"data row10 col3\" >0.0066</td> \n",
       "        <td id=\"T_3ead43f4_5237_11e9_8622_8c8590cfa046row10_col4\" class=\"data row10 col4\" >0.084</td> \n",
       "        <td id=\"T_3ead43f4_5237_11e9_8622_8c8590cfa046row10_col5\" class=\"data row10 col5\" >0.16</td> \n",
       "        <td id=\"T_3ead43f4_5237_11e9_8622_8c8590cfa046row10_col6\" class=\"data row10 col6\" >0.19</td> \n",
       "        <td id=\"T_3ead43f4_5237_11e9_8622_8c8590cfa046row10_col7\" class=\"data row10 col7\" >0.23</td> \n",
       "        <td id=\"T_3ead43f4_5237_11e9_8622_8c8590cfa046row10_col8\" class=\"data row10 col8\" >0.11</td> \n",
       "        <td id=\"T_3ead43f4_5237_11e9_8622_8c8590cfa046row10_col9\" class=\"data row10 col9\" >-0.39</td> \n",
       "        <td id=\"T_3ead43f4_5237_11e9_8622_8c8590cfa046row10_col10\" class=\"data row10 col10\" >1</td> \n",
       "    </tr></tbody> \n",
       "</table> "
      ],
      "text/plain": [
       "<pandas.io.formats.style.Styler at 0x1a19864390>"
      ]
     },
     "execution_count": 25,
     "metadata": {},
     "output_type": "execute_result"
    }
   ],
   "source": [
    "corr_matrix.style.background_gradient(cmap='coolwarm').set_precision(2)"
   ]
  },
  {
   "cell_type": "code",
   "execution_count": 26,
   "metadata": {},
   "outputs": [],
   "source": [
    "y_train = y_train['heart_disease_present'].values"
   ]
  },
  {
   "cell_type": "code",
   "execution_count": 39,
   "metadata": {},
   "outputs": [],
   "source": [
    "X_train1 = pipe.fit_transform(X_train)"
   ]
  },
  {
   "cell_type": "code",
   "execution_count": 35,
   "metadata": {},
   "outputs": [],
   "source": [
    "X_train2 = poly2_pipe.fit_transform(X_train)"
   ]
  },
  {
   "cell_type": "code",
   "execution_count": 36,
   "metadata": {},
   "outputs": [],
   "source": [
    "X_train3 = poly3_pipe.fit_transform(X_train)"
   ]
  },
  {
   "cell_type": "code",
   "execution_count": 48,
   "metadata": {},
   "outputs": [],
   "source": [
    "X_train4 = poly4_pipe.fit_transform(X_train)"
   ]
  },
  {
   "cell_type": "markdown",
   "metadata": {},
   "source": [
    "### Model Evaluation"
   ]
  },
  {
   "cell_type": "code",
   "execution_count": 28,
   "metadata": {},
   "outputs": [],
   "source": [
    "model_dict = {\n",
    "    'SGD':SGDClassifier(max_iter=1000,tol=0.001,random_state=42),\n",
    "    'Logistic Regression':LogisticRegression(solver='lbfgs',random_state=42),\n",
    "    'Decision Tree':DecisionTreeClassifier(random_state=42),\n",
    "    'SVC':SVC(gamma='auto',random_state=42),\n",
    "    'SVC Poly':SVC(kernel='poly',gamma='auto',random_state=42),\n",
    "    'KNN':KNeighborsClassifier(),\n",
    "    'Forest':RandomForestClassifier(n_estimators=100,random_state=42),\n",
    "    'Extra Trees':ExtraTreesClassifier(n_estimators=1000,random_state=42),\n",
    "    'Adaboost':AdaBoostClassifier(random_state=42),\n",
    "    'XGBoost':XGBClassifier()\n",
    "}"
   ]
  },
  {
   "cell_type": "code",
   "execution_count": 30,
   "metadata": {},
   "outputs": [],
   "source": [
    "def model_eval(X, y, model_dict=model_dict, cv=5, scoring=\"roc_auc\"):\n",
    "    scores_df = pd.DataFrame()\n",
    "    for model in model_dict:\n",
    "        cvs = cross_val_score(model_dict[model], X, y, cv=cv, scoring=scoring)\n",
    "        scores_df[model] = cvs\n",
    "    return scores_df"
   ]
  },
  {
   "cell_type": "code",
   "execution_count": 40,
   "metadata": {},
   "outputs": [
    {
     "data": {
      "text/html": [
       "<div>\n",
       "<style scoped>\n",
       "    .dataframe tbody tr th:only-of-type {\n",
       "        vertical-align: middle;\n",
       "    }\n",
       "\n",
       "    .dataframe tbody tr th {\n",
       "        vertical-align: top;\n",
       "    }\n",
       "\n",
       "    .dataframe thead th {\n",
       "        text-align: right;\n",
       "    }\n",
       "</style>\n",
       "<table border=\"1\" class=\"dataframe\">\n",
       "  <thead>\n",
       "    <tr style=\"text-align: right;\">\n",
       "      <th></th>\n",
       "      <th>SGD</th>\n",
       "      <th>Logistic Regression</th>\n",
       "      <th>Decision Tree</th>\n",
       "      <th>SVC</th>\n",
       "      <th>SVC Poly</th>\n",
       "      <th>KNN</th>\n",
       "      <th>Forest</th>\n",
       "      <th>Extra Trees</th>\n",
       "      <th>Adaboost</th>\n",
       "      <th>XGBoost</th>\n",
       "    </tr>\n",
       "  </thead>\n",
       "  <tbody>\n",
       "    <tr>\n",
       "      <th>mean</th>\n",
       "      <td>0.863848</td>\n",
       "      <td>0.890441</td>\n",
       "      <td>0.740564</td>\n",
       "      <td>0.882598</td>\n",
       "      <td>0.889583</td>\n",
       "      <td>0.832659</td>\n",
       "      <td>0.891176</td>\n",
       "      <td>0.878125</td>\n",
       "      <td>0.829902</td>\n",
       "      <td>0.865257</td>\n",
       "    </tr>\n",
       "    <tr>\n",
       "      <th>std</th>\n",
       "      <td>0.068189</td>\n",
       "      <td>0.035344</td>\n",
       "      <td>0.047383</td>\n",
       "      <td>0.037776</td>\n",
       "      <td>0.039522</td>\n",
       "      <td>0.042271</td>\n",
       "      <td>0.044477</td>\n",
       "      <td>0.032545</td>\n",
       "      <td>0.136086</td>\n",
       "      <td>0.069303</td>\n",
       "    </tr>\n",
       "    <tr>\n",
       "      <th>min</th>\n",
       "      <td>0.750000</td>\n",
       "      <td>0.848039</td>\n",
       "      <td>0.693627</td>\n",
       "      <td>0.852941</td>\n",
       "      <td>0.848039</td>\n",
       "      <td>0.786765</td>\n",
       "      <td>0.848039</td>\n",
       "      <td>0.850490</td>\n",
       "      <td>0.598039</td>\n",
       "      <td>0.789216</td>\n",
       "    </tr>\n",
       "    <tr>\n",
       "      <th>25%</th>\n",
       "      <td>0.862745</td>\n",
       "      <td>0.867647</td>\n",
       "      <td>0.708333</td>\n",
       "      <td>0.857843</td>\n",
       "      <td>0.857843</td>\n",
       "      <td>0.813725</td>\n",
       "      <td>0.855392</td>\n",
       "      <td>0.857843</td>\n",
       "      <td>0.857843</td>\n",
       "      <td>0.808824</td>\n",
       "    </tr>\n",
       "    <tr>\n",
       "      <th>50%</th>\n",
       "      <td>0.877451</td>\n",
       "      <td>0.887255</td>\n",
       "      <td>0.739583</td>\n",
       "      <td>0.857843</td>\n",
       "      <td>0.897059</td>\n",
       "      <td>0.830882</td>\n",
       "      <td>0.887255</td>\n",
       "      <td>0.867647</td>\n",
       "      <td>0.857843</td>\n",
       "      <td>0.882353</td>\n",
       "    </tr>\n",
       "    <tr>\n",
       "      <th>75%</th>\n",
       "      <td>0.901961</td>\n",
       "      <td>0.911765</td>\n",
       "      <td>0.745098</td>\n",
       "      <td>0.906863</td>\n",
       "      <td>0.897059</td>\n",
       "      <td>0.830882</td>\n",
       "      <td>0.906863</td>\n",
       "      <td>0.882353</td>\n",
       "      <td>0.877451</td>\n",
       "      <td>0.882353</td>\n",
       "    </tr>\n",
       "    <tr>\n",
       "      <th>max</th>\n",
       "      <td>0.927083</td>\n",
       "      <td>0.937500</td>\n",
       "      <td>0.816176</td>\n",
       "      <td>0.937500</td>\n",
       "      <td>0.947917</td>\n",
       "      <td>0.901042</td>\n",
       "      <td>0.958333</td>\n",
       "      <td>0.932292</td>\n",
       "      <td>0.958333</td>\n",
       "      <td>0.963542</td>\n",
       "    </tr>\n",
       "  </tbody>\n",
       "</table>\n",
       "</div>"
      ],
      "text/plain": [
       "           SGD  Logistic Regression  Decision Tree       SVC  SVC Poly  \\\n",
       "mean  0.863848             0.890441       0.740564  0.882598  0.889583   \n",
       "std   0.068189             0.035344       0.047383  0.037776  0.039522   \n",
       "min   0.750000             0.848039       0.693627  0.852941  0.848039   \n",
       "25%   0.862745             0.867647       0.708333  0.857843  0.857843   \n",
       "50%   0.877451             0.887255       0.739583  0.857843  0.897059   \n",
       "75%   0.901961             0.911765       0.745098  0.906863  0.897059   \n",
       "max   0.927083             0.937500       0.816176  0.937500  0.947917   \n",
       "\n",
       "           KNN    Forest  Extra Trees  Adaboost   XGBoost  \n",
       "mean  0.832659  0.891176     0.878125  0.829902  0.865257  \n",
       "std   0.042271  0.044477     0.032545  0.136086  0.069303  \n",
       "min   0.786765  0.848039     0.850490  0.598039  0.789216  \n",
       "25%   0.813725  0.855392     0.857843  0.857843  0.808824  \n",
       "50%   0.830882  0.887255     0.867647  0.857843  0.882353  \n",
       "75%   0.830882  0.906863     0.882353  0.877451  0.882353  \n",
       "max   0.901042  0.958333     0.932292  0.958333  0.963542  "
      ]
     },
     "execution_count": 40,
     "metadata": {},
     "output_type": "execute_result"
    }
   ],
   "source": [
    "scores_df = model_eval(X_train1, y_train)\n",
    "scores_df.describe()[1:]"
   ]
  },
  {
   "cell_type": "code",
   "execution_count": 41,
   "metadata": {},
   "outputs": [
    {
     "data": {
      "text/plain": [
       "<matplotlib.axes._subplots.AxesSubplot at 0x1a1938d518>"
      ]
     },
     "execution_count": 41,
     "metadata": {},
     "output_type": "execute_result"
    },
    {
     "data": {
      "image/png": "[encoded data removed]",
      "text/plain": [
       "<Figure size 1080x720 with 1 Axes>"
      ]
     },
     "metadata": {
      "needs_background": "light"
     },
     "output_type": "display_data"
    }
   ],
   "source": [
    "scores_df.plot(kind='box', figsize=(15,10))"
   ]
  },
  {
   "cell_type": "code",
   "execution_count": 42,
   "metadata": {},
   "outputs": [
    {
     "data": {
      "text/html": [
       "<div>\n",
       "<style scoped>\n",
       "    .dataframe tbody tr th:only-of-type {\n",
       "        vertical-align: middle;\n",
       "    }\n",
       "\n",
       "    .dataframe tbody tr th {\n",
       "        vertical-align: top;\n",
       "    }\n",
       "\n",
       "    .dataframe thead th {\n",
       "        text-align: right;\n",
       "    }\n",
       "</style>\n",
       "<table border=\"1\" class=\"dataframe\">\n",
       "  <thead>\n",
       "    <tr style=\"text-align: right;\">\n",
       "      <th></th>\n",
       "      <th>SGD</th>\n",
       "      <th>Logistic Regression</th>\n",
       "      <th>Decision Tree</th>\n",
       "      <th>SVC</th>\n",
       "      <th>SVC Poly</th>\n",
       "      <th>KNN</th>\n",
       "      <th>Forest</th>\n",
       "      <th>Extra Trees</th>\n",
       "      <th>Adaboost</th>\n",
       "      <th>XGBoost</th>\n",
       "    </tr>\n",
       "  </thead>\n",
       "  <tbody>\n",
       "    <tr>\n",
       "      <th>mean</th>\n",
       "      <td>0.846017</td>\n",
       "      <td>0.865686</td>\n",
       "      <td>0.696569</td>\n",
       "      <td>0.882659</td>\n",
       "      <td>0.886581</td>\n",
       "      <td>0.821936</td>\n",
       "      <td>0.890625</td>\n",
       "      <td>0.882598</td>\n",
       "      <td>0.792157</td>\n",
       "      <td>0.848284</td>\n",
       "    </tr>\n",
       "    <tr>\n",
       "      <th>std</th>\n",
       "      <td>0.020456</td>\n",
       "      <td>0.036122</td>\n",
       "      <td>0.058475</td>\n",
       "      <td>0.039336</td>\n",
       "      <td>0.040562</td>\n",
       "      <td>0.052424</td>\n",
       "      <td>0.039952</td>\n",
       "      <td>0.032474</td>\n",
       "      <td>0.089627</td>\n",
       "      <td>0.074465</td>\n",
       "    </tr>\n",
       "    <tr>\n",
       "      <th>min</th>\n",
       "      <td>0.823529</td>\n",
       "      <td>0.828431</td>\n",
       "      <td>0.644608</td>\n",
       "      <td>0.848039</td>\n",
       "      <td>0.838235</td>\n",
       "      <td>0.769608</td>\n",
       "      <td>0.850490</td>\n",
       "      <td>0.862745</td>\n",
       "      <td>0.676471</td>\n",
       "      <td>0.745098</td>\n",
       "    </tr>\n",
       "    <tr>\n",
       "      <th>25%</th>\n",
       "      <td>0.828125</td>\n",
       "      <td>0.833333</td>\n",
       "      <td>0.644608</td>\n",
       "      <td>0.857843</td>\n",
       "      <td>0.857843</td>\n",
       "      <td>0.789216</td>\n",
       "      <td>0.862745</td>\n",
       "      <td>0.862745</td>\n",
       "      <td>0.745098</td>\n",
       "      <td>0.813725</td>\n",
       "    </tr>\n",
       "    <tr>\n",
       "      <th>50%</th>\n",
       "      <td>0.848039</td>\n",
       "      <td>0.872549</td>\n",
       "      <td>0.698529</td>\n",
       "      <td>0.862745</td>\n",
       "      <td>0.892157</td>\n",
       "      <td>0.816176</td>\n",
       "      <td>0.887255</td>\n",
       "      <td>0.862745</td>\n",
       "      <td>0.799020</td>\n",
       "      <td>0.848039</td>\n",
       "    </tr>\n",
       "    <tr>\n",
       "      <th>75%</th>\n",
       "      <td>0.857843</td>\n",
       "      <td>0.877451</td>\n",
       "      <td>0.708333</td>\n",
       "      <td>0.901961</td>\n",
       "      <td>0.901961</td>\n",
       "      <td>0.828431</td>\n",
       "      <td>0.899510</td>\n",
       "      <td>0.887255</td>\n",
       "      <td>0.823529</td>\n",
       "      <td>0.897059</td>\n",
       "    </tr>\n",
       "    <tr>\n",
       "      <th>max</th>\n",
       "      <td>0.872549</td>\n",
       "      <td>0.916667</td>\n",
       "      <td>0.786765</td>\n",
       "      <td>0.942708</td>\n",
       "      <td>0.942708</td>\n",
       "      <td>0.906250</td>\n",
       "      <td>0.953125</td>\n",
       "      <td>0.937500</td>\n",
       "      <td>0.916667</td>\n",
       "      <td>0.937500</td>\n",
       "    </tr>\n",
       "  </tbody>\n",
       "</table>\n",
       "</div>"
      ],
      "text/plain": [
       "           SGD  Logistic Regression  Decision Tree       SVC  SVC Poly  \\\n",
       "mean  0.846017             0.865686       0.696569  0.882659  0.886581   \n",
       "std   0.020456             0.036122       0.058475  0.039336  0.040562   \n",
       "min   0.823529             0.828431       0.644608  0.848039  0.838235   \n",
       "25%   0.828125             0.833333       0.644608  0.857843  0.857843   \n",
       "50%   0.848039             0.872549       0.698529  0.862745  0.892157   \n",
       "75%   0.857843             0.877451       0.708333  0.901961  0.901961   \n",
       "max   0.872549             0.916667       0.786765  0.942708  0.942708   \n",
       "\n",
       "           KNN    Forest  Extra Trees  Adaboost   XGBoost  \n",
       "mean  0.821936  0.890625     0.882598  0.792157  0.848284  \n",
       "std   0.052424  0.039952     0.032474  0.089627  0.074465  \n",
       "min   0.769608  0.850490     0.862745  0.676471  0.745098  \n",
       "25%   0.789216  0.862745     0.862745  0.745098  0.813725  \n",
       "50%   0.816176  0.887255     0.862745  0.799020  0.848039  \n",
       "75%   0.828431  0.899510     0.887255  0.823529  0.897059  \n",
       "max   0.906250  0.953125     0.937500  0.916667  0.937500  "
      ]
     },
     "execution_count": 42,
     "metadata": {},
     "output_type": "execute_result"
    }
   ],
   "source": [
    "scores_df2 = model_eval(X_train2, y_train)\n",
    "scores_df2.describe()[1:]"
   ]
  },
  {
   "cell_type": "code",
   "execution_count": 44,
   "metadata": {},
   "outputs": [
    {
     "data": {
      "text/plain": [
       "<matplotlib.axes._subplots.AxesSubplot at 0x1a1866ff60>"
      ]
     },
     "execution_count": 44,
     "metadata": {},
     "output_type": "execute_result"
    },
    {
     "data": {
      "image/png": "[encoded data removed]",
      "text/plain": [
       "<Figure size 1080x720 with 1 Axes>"
      ]
     },
     "metadata": {
      "needs_background": "light"
     },
     "output_type": "display_data"
    }
   ],
   "source": [
    "scores_df2.plot(kind='box', figsize=(15,10))"
   ]
  },
  {
   "cell_type": "code",
   "execution_count": 45,
   "metadata": {},
   "outputs": [
    {
     "data": {
      "text/html": [
       "<div>\n",
       "<style scoped>\n",
       "    .dataframe tbody tr th:only-of-type {\n",
       "        vertical-align: middle;\n",
       "    }\n",
       "\n",
       "    .dataframe tbody tr th {\n",
       "        vertical-align: top;\n",
       "    }\n",
       "\n",
       "    .dataframe thead th {\n",
       "        text-align: right;\n",
       "    }\n",
       "</style>\n",
       "<table border=\"1\" class=\"dataframe\">\n",
       "  <thead>\n",
       "    <tr style=\"text-align: right;\">\n",
       "      <th></th>\n",
       "      <th>SGD</th>\n",
       "      <th>Logistic Regression</th>\n",
       "      <th>Decision Tree</th>\n",
       "      <th>SVC</th>\n",
       "      <th>SVC Poly</th>\n",
       "      <th>KNN</th>\n",
       "      <th>Forest</th>\n",
       "      <th>Extra Trees</th>\n",
       "      <th>Adaboost</th>\n",
       "      <th>XGBoost</th>\n",
       "    </tr>\n",
       "  </thead>\n",
       "  <tbody>\n",
       "    <tr>\n",
       "      <th>mean</th>\n",
       "      <td>0.852451</td>\n",
       "      <td>0.859620</td>\n",
       "      <td>0.727206</td>\n",
       "      <td>0.889645</td>\n",
       "      <td>0.870895</td>\n",
       "      <td>0.820466</td>\n",
       "      <td>0.880821</td>\n",
       "      <td>0.886520</td>\n",
       "      <td>0.837071</td>\n",
       "      <td>0.842341</td>\n",
       "    </tr>\n",
       "    <tr>\n",
       "      <th>std</th>\n",
       "      <td>0.052864</td>\n",
       "      <td>0.034835</td>\n",
       "      <td>0.111181</td>\n",
       "      <td>0.039397</td>\n",
       "      <td>0.064021</td>\n",
       "      <td>0.037608</td>\n",
       "      <td>0.047995</td>\n",
       "      <td>0.030608</td>\n",
       "      <td>0.045846</td>\n",
       "      <td>0.069569</td>\n",
       "    </tr>\n",
       "    <tr>\n",
       "      <th>min</th>\n",
       "      <td>0.784314</td>\n",
       "      <td>0.818627</td>\n",
       "      <td>0.593137</td>\n",
       "      <td>0.857843</td>\n",
       "      <td>0.784314</td>\n",
       "      <td>0.774510</td>\n",
       "      <td>0.833333</td>\n",
       "      <td>0.862745</td>\n",
       "      <td>0.779412</td>\n",
       "      <td>0.750000</td>\n",
       "    </tr>\n",
       "    <tr>\n",
       "      <th>25%</th>\n",
       "      <td>0.818627</td>\n",
       "      <td>0.833333</td>\n",
       "      <td>0.661765</td>\n",
       "      <td>0.862745</td>\n",
       "      <td>0.828431</td>\n",
       "      <td>0.789216</td>\n",
       "      <td>0.840686</td>\n",
       "      <td>0.867647</td>\n",
       "      <td>0.813725</td>\n",
       "      <td>0.803922</td>\n",
       "    </tr>\n",
       "    <tr>\n",
       "      <th>50%</th>\n",
       "      <td>0.862745</td>\n",
       "      <td>0.857843</td>\n",
       "      <td>0.698529</td>\n",
       "      <td>0.872549</td>\n",
       "      <td>0.887255</td>\n",
       "      <td>0.830882</td>\n",
       "      <td>0.887255</td>\n",
       "      <td>0.872549</td>\n",
       "      <td>0.833333</td>\n",
       "      <td>0.848039</td>\n",
       "    </tr>\n",
       "    <tr>\n",
       "      <th>75%</th>\n",
       "      <td>0.875000</td>\n",
       "      <td>0.887255</td>\n",
       "      <td>0.828431</td>\n",
       "      <td>0.901961</td>\n",
       "      <td>0.911765</td>\n",
       "      <td>0.843137</td>\n",
       "      <td>0.889706</td>\n",
       "      <td>0.892157</td>\n",
       "      <td>0.857843</td>\n",
       "      <td>0.877451</td>\n",
       "    </tr>\n",
       "    <tr>\n",
       "      <th>max</th>\n",
       "      <td>0.921569</td>\n",
       "      <td>0.901042</td>\n",
       "      <td>0.854167</td>\n",
       "      <td>0.953125</td>\n",
       "      <td>0.942708</td>\n",
       "      <td>0.864583</td>\n",
       "      <td>0.953125</td>\n",
       "      <td>0.937500</td>\n",
       "      <td>0.901042</td>\n",
       "      <td>0.932292</td>\n",
       "    </tr>\n",
       "  </tbody>\n",
       "</table>\n",
       "</div>"
      ],
      "text/plain": [
       "           SGD  Logistic Regression  Decision Tree       SVC  SVC Poly  \\\n",
       "mean  0.852451             0.859620       0.727206  0.889645  0.870895   \n",
       "std   0.052864             0.034835       0.111181  0.039397  0.064021   \n",
       "min   0.784314             0.818627       0.593137  0.857843  0.784314   \n",
       "25%   0.818627             0.833333       0.661765  0.862745  0.828431   \n",
       "50%   0.862745             0.857843       0.698529  0.872549  0.887255   \n",
       "75%   0.875000             0.887255       0.828431  0.901961  0.911765   \n",
       "max   0.921569             0.901042       0.854167  0.953125  0.942708   \n",
       "\n",
       "           KNN    Forest  Extra Trees  Adaboost   XGBoost  \n",
       "mean  0.820466  0.880821     0.886520  0.837071  0.842341  \n",
       "std   0.037608  0.047995     0.030608  0.045846  0.069569  \n",
       "min   0.774510  0.833333     0.862745  0.779412  0.750000  \n",
       "25%   0.789216  0.840686     0.867647  0.813725  0.803922  \n",
       "50%   0.830882  0.887255     0.872549  0.833333  0.848039  \n",
       "75%   0.843137  0.889706     0.892157  0.857843  0.877451  \n",
       "max   0.864583  0.953125     0.937500  0.901042  0.932292  "
      ]
     },
     "execution_count": 45,
     "metadata": {},
     "output_type": "execute_result"
    }
   ],
   "source": [
    "scores_df3 = model_eval(X_train3, y_train)\n",
    "scores_df3.describe()[1:]"
   ]
  },
  {
   "cell_type": "code",
   "execution_count": 46,
   "metadata": {},
   "outputs": [
    {
     "data": {
      "text/plain": [
       "<matplotlib.axes._subplots.AxesSubplot at 0x1a1891dc88>"
      ]
     },
     "execution_count": 46,
     "metadata": {},
     "output_type": "execute_result"
    },
    {
     "data": {
      "image/png": "[encoded data removed]",
      "text/plain": [
       "<Figure size 1080x720 with 1 Axes>"
      ]
     },
     "metadata": {
      "needs_background": "light"
     },
     "output_type": "display_data"
    }
   ],
   "source": [
    "scores_df3.plot(kind='box', figsize=(15,10))"
   ]
  },
  {
   "cell_type": "code",
   "execution_count": 49,
   "metadata": {},
   "outputs": [
    {
     "data": {
      "text/html": [
       "<div>\n",
       "<style scoped>\n",
       "    .dataframe tbody tr th:only-of-type {\n",
       "        vertical-align: middle;\n",
       "    }\n",
       "\n",
       "    .dataframe tbody tr th {\n",
       "        vertical-align: top;\n",
       "    }\n",
       "\n",
       "    .dataframe thead th {\n",
       "        text-align: right;\n",
       "    }\n",
       "</style>\n",
       "<table border=\"1\" class=\"dataframe\">\n",
       "  <thead>\n",
       "    <tr style=\"text-align: right;\">\n",
       "      <th></th>\n",
       "      <th>SGD</th>\n",
       "      <th>Logistic Regression</th>\n",
       "      <th>Decision Tree</th>\n",
       "      <th>SVC</th>\n",
       "      <th>SVC Poly</th>\n",
       "      <th>KNN</th>\n",
       "      <th>Forest</th>\n",
       "      <th>Extra Trees</th>\n",
       "      <th>Adaboost</th>\n",
       "      <th>XGBoost</th>\n",
       "    </tr>\n",
       "  </thead>\n",
       "  <tbody>\n",
       "    <tr>\n",
       "      <th>mean</th>\n",
       "      <td>0.825919</td>\n",
       "      <td>0.854779</td>\n",
       "      <td>0.728186</td>\n",
       "      <td>0.886703</td>\n",
       "      <td>0.869914</td>\n",
       "      <td>0.828064</td>\n",
       "      <td>0.885110</td>\n",
       "      <td>0.881556</td>\n",
       "      <td>0.789583</td>\n",
       "      <td>0.855208</td>\n",
       "    </tr>\n",
       "    <tr>\n",
       "      <th>std</th>\n",
       "      <td>0.047400</td>\n",
       "      <td>0.041491</td>\n",
       "      <td>0.094714</td>\n",
       "      <td>0.043879</td>\n",
       "      <td>0.068994</td>\n",
       "      <td>0.060893</td>\n",
       "      <td>0.037594</td>\n",
       "      <td>0.032205</td>\n",
       "      <td>0.101097</td>\n",
       "      <td>0.078442</td>\n",
       "    </tr>\n",
       "    <tr>\n",
       "      <th>min</th>\n",
       "      <td>0.784314</td>\n",
       "      <td>0.803922</td>\n",
       "      <td>0.610294</td>\n",
       "      <td>0.843137</td>\n",
       "      <td>0.774510</td>\n",
       "      <td>0.779412</td>\n",
       "      <td>0.840686</td>\n",
       "      <td>0.852941</td>\n",
       "      <td>0.622549</td>\n",
       "      <td>0.730392</td>\n",
       "    </tr>\n",
       "    <tr>\n",
       "      <th>25%</th>\n",
       "      <td>0.786458</td>\n",
       "      <td>0.833333</td>\n",
       "      <td>0.661765</td>\n",
       "      <td>0.852941</td>\n",
       "      <td>0.823529</td>\n",
       "      <td>0.789216</td>\n",
       "      <td>0.867647</td>\n",
       "      <td>0.857843</td>\n",
       "      <td>0.779412</td>\n",
       "      <td>0.843137</td>\n",
       "    </tr>\n",
       "    <tr>\n",
       "      <th>50%</th>\n",
       "      <td>0.808824</td>\n",
       "      <td>0.843137</td>\n",
       "      <td>0.757353</td>\n",
       "      <td>0.882353</td>\n",
       "      <td>0.897059</td>\n",
       "      <td>0.799020</td>\n",
       "      <td>0.882353</td>\n",
       "      <td>0.872549</td>\n",
       "      <td>0.808824</td>\n",
       "      <td>0.877451</td>\n",
       "    </tr>\n",
       "    <tr>\n",
       "      <th>75%</th>\n",
       "      <td>0.857843</td>\n",
       "      <td>0.887255</td>\n",
       "      <td>0.757353</td>\n",
       "      <td>0.901961</td>\n",
       "      <td>0.911765</td>\n",
       "      <td>0.845588</td>\n",
       "      <td>0.892157</td>\n",
       "      <td>0.892157</td>\n",
       "      <td>0.864583</td>\n",
       "      <td>0.882353</td>\n",
       "    </tr>\n",
       "    <tr>\n",
       "      <th>max</th>\n",
       "      <td>0.892157</td>\n",
       "      <td>0.906250</td>\n",
       "      <td>0.854167</td>\n",
       "      <td>0.953125</td>\n",
       "      <td>0.942708</td>\n",
       "      <td>0.927083</td>\n",
       "      <td>0.942708</td>\n",
       "      <td>0.932292</td>\n",
       "      <td>0.872549</td>\n",
       "      <td>0.942708</td>\n",
       "    </tr>\n",
       "  </tbody>\n",
       "</table>\n",
       "</div>"
      ],
      "text/plain": [
       "           SGD  Logistic Regression  Decision Tree       SVC  SVC Poly  \\\n",
       "mean  0.825919             0.854779       0.728186  0.886703  0.869914   \n",
       "std   0.047400             0.041491       0.094714  0.043879  0.068994   \n",
       "min   0.784314             0.803922       0.610294  0.843137  0.774510   \n",
       "25%   0.786458             0.833333       0.661765  0.852941  0.823529   \n",
       "50%   0.808824             0.843137       0.757353  0.882353  0.897059   \n",
       "75%   0.857843             0.887255       0.757353  0.901961  0.911765   \n",
       "max   0.892157             0.906250       0.854167  0.953125  0.942708   \n",
       "\n",
       "           KNN    Forest  Extra Trees  Adaboost   XGBoost  \n",
       "mean  0.828064  0.885110     0.881556  0.789583  0.855208  \n",
       "std   0.060893  0.037594     0.032205  0.101097  0.078442  \n",
       "min   0.779412  0.840686     0.852941  0.622549  0.730392  \n",
       "25%   0.789216  0.867647     0.857843  0.779412  0.843137  \n",
       "50%   0.799020  0.882353     0.872549  0.808824  0.877451  \n",
       "75%   0.845588  0.892157     0.892157  0.864583  0.882353  \n",
       "max   0.927083  0.942708     0.932292  0.872549  0.942708  "
      ]
     },
     "execution_count": 49,
     "metadata": {},
     "output_type": "execute_result"
    }
   ],
   "source": [
    "scores_df4 = model_eval(X_train4, y_train)\n",
    "scores_df4.describe()[1:]"
   ]
  },
  {
   "cell_type": "code",
   "execution_count": 50,
   "metadata": {},
   "outputs": [
    {
     "data": {
      "text/plain": [
       "<matplotlib.axes._subplots.AxesSubplot at 0x1a1858b438>"
      ]
     },
     "execution_count": 50,
     "metadata": {},
     "output_type": "execute_result"
    },
    {
     "data": {
      "image/png": "[encoded data removed]",
      "text/plain": [
       "<Figure size 1080x720 with 1 Axes>"
      ]
     },
     "metadata": {
      "needs_background": "light"
     },
     "output_type": "display_data"
    }
   ],
   "source": [
    "scores_df4.plot(kind='box', figsize=(15,10))"
   ]
  },
  {
   "cell_type": "markdown",
   "metadata": {},
   "source": [
    "### Hyperparameter Tuning"
   ]
  },
  {
   "cell_type": "markdown",
   "metadata": {},
   "source": [
    "#### XGBoost"
   ]
  },
  {
   "cell_type": "code",
   "execution_count": null,
   "metadata": {},
   "outputs": [],
   "source": [
    "param_grid = [\n",
    "    {'max_depth':[3,6,10,15],\n",
    "     'n_estimators':[10,100,500,1000],\n",
    "     'gamma':[0,0.5,1]\n",
    "    }\n",
    "]"
   ]
  },
  {
   "cell_type": "code",
   "execution_count": null,
   "metadata": {},
   "outputs": [],
   "source": [
    "grid_search = GridSearchCV(XGBClassifier(n_jobs=-1), param_grid, cv=5, scoring=\"roc_auc\")\n",
    "grid_search.fit(X_train2, y_train)"
   ]
  },
  {
   "cell_type": "code",
   "execution_count": null,
   "metadata": {},
   "outputs": [],
   "source": [
    "cvres = grid_search.cv_results_"
   ]
  },
  {
   "cell_type": "code",
   "execution_count": null,
   "metadata": {},
   "outputs": [],
   "source": [
    "cvres = grid_search.cv_results_\n",
    "cv_results = sorted([(x,y) for x,y in zip(cvres[\"mean_test_score\"],cvres[\"params\"])],key=lambda x: x[0],reverse=True)\n",
    "for AUC, params in cv_results:\n",
    "    print(round(AUC,5), params)"
   ]
  },
  {
   "cell_type": "code",
   "execution_count": null,
   "metadata": {},
   "outputs": [],
   "source": [
    "grid_search.best_score_"
   ]
  },
  {
   "cell_type": "code",
   "execution_count": null,
   "metadata": {},
   "outputs": [],
   "source": [
    "grid_search.best_params_"
   ]
  },
  {
   "cell_type": "markdown",
   "metadata": {},
   "source": [
    "#### Extra Trees"
   ]
  },
  {
   "cell_type": "code",
   "execution_count": null,
   "metadata": {},
   "outputs": [],
   "source": [
    "param_grid = [\n",
    "    {'max_depth':[2,3],\n",
    "     'n_estimators':[200,225,250,500,1000,1500],\n",
    "     'bootstrap':[True,False],\n",
    "    }\n",
    "]"
   ]
  },
  {
   "cell_type": "code",
   "execution_count": null,
   "metadata": {},
   "outputs": [],
   "source": [
    "grid_search_xtr = GridSearchCV(ExtraTreesClassifier(n_jobs=-1), param_grid, cv=5, scoring=\"roc_auc\")\n",
    "grid_search_xtr.fit(X_train2, y_train)"
   ]
  },
  {
   "cell_type": "code",
   "execution_count": null,
   "metadata": {},
   "outputs": [],
   "source": [
    "grid_search_xtr.best_score_"
   ]
  },
  {
   "cell_type": "code",
   "execution_count": null,
   "metadata": {},
   "outputs": [],
   "source": [
    "cvres_xtr = grid_search_xtr.cv_results_\n",
    "cv_results_xtr = sorted([(x,y) for x,y in zip(cvres_xtr[\"mean_test_score\"],cvres_xtr[\"params\"])],key=lambda x: x[0],reverse=True)\n",
    "for AUC, params in cv_results_xtr:\n",
    "    print(round(AUC,5), params)"
   ]
  },
  {
   "cell_type": "code",
   "execution_count": null,
   "metadata": {},
   "outputs": [],
   "source": [
    "final_model = grid_search_xtr.best_estimator_"
   ]
  },
  {
   "cell_type": "markdown",
   "metadata": {},
   "source": [
    "### Generate predictions on test_values dataset"
   ]
  },
  {
   "cell_type": "code",
   "execution_count": null,
   "metadata": {},
   "outputs": [],
   "source": [
    "test_values = pd.read_csv('https://s3.amazonaws.com/drivendata/data/54/public/test_values.csv')"
   ]
  },
  {
   "cell_type": "code",
   "execution_count": null,
   "metadata": {},
   "outputs": [],
   "source": [
    "test_values.info()"
   ]
  },
  {
   "cell_type": "code",
   "execution_count": null,
   "metadata": {},
   "outputs": [],
   "source": [
    "test_values.loc[:,'thal'] = test_values.loc[:,'thal'].astype('category')\n",
    "test_values.loc[:,'chest_pain_type'] = test_values.loc[:,'chest_pain_type'].astype('category')"
   ]
  },
  {
   "cell_type": "code",
   "execution_count": null,
   "metadata": {},
   "outputs": [],
   "source": [
    "test_ids = test_values['patient_id']\n",
    "test_values = test_values.drop('patient_id',axis=1)"
   ]
  },
  {
   "cell_type": "code",
   "execution_count": null,
   "metadata": {},
   "outputs": [],
   "source": [
    "test_values.info()"
   ]
  },
  {
   "cell_type": "code",
   "execution_count": null,
   "metadata": {
    "scrolled": true
   },
   "outputs": [],
   "source": [
    "input_ = pipe.transform(test_values)\n",
    "input_.shape"
   ]
  },
  {
   "cell_type": "code",
   "execution_count": null,
   "metadata": {},
   "outputs": [],
   "source": [
    "test_values.shape"
   ]
  },
  {
   "cell_type": "code",
   "execution_count": null,
   "metadata": {},
   "outputs": [],
   "source": [
    "X_train.shape"
   ]
  },
  {
   "cell_type": "code",
   "execution_count": null,
   "metadata": {},
   "outputs": [],
   "source": [
    "X_train2.shape"
   ]
  },
  {
   "cell_type": "code",
   "execution_count": null,
   "metadata": {},
   "outputs": [],
   "source": [
    "final_model.predict(input_)"
   ]
  },
  {
   "cell_type": "code",
   "execution_count": null,
   "metadata": {},
   "outputs": [],
   "source": [
    "test_probas = final_model.predict_proba(input_)"
   ]
  },
  {
   "cell_type": "code",
   "execution_count": null,
   "metadata": {
    "scrolled": true
   },
   "outputs": [],
   "source": [
    "test_probas"
   ]
  },
  {
   "cell_type": "code",
   "execution_count": null,
   "metadata": {
    "scrolled": true
   },
   "outputs": [],
   "source": [
    "heart_disease_probas = [y for x,y in test_probas]"
   ]
  },
  {
   "cell_type": "code",
   "execution_count": null,
   "metadata": {},
   "outputs": [],
   "source": [
    "out_df = pd.DataFrame({'patient_id':test_ids,'heart_disease_present':heart_disease_probas})\n",
    "out_df"
   ]
  },
  {
   "cell_type": "code",
   "execution_count": null,
   "metadata": {},
   "outputs": [],
   "source": [
    "out_df.to_csv('submission3.csv',index=False)"
   ]
  },
  {
   "cell_type": "code",
   "execution_count": null,
   "metadata": {},
   "outputs": [],
   "source": []
  }
 ],
 "metadata": {
  "kernelspec": {
   "display_name": "Python 3",
   "language": "python",
   "name": "python3"
  },
  "language_info": {
   "codemirror_mode": {
    "name": "ipython",
    "version": 3
   },
   "file_extension": ".py",
   "mimetype": "text/x-python",
   "name": "python",
   "nbconvert_exporter": "python",
   "pygments_lexer": "ipython3",
   "version": "3.6.8"
  }
 },
 "nbformat": 4,
 "nbformat_minor": 2
}
