{
 "cells": [
  {
   "cell_type": "markdown",
   "metadata": {},
   "source": [
    "# DrivenData Machine Learning with a Heart\n",
    "Detect heart disease from patient cardiovascular dataset. The objective of this project is to predict the binary class, `heart_disease_present`, which represents whether or not a patient has heart disease:\n",
    "- `0` represents no heart disease present\n",
    "- `1` represents heart disease present\n",
    "\n",
    "DrivenData [competition info here](https://www.drivendata.org/competitions/54/machine-learning-with-a-heart/page/107/); data provided by [Cleveland Heart Disease Database](http://archive.ics.uci.edu/ml/datasets/statlog+(heart)) via the UCI Machine Learning repository"
   ]
  },
  {
   "cell_type": "markdown",
   "metadata": {},
   "source": [
    "- Invert values for `num_major_vessels` (0-3) values should change to (3-0) ie 1 changes to 2, 0, changes to 3\n",
    "- Invert values for `ST_depression` - values represent where ST segment is abnormally low below baseline"
   ]
  },
  {
   "cell_type": "code",
   "execution_count": 1,
   "metadata": {},
   "outputs": [],
   "source": [
    "import numpy as np\n",
    "import pandas as pd\n",
    "import matplotlib.pyplot as plt\n",
    "import seaborn as sns\n",
    "\n",
    "from sklearn.base import BaseEstimator, TransformerMixin\n",
    "from sklearn.model_selection import train_test_split, cross_val_score, GridSearchCV\n",
    "from sklearn.pipeline import Pipeline, FeatureUnion\n",
    "from sklearn.preprocessing import PolynomialFeatures, StandardScaler, MinMaxScaler, OneHotEncoder, KBinsDiscretizer\n",
    "\n",
    "from sklearn.linear_model import SGDClassifier, LogisticRegression\n",
    "from sklearn.tree import DecisionTreeClassifier\n",
    "from sklearn.svm import SVC\n",
    "from sklearn.neighbors import KNeighborsClassifier\n",
    "from sklearn.ensemble import AdaBoostClassifier, RandomForestClassifier, ExtraTreesClassifier, VotingClassifier\n",
    "from xgboost import XGBClassifier\n",
    "\n",
    "%matplotlib inline"
   ]
  },
  {
   "cell_type": "code",
   "execution_count": 2,
   "metadata": {},
   "outputs": [],
   "source": [
    "df = pd.read_csv('https://s3.amazonaws.com/drivendata/data/54/public/train_values.csv')\n",
    "labels = pd.read_csv('https://s3.amazonaws.com/drivendata/data/54/public/train_labels.csv')\n",
    "labels.drop(['patient_id'],axis=1,inplace=True)"
   ]
  },
  {
   "cell_type": "code",
   "execution_count": 3,
   "metadata": {},
   "outputs": [],
   "source": [
    "X_train, X_test, y_train, y_test = train_test_split(df, labels, test_size=0.2, random_state=42)"
   ]
  },
  {
   "cell_type": "code",
   "execution_count": 4,
   "metadata": {},
   "outputs": [
    {
     "data": {
      "text/html": [
       "<div>\n",
       "<style scoped>\n",
       "    .dataframe tbody tr th:only-of-type {\n",
       "        vertical-align: middle;\n",
       "    }\n",
       "\n",
       "    .dataframe tbody tr th {\n",
       "        vertical-align: top;\n",
       "    }\n",
       "\n",
       "    .dataframe thead th {\n",
       "        text-align: right;\n",
       "    }\n",
       "</style>\n",
       "<table border=\"1\" class=\"dataframe\">\n",
       "  <thead>\n",
       "    <tr style=\"text-align: right;\">\n",
       "      <th></th>\n",
       "      <th>patient_id</th>\n",
       "      <th>slope_of_peak_exercise_st_segment</th>\n",
       "      <th>thal</th>\n",
       "      <th>resting_blood_pressure</th>\n",
       "      <th>chest_pain_type</th>\n",
       "      <th>num_major_vessels</th>\n",
       "      <th>fasting_blood_sugar_gt_120_mg_per_dl</th>\n",
       "      <th>resting_ekg_results</th>\n",
       "      <th>serum_cholesterol_mg_per_dl</th>\n",
       "      <th>oldpeak_eq_st_depression</th>\n",
       "      <th>sex</th>\n",
       "      <th>age</th>\n",
       "      <th>max_heart_rate_achieved</th>\n",
       "      <th>exercise_induced_angina</th>\n",
       "    </tr>\n",
       "  </thead>\n",
       "  <tbody>\n",
       "    <tr>\n",
       "      <th>117</th>\n",
       "      <td>9dqkpy</td>\n",
       "      <td>1</td>\n",
       "      <td>reversible_defect</td>\n",
       "      <td>110</td>\n",
       "      <td>4</td>\n",
       "      <td>0</td>\n",
       "      <td>0</td>\n",
       "      <td>2</td>\n",
       "      <td>172</td>\n",
       "      <td>0.0</td>\n",
       "      <td>1</td>\n",
       "      <td>41</td>\n",
       "      <td>158</td>\n",
       "      <td>0</td>\n",
       "    </tr>\n",
       "    <tr>\n",
       "      <th>65</th>\n",
       "      <td>nck22c</td>\n",
       "      <td>1</td>\n",
       "      <td>reversible_defect</td>\n",
       "      <td>126</td>\n",
       "      <td>4</td>\n",
       "      <td>0</td>\n",
       "      <td>0</td>\n",
       "      <td>2</td>\n",
       "      <td>282</td>\n",
       "      <td>0.0</td>\n",
       "      <td>1</td>\n",
       "      <td>35</td>\n",
       "      <td>156</td>\n",
       "      <td>1</td>\n",
       "    </tr>\n",
       "    <tr>\n",
       "      <th>67</th>\n",
       "      <td>f70grj</td>\n",
       "      <td>2</td>\n",
       "      <td>normal</td>\n",
       "      <td>115</td>\n",
       "      <td>4</td>\n",
       "      <td>0</td>\n",
       "      <td>0</td>\n",
       "      <td>0</td>\n",
       "      <td>303</td>\n",
       "      <td>1.2</td>\n",
       "      <td>1</td>\n",
       "      <td>43</td>\n",
       "      <td>181</td>\n",
       "      <td>0</td>\n",
       "    </tr>\n",
       "    <tr>\n",
       "      <th>31</th>\n",
       "      <td>z7xkou</td>\n",
       "      <td>2</td>\n",
       "      <td>reversible_defect</td>\n",
       "      <td>150</td>\n",
       "      <td>4</td>\n",
       "      <td>3</td>\n",
       "      <td>0</td>\n",
       "      <td>2</td>\n",
       "      <td>225</td>\n",
       "      <td>1.0</td>\n",
       "      <td>0</td>\n",
       "      <td>65</td>\n",
       "      <td>114</td>\n",
       "      <td>0</td>\n",
       "    </tr>\n",
       "    <tr>\n",
       "      <th>12</th>\n",
       "      <td>mpggsq</td>\n",
       "      <td>1</td>\n",
       "      <td>normal</td>\n",
       "      <td>140</td>\n",
       "      <td>3</td>\n",
       "      <td>0</td>\n",
       "      <td>0</td>\n",
       "      <td>0</td>\n",
       "      <td>335</td>\n",
       "      <td>0.0</td>\n",
       "      <td>1</td>\n",
       "      <td>64</td>\n",
       "      <td>158</td>\n",
       "      <td>0</td>\n",
       "    </tr>\n",
       "  </tbody>\n",
       "</table>\n",
       "</div>"
      ],
      "text/plain": [
       "    patient_id  slope_of_peak_exercise_st_segment               thal  \\\n",
       "117     9dqkpy                                  1  reversible_defect   \n",
       "65      nck22c                                  1  reversible_defect   \n",
       "67      f70grj                                  2             normal   \n",
       "31      z7xkou                                  2  reversible_defect   \n",
       "12      mpggsq                                  1             normal   \n",
       "\n",
       "     resting_blood_pressure  chest_pain_type  num_major_vessels  \\\n",
       "117                     110                4                  0   \n",
       "65                      126                4                  0   \n",
       "67                      115                4                  0   \n",
       "31                      150                4                  3   \n",
       "12                      140                3                  0   \n",
       "\n",
       "     fasting_blood_sugar_gt_120_mg_per_dl  resting_ekg_results  \\\n",
       "117                                     0                    2   \n",
       "65                                      0                    2   \n",
       "67                                      0                    0   \n",
       "31                                      0                    2   \n",
       "12                                      0                    0   \n",
       "\n",
       "     serum_cholesterol_mg_per_dl  oldpeak_eq_st_depression  sex  age  \\\n",
       "117                          172                       0.0    1   41   \n",
       "65                           282                       0.0    1   35   \n",
       "67                           303                       1.2    1   43   \n",
       "31                           225                       1.0    0   65   \n",
       "12                           335                       0.0    1   64   \n",
       "\n",
       "     max_heart_rate_achieved  exercise_induced_angina  \n",
       "117                      158                        0  \n",
       "65                       156                        1  \n",
       "67                       181                        0  \n",
       "31                       114                        0  \n",
       "12                       158                        0  "
      ]
     },
     "execution_count": 4,
     "metadata": {},
     "output_type": "execute_result"
    }
   ],
   "source": [
    "X_train.head()"
   ]
  },
  {
   "cell_type": "code",
   "execution_count": 5,
   "metadata": {},
   "outputs": [
    {
     "name": "stdout",
     "output_type": "stream",
     "text": [
      "<class 'pandas.core.frame.DataFrame'>\n",
      "Int64Index: 144 entries, 117 to 102\n",
      "Data columns (total 14 columns):\n",
      "patient_id                              144 non-null object\n",
      "slope_of_peak_exercise_st_segment       144 non-null int64\n",
      "thal                                    144 non-null object\n",
      "resting_blood_pressure                  144 non-null int64\n",
      "chest_pain_type                         144 non-null int64\n",
      "num_major_vessels                       144 non-null int64\n",
      "fasting_blood_sugar_gt_120_mg_per_dl    144 non-null int64\n",
      "resting_ekg_results                     144 non-null int64\n",
      "serum_cholesterol_mg_per_dl             144 non-null int64\n",
      "oldpeak_eq_st_depression                144 non-null float64\n",
      "sex                                     144 non-null int64\n",
      "age                                     144 non-null int64\n",
      "max_heart_rate_achieved                 144 non-null int64\n",
      "exercise_induced_angina                 144 non-null int64\n",
      "dtypes: float64(1), int64(11), object(2)\n",
      "memory usage: 16.9+ KB\n"
     ]
    }
   ],
   "source": [
    "X_train.info()"
   ]
  },
  {
   "cell_type": "code",
   "execution_count": 6,
   "metadata": {},
   "outputs": [
    {
     "name": "stderr",
     "output_type": "stream",
     "text": [
      "/anaconda3/envs/python3/lib/python3.6/site-packages/pandas/core/frame.py:3697: SettingWithCopyWarning: \n",
      "A value is trying to be set on a copy of a slice from a DataFrame\n",
      "\n",
      "See the caveats in the documentation: http://pandas.pydata.org/pandas-docs/stable/indexing.html#indexing-view-versus-copy\n",
      "  errors=errors)\n"
     ]
    }
   ],
   "source": [
    "X_train.drop(['patient_id'],axis=1,inplace=True)"
   ]
  },
  {
   "cell_type": "code",
   "execution_count": 7,
   "metadata": {},
   "outputs": [
    {
     "name": "stderr",
     "output_type": "stream",
     "text": [
      "/anaconda3/envs/python3/lib/python3.6/site-packages/pandas/core/indexing.py:543: SettingWithCopyWarning: \n",
      "A value is trying to be set on a copy of a slice from a DataFrame.\n",
      "Try using .loc[row_indexer,col_indexer] = value instead\n",
      "\n",
      "See the caveats in the documentation: http://pandas.pydata.org/pandas-docs/stable/indexing.html#indexing-view-versus-copy\n",
      "  self.obj[item] = s\n"
     ]
    }
   ],
   "source": [
    "X_train.loc[:,'thal'] = X_train.loc[:,'thal'].astype('category')"
   ]
  },
  {
   "cell_type": "code",
   "execution_count": 8,
   "metadata": {},
   "outputs": [],
   "source": [
    "X_train.loc[:,'chest_pain_type'] = X_train.loc[:,'chest_pain_type'].astype('category')"
   ]
  },
  {
   "cell_type": "code",
   "execution_count": 9,
   "metadata": {},
   "outputs": [
    {
     "data": {
      "text/plain": [
       "normal               79\n",
       "reversible_defect    58\n",
       "fixed_defect          7\n",
       "Name: thal, dtype: int64"
      ]
     },
     "execution_count": 9,
     "metadata": {},
     "output_type": "execute_result"
    }
   ],
   "source": [
    "X_train['thal'].value_counts()"
   ]
  },
  {
   "cell_type": "code",
   "execution_count": 10,
   "metadata": {},
   "outputs": [
    {
     "name": "stdout",
     "output_type": "stream",
     "text": [
      "<class 'pandas.core.frame.DataFrame'>\n",
      "Int64Index: 144 entries, 117 to 102\n",
      "Data columns (total 13 columns):\n",
      "slope_of_peak_exercise_st_segment       144 non-null int64\n",
      "thal                                    144 non-null category\n",
      "resting_blood_pressure                  144 non-null int64\n",
      "chest_pain_type                         144 non-null category\n",
      "num_major_vessels                       144 non-null int64\n",
      "fasting_blood_sugar_gt_120_mg_per_dl    144 non-null int64\n",
      "resting_ekg_results                     144 non-null int64\n",
      "serum_cholesterol_mg_per_dl             144 non-null int64\n",
      "oldpeak_eq_st_depression                144 non-null float64\n",
      "sex                                     144 non-null int64\n",
      "age                                     144 non-null int64\n",
      "max_heart_rate_achieved                 144 non-null int64\n",
      "exercise_induced_angina                 144 non-null int64\n",
      "dtypes: category(2), float64(1), int64(10)\n",
      "memory usage: 14.1 KB\n"
     ]
    }
   ],
   "source": [
    "X_train.info()"
   ]
  },
  {
   "cell_type": "code",
   "execution_count": 11,
   "metadata": {},
   "outputs": [],
   "source": [
    "#X_train = pd.get_dummies(X_train)"
   ]
  },
  {
   "cell_type": "code",
   "execution_count": 12,
   "metadata": {},
   "outputs": [
    {
     "name": "stdout",
     "output_type": "stream",
     "text": [
      "<class 'pandas.core.frame.DataFrame'>\n",
      "Int64Index: 144 entries, 117 to 102\n",
      "Data columns (total 13 columns):\n",
      "slope_of_peak_exercise_st_segment       144 non-null int64\n",
      "thal                                    144 non-null category\n",
      "resting_blood_pressure                  144 non-null int64\n",
      "chest_pain_type                         144 non-null category\n",
      "num_major_vessels                       144 non-null int64\n",
      "fasting_blood_sugar_gt_120_mg_per_dl    144 non-null int64\n",
      "resting_ekg_results                     144 non-null int64\n",
      "serum_cholesterol_mg_per_dl             144 non-null int64\n",
      "oldpeak_eq_st_depression                144 non-null float64\n",
      "sex                                     144 non-null int64\n",
      "age                                     144 non-null int64\n",
      "max_heart_rate_achieved                 144 non-null int64\n",
      "exercise_induced_angina                 144 non-null int64\n",
      "dtypes: category(2), float64(1), int64(10)\n",
      "memory usage: 14.1 KB\n"
     ]
    }
   ],
   "source": [
    "X_train.info()"
   ]
  },
  {
   "cell_type": "code",
   "execution_count": 13,
   "metadata": {},
   "outputs": [
    {
     "data": {
      "text/html": [
       "<div>\n",
       "<style scoped>\n",
       "    .dataframe tbody tr th:only-of-type {\n",
       "        vertical-align: middle;\n",
       "    }\n",
       "\n",
       "    .dataframe tbody tr th {\n",
       "        vertical-align: top;\n",
       "    }\n",
       "\n",
       "    .dataframe thead th {\n",
       "        text-align: right;\n",
       "    }\n",
       "</style>\n",
       "<table border=\"1\" class=\"dataframe\">\n",
       "  <thead>\n",
       "    <tr style=\"text-align: right;\">\n",
       "      <th></th>\n",
       "      <th>slope_of_peak_exercise_st_segment</th>\n",
       "      <th>resting_blood_pressure</th>\n",
       "      <th>num_major_vessels</th>\n",
       "      <th>fasting_blood_sugar_gt_120_mg_per_dl</th>\n",
       "      <th>resting_ekg_results</th>\n",
       "      <th>serum_cholesterol_mg_per_dl</th>\n",
       "      <th>oldpeak_eq_st_depression</th>\n",
       "      <th>sex</th>\n",
       "      <th>age</th>\n",
       "      <th>max_heart_rate_achieved</th>\n",
       "      <th>exercise_induced_angina</th>\n",
       "    </tr>\n",
       "  </thead>\n",
       "  <tbody>\n",
       "    <tr>\n",
       "      <th>count</th>\n",
       "      <td>144.000000</td>\n",
       "      <td>144.000000</td>\n",
       "      <td>144.000000</td>\n",
       "      <td>144.000000</td>\n",
       "      <td>144.000000</td>\n",
       "      <td>144.000000</td>\n",
       "      <td>144.000000</td>\n",
       "      <td>144.000000</td>\n",
       "      <td>144.000000</td>\n",
       "      <td>144.000000</td>\n",
       "      <td>144.000000</td>\n",
       "    </tr>\n",
       "    <tr>\n",
       "      <th>mean</th>\n",
       "      <td>1.527778</td>\n",
       "      <td>131.472222</td>\n",
       "      <td>0.694444</td>\n",
       "      <td>0.166667</td>\n",
       "      <td>1.006944</td>\n",
       "      <td>246.409722</td>\n",
       "      <td>0.960417</td>\n",
       "      <td>0.673611</td>\n",
       "      <td>55.020833</td>\n",
       "      <td>149.694444</td>\n",
       "      <td>0.326389</td>\n",
       "    </tr>\n",
       "    <tr>\n",
       "      <th>std</th>\n",
       "      <td>0.636253</td>\n",
       "      <td>17.078160</td>\n",
       "      <td>0.977207</td>\n",
       "      <td>0.373979</td>\n",
       "      <td>0.999976</td>\n",
       "      <td>47.140827</td>\n",
       "      <td>1.109981</td>\n",
       "      <td>0.470528</td>\n",
       "      <td>9.004637</td>\n",
       "      <td>22.091443</td>\n",
       "      <td>0.470528</td>\n",
       "    </tr>\n",
       "    <tr>\n",
       "      <th>min</th>\n",
       "      <td>1.000000</td>\n",
       "      <td>94.000000</td>\n",
       "      <td>0.000000</td>\n",
       "      <td>0.000000</td>\n",
       "      <td>0.000000</td>\n",
       "      <td>126.000000</td>\n",
       "      <td>0.000000</td>\n",
       "      <td>0.000000</td>\n",
       "      <td>34.000000</td>\n",
       "      <td>96.000000</td>\n",
       "      <td>0.000000</td>\n",
       "    </tr>\n",
       "    <tr>\n",
       "      <th>25%</th>\n",
       "      <td>1.000000</td>\n",
       "      <td>120.000000</td>\n",
       "      <td>0.000000</td>\n",
       "      <td>0.000000</td>\n",
       "      <td>0.000000</td>\n",
       "      <td>212.750000</td>\n",
       "      <td>0.000000</td>\n",
       "      <td>0.000000</td>\n",
       "      <td>48.750000</td>\n",
       "      <td>136.250000</td>\n",
       "      <td>0.000000</td>\n",
       "    </tr>\n",
       "    <tr>\n",
       "      <th>50%</th>\n",
       "      <td>1.000000</td>\n",
       "      <td>130.000000</td>\n",
       "      <td>0.000000</td>\n",
       "      <td>0.000000</td>\n",
       "      <td>1.500000</td>\n",
       "      <td>245.500000</td>\n",
       "      <td>0.600000</td>\n",
       "      <td>1.000000</td>\n",
       "      <td>56.000000</td>\n",
       "      <td>152.500000</td>\n",
       "      <td>0.000000</td>\n",
       "    </tr>\n",
       "    <tr>\n",
       "      <th>75%</th>\n",
       "      <td>2.000000</td>\n",
       "      <td>140.000000</td>\n",
       "      <td>1.000000</td>\n",
       "      <td>0.000000</td>\n",
       "      <td>2.000000</td>\n",
       "      <td>277.000000</td>\n",
       "      <td>1.525000</td>\n",
       "      <td>1.000000</td>\n",
       "      <td>62.000000</td>\n",
       "      <td>166.250000</td>\n",
       "      <td>1.000000</td>\n",
       "    </tr>\n",
       "    <tr>\n",
       "      <th>max</th>\n",
       "      <td>3.000000</td>\n",
       "      <td>180.000000</td>\n",
       "      <td>3.000000</td>\n",
       "      <td>1.000000</td>\n",
       "      <td>2.000000</td>\n",
       "      <td>417.000000</td>\n",
       "      <td>6.200000</td>\n",
       "      <td>1.000000</td>\n",
       "      <td>77.000000</td>\n",
       "      <td>192.000000</td>\n",
       "      <td>1.000000</td>\n",
       "    </tr>\n",
       "  </tbody>\n",
       "</table>\n",
       "</div>"
      ],
      "text/plain": [
       "       slope_of_peak_exercise_st_segment  resting_blood_pressure  \\\n",
       "count                         144.000000              144.000000   \n",
       "mean                            1.527778              131.472222   \n",
       "std                             0.636253               17.078160   \n",
       "min                             1.000000               94.000000   \n",
       "25%                             1.000000              120.000000   \n",
       "50%                             1.000000              130.000000   \n",
       "75%                             2.000000              140.000000   \n",
       "max                             3.000000              180.000000   \n",
       "\n",
       "       num_major_vessels  fasting_blood_sugar_gt_120_mg_per_dl  \\\n",
       "count         144.000000                            144.000000   \n",
       "mean            0.694444                              0.166667   \n",
       "std             0.977207                              0.373979   \n",
       "min             0.000000                              0.000000   \n",
       "25%             0.000000                              0.000000   \n",
       "50%             0.000000                              0.000000   \n",
       "75%             1.000000                              0.000000   \n",
       "max             3.000000                              1.000000   \n",
       "\n",
       "       resting_ekg_results  serum_cholesterol_mg_per_dl  \\\n",
       "count           144.000000                   144.000000   \n",
       "mean              1.006944                   246.409722   \n",
       "std               0.999976                    47.140827   \n",
       "min               0.000000                   126.000000   \n",
       "25%               0.000000                   212.750000   \n",
       "50%               1.500000                   245.500000   \n",
       "75%               2.000000                   277.000000   \n",
       "max               2.000000                   417.000000   \n",
       "\n",
       "       oldpeak_eq_st_depression         sex         age  \\\n",
       "count                144.000000  144.000000  144.000000   \n",
       "mean                   0.960417    0.673611   55.020833   \n",
       "std                    1.109981    0.470528    9.004637   \n",
       "min                    0.000000    0.000000   34.000000   \n",
       "25%                    0.000000    0.000000   48.750000   \n",
       "50%                    0.600000    1.000000   56.000000   \n",
       "75%                    1.525000    1.000000   62.000000   \n",
       "max                    6.200000    1.000000   77.000000   \n",
       "\n",
       "       max_heart_rate_achieved  exercise_induced_angina  \n",
       "count               144.000000               144.000000  \n",
       "mean                149.694444                 0.326389  \n",
       "std                  22.091443                 0.470528  \n",
       "min                  96.000000                 0.000000  \n",
       "25%                 136.250000                 0.000000  \n",
       "50%                 152.500000                 0.000000  \n",
       "75%                 166.250000                 1.000000  \n",
       "max                 192.000000                 1.000000  "
      ]
     },
     "execution_count": 13,
     "metadata": {},
     "output_type": "execute_result"
    }
   ],
   "source": [
    "X_train.describe()"
   ]
  },
  {
   "cell_type": "code",
   "execution_count": 14,
   "metadata": {},
   "outputs": [
    {
     "data": {
      "image/png": "[encoded data removed]",
      "text/plain": [
       "<Figure size 1440x1080 with 12 Axes>"
      ]
     },
     "metadata": {
      "needs_background": "light"
     },
     "output_type": "display_data"
    }
   ],
   "source": [
    "X_train.hist(bins=50, figsize=(20,15),grid=False)\n",
    "plt.show()"
   ]
  },
  {
   "cell_type": "code",
   "execution_count": 15,
   "metadata": {},
   "outputs": [
    {
     "data": {
      "image/png": "[encoded data removed]",
      "text/plain": [
       "<Figure size 432x288 with 1 Axes>"
      ]
     },
     "metadata": {
      "needs_background": "light"
     },
     "output_type": "display_data"
    }
   ],
   "source": [
    "y_train.hist(bins=2,rwidth=.7,grid=False)\n",
    "plt.show()"
   ]
  },
  {
   "cell_type": "code",
   "execution_count": 16,
   "metadata": {},
   "outputs": [],
   "source": [
    "def get_cat_num_labels(df):\n",
    "    num = []\n",
    "    cat = []\n",
    "    for col in df.columns:\n",
    "        print(col)\n",
    "        print(df[col].dtype)\n",
    "        if df[col].dtype == 'float64':\n",
    "            num.append(col)\n",
    "            print(\"Num\")\n",
    "        elif df[col].dtype == 'int64':\n",
    "            num.append(col)\n",
    "            print(\"Num\")\n",
    "        else:\n",
    "            cat.append(col)\n",
    "            print(\"Cat\")\n",
    "        print(\"\")\n",
    "    return num, cat"
   ]
  },
  {
   "cell_type": "code",
   "execution_count": 17,
   "metadata": {},
   "outputs": [],
   "source": [
    "class DataFrameSelector(BaseEstimator, TransformerMixin):\n",
    "    def __init__(self, attribute_names):\n",
    "        self.attribute_names = attribute_names\n",
    "    def fit(self, X, y=None):\n",
    "        return self\n",
    "    def transform(self, X):\n",
    "        return X[self.attribute_names].values"
   ]
  },
  {
   "cell_type": "code",
   "execution_count": 18,
   "metadata": {},
   "outputs": [
    {
     "name": "stdout",
     "output_type": "stream",
     "text": [
      "slope_of_peak_exercise_st_segment\n",
      "int64\n",
      "Num\n",
      "\n",
      "thal\n",
      "category\n",
      "Cat\n",
      "\n",
      "resting_blood_pressure\n",
      "int64\n",
      "Num\n",
      "\n",
      "chest_pain_type\n",
      "category\n",
      "Cat\n",
      "\n",
      "num_major_vessels\n",
      "int64\n",
      "Num\n",
      "\n",
      "fasting_blood_sugar_gt_120_mg_per_dl\n",
      "int64\n",
      "Num\n",
      "\n",
      "resting_ekg_results\n",
      "int64\n",
      "Num\n",
      "\n",
      "serum_cholesterol_mg_per_dl\n",
      "int64\n",
      "Num\n",
      "\n",
      "oldpeak_eq_st_depression\n",
      "float64\n",
      "Num\n",
      "\n",
      "sex\n",
      "int64\n",
      "Num\n",
      "\n",
      "age\n",
      "int64\n",
      "Num\n",
      "\n",
      "max_heart_rate_achieved\n",
      "int64\n",
      "Num\n",
      "\n",
      "exercise_induced_angina\n",
      "int64\n",
      "Num\n",
      "\n"
     ]
    }
   ],
   "source": [
    "num, cat = get_cat_num_labels(X_train)"
   ]
  },
  {
   "cell_type": "code",
   "execution_count": 19,
   "metadata": {},
   "outputs": [
    {
     "data": {
      "text/plain": [
       "['slope_of_peak_exercise_st_segment',\n",
       " 'resting_blood_pressure',\n",
       " 'num_major_vessels',\n",
       " 'fasting_blood_sugar_gt_120_mg_per_dl',\n",
       " 'resting_ekg_results',\n",
       " 'serum_cholesterol_mg_per_dl',\n",
       " 'oldpeak_eq_st_depression',\n",
       " 'sex',\n",
       " 'age',\n",
       " 'max_heart_rate_achieved',\n",
       " 'exercise_induced_angina']"
      ]
     },
     "execution_count": 19,
     "metadata": {},
     "output_type": "execute_result"
    }
   ],
   "source": [
    "num"
   ]
  },
  {
   "cell_type": "code",
   "execution_count": 20,
   "metadata": {},
   "outputs": [
    {
     "data": {
      "text/plain": [
       "['thal', 'chest_pain_type']"
      ]
     },
     "execution_count": 20,
     "metadata": {},
     "output_type": "execute_result"
    }
   ],
   "source": [
    "cat"
   ]
  },
  {
   "cell_type": "code",
   "execution_count": 21,
   "metadata": {},
   "outputs": [],
   "source": [
    "num_pipeline = Pipeline([\n",
    "    ('df_selector',DataFrameSelector(num)),\n",
    "    ('Normalizer', MinMaxScaler(feature_range=(0,1))),\n",
    "])\n",
    "\n",
    "cat_pipeline = Pipeline([\n",
    "    ('df_selector',DataFrameSelector(cat)),\n",
    "    ('ohe', OneHotEncoder(handle_unknown='ignore'))])\n",
    "\n",
    "pipe = Pipeline([('feats',FeatureUnion(transformer_list=[\n",
    "    ('num_pipeline', num_pipeline),\n",
    "    ('cat_pipeline',cat_pipeline),\n",
    "])),\n",
    "    ('poly',PolynomialFeatures(2)),\n",
    "    #('Normalizer', MinMaxScaler(feature_range=(0,1))),\n",
    "                ])"
   ]
  },
  {
   "cell_type": "code",
   "execution_count": null,
   "metadata": {},
   "outputs": [],
   "source": [
    "#train = X_train.copy()\n",
    "#train['heart_disease_present'] = y_train['heart_disease_present'].copy()"
   ]
  },
  {
   "cell_type": "code",
   "execution_count": 22,
   "metadata": {},
   "outputs": [],
   "source": [
    "corr_matrix = X_train.corr()"
   ]
  },
  {
   "cell_type": "code",
   "execution_count": 23,
   "metadata": {},
   "outputs": [
    {
     "data": {
      "text/html": [
       "<style  type=\"text/css\" >\n",
       "    #T_de7dc6d4_51ad_11e9_a772_8c8590cfa046row0_col0 {\n",
       "            background-color:  #b40426;\n",
       "        }    #T_de7dc6d4_51ad_11e9_a772_8c8590cfa046row0_col1 {\n",
       "            background-color:  #7295f4;\n",
       "        }    #T_de7dc6d4_51ad_11e9_a772_8c8590cfa046row0_col2 {\n",
       "            background-color:  #97b8ff;\n",
       "        }    #T_de7dc6d4_51ad_11e9_a772_8c8590cfa046row0_col3 {\n",
       "            background-color:  #506bda;\n",
       "        }    #T_de7dc6d4_51ad_11e9_a772_8c8590cfa046row0_col4 {\n",
       "            background-color:  #8db0fe;\n",
       "        }    #T_de7dc6d4_51ad_11e9_a772_8c8590cfa046row0_col5 {\n",
       "            background-color:  #5673e0;\n",
       "        }    #T_de7dc6d4_51ad_11e9_a772_8c8590cfa046row0_col6 {\n",
       "            background-color:  #f7af91;\n",
       "        }    #T_de7dc6d4_51ad_11e9_a772_8c8590cfa046row0_col7 {\n",
       "            background-color:  #7a9df8;\n",
       "        }    #T_de7dc6d4_51ad_11e9_a772_8c8590cfa046row0_col8 {\n",
       "            background-color:  #cbd8ee;\n",
       "        }    #T_de7dc6d4_51ad_11e9_a772_8c8590cfa046row0_col9 {\n",
       "            background-color:  #3b4cc0;\n",
       "        }    #T_de7dc6d4_51ad_11e9_a772_8c8590cfa046row0_col10 {\n",
       "            background-color:  #cad8ef;\n",
       "        }    #T_de7dc6d4_51ad_11e9_a772_8c8590cfa046row1_col0 {\n",
       "            background-color:  #b5cdfa;\n",
       "        }    #T_de7dc6d4_51ad_11e9_a772_8c8590cfa046row1_col1 {\n",
       "            background-color:  #b40426;\n",
       "        }    #T_de7dc6d4_51ad_11e9_a772_8c8590cfa046row1_col2 {\n",
       "            background-color:  #8db0fe;\n",
       "        }    #T_de7dc6d4_51ad_11e9_a772_8c8590cfa046row1_col3 {\n",
       "            background-color:  #6384eb;\n",
       "        }    #T_de7dc6d4_51ad_11e9_a772_8c8590cfa046row1_col4 {\n",
       "            background-color:  #6485ec;\n",
       "        }    #T_de7dc6d4_51ad_11e9_a772_8c8590cfa046row1_col5 {\n",
       "            background-color:  #9bbcff;\n",
       "        }    #T_de7dc6d4_51ad_11e9_a772_8c8590cfa046row1_col6 {\n",
       "            background-color:  #cbd8ee;\n",
       "        }    #T_de7dc6d4_51ad_11e9_a772_8c8590cfa046row1_col7 {\n",
       "            background-color:  #465ecf;\n",
       "        }    #T_de7dc6d4_51ad_11e9_a772_8c8590cfa046row1_col8 {\n",
       "            background-color:  #d1dae9;\n",
       "        }    #T_de7dc6d4_51ad_11e9_a772_8c8590cfa046row1_col9 {\n",
       "            background-color:  #90b2fe;\n",
       "        }    #T_de7dc6d4_51ad_11e9_a772_8c8590cfa046row1_col10 {\n",
       "            background-color:  #b1cbfc;\n",
       "        }    #T_de7dc6d4_51ad_11e9_a772_8c8590cfa046row2_col0 {\n",
       "            background-color:  #aec9fc;\n",
       "        }    #T_de7dc6d4_51ad_11e9_a772_8c8590cfa046row2_col1 {\n",
       "            background-color:  #5e7de7;\n",
       "        }    #T_de7dc6d4_51ad_11e9_a772_8c8590cfa046row2_col2 {\n",
       "            background-color:  #b40426;\n",
       "        }    #T_de7dc6d4_51ad_11e9_a772_8c8590cfa046row2_col3 {\n",
       "            background-color:  #7597f6;\n",
       "        }    #T_de7dc6d4_51ad_11e9_a772_8c8590cfa046row2_col4 {\n",
       "            background-color:  #799cf8;\n",
       "        }    #T_de7dc6d4_51ad_11e9_a772_8c8590cfa046row2_col5 {\n",
       "            background-color:  #8badfd;\n",
       "        }    #T_de7dc6d4_51ad_11e9_a772_8c8590cfa046row2_col6 {\n",
       "            background-color:  #c4d5f3;\n",
       "        }    #T_de7dc6d4_51ad_11e9_a772_8c8590cfa046row2_col7 {\n",
       "            background-color:  #7597f6;\n",
       "        }    #T_de7dc6d4_51ad_11e9_a772_8c8590cfa046row2_col8 {\n",
       "            background-color:  #e6d7cf;\n",
       "        }    #T_de7dc6d4_51ad_11e9_a772_8c8590cfa046row2_col9 {\n",
       "            background-color:  #5673e0;\n",
       "        }    #T_de7dc6d4_51ad_11e9_a772_8c8590cfa046row2_col10 {\n",
       "            background-color:  #c7d7f0;\n",
       "        }    #T_de7dc6d4_51ad_11e9_a772_8c8590cfa046row3_col0 {\n",
       "            background-color:  #aec9fc;\n",
       "        }    #T_de7dc6d4_51ad_11e9_a772_8c8590cfa046row3_col1 {\n",
       "            background-color:  #7b9ff9;\n",
       "        }    #T_de7dc6d4_51ad_11e9_a772_8c8590cfa046row3_col2 {\n",
       "            background-color:  #b5cdfa;\n",
       "        }    #T_de7dc6d4_51ad_11e9_a772_8c8590cfa046row3_col3 {\n",
       "            background-color:  #b40426;\n",
       "        }    #T_de7dc6d4_51ad_11e9_a772_8c8590cfa046row3_col4 {\n",
       "            background-color:  #5b7ae5;\n",
       "        }    #T_de7dc6d4_51ad_11e9_a772_8c8590cfa046row3_col5 {\n",
       "            background-color:  #6687ed;\n",
       "        }    #T_de7dc6d4_51ad_11e9_a772_8c8590cfa046row3_col6 {\n",
       "            background-color:  #8badfd;\n",
       "        }    #T_de7dc6d4_51ad_11e9_a772_8c8590cfa046row3_col7 {\n",
       "            background-color:  #82a6fb;\n",
       "        }    #T_de7dc6d4_51ad_11e9_a772_8c8590cfa046row3_col8 {\n",
       "            background-color:  #b5cdfa;\n",
       "        }    #T_de7dc6d4_51ad_11e9_a772_8c8590cfa046row3_col9 {\n",
       "            background-color:  #b1cbfc;\n",
       "        }    #T_de7dc6d4_51ad_11e9_a772_8c8590cfa046row3_col10 {\n",
       "            background-color:  #98b9ff;\n",
       "        }    #T_de7dc6d4_51ad_11e9_a772_8c8590cfa046row4_col0 {\n",
       "            background-color:  #c3d5f4;\n",
       "        }    #T_de7dc6d4_51ad_11e9_a772_8c8590cfa046row4_col1 {\n",
       "            background-color:  #5d7ce6;\n",
       "        }    #T_de7dc6d4_51ad_11e9_a772_8c8590cfa046row4_col2 {\n",
       "            background-color:  #9ebeff;\n",
       "        }    #T_de7dc6d4_51ad_11e9_a772_8c8590cfa046row4_col3 {\n",
       "            background-color:  #3b4cc0;\n",
       "        }    #T_de7dc6d4_51ad_11e9_a772_8c8590cfa046row4_col4 {\n",
       "            background-color:  #b40426;\n",
       "        }    #T_de7dc6d4_51ad_11e9_a772_8c8590cfa046row4_col5 {\n",
       "            background-color:  #92b4fe;\n",
       "        }    #T_de7dc6d4_51ad_11e9_a772_8c8590cfa046row4_col6 {\n",
       "            background-color:  #afcafc;\n",
       "        }    #T_de7dc6d4_51ad_11e9_a772_8c8590cfa046row4_col7 {\n",
       "            background-color:  #7da0f9;\n",
       "        }    #T_de7dc6d4_51ad_11e9_a772_8c8590cfa046row4_col8 {\n",
       "            background-color:  #b3cdfb;\n",
       "        }    #T_de7dc6d4_51ad_11e9_a772_8c8590cfa046row4_col9 {\n",
       "            background-color:  #80a3fa;\n",
       "        }    #T_de7dc6d4_51ad_11e9_a772_8c8590cfa046row4_col10 {\n",
       "            background-color:  #abc8fd;\n",
       "        }    #T_de7dc6d4_51ad_11e9_a772_8c8590cfa046row5_col0 {\n",
       "            background-color:  #93b5fe;\n",
       "        }    #T_de7dc6d4_51ad_11e9_a772_8c8590cfa046row5_col1 {\n",
       "            background-color:  #8fb1fe;\n",
       "        }    #T_de7dc6d4_51ad_11e9_a772_8c8590cfa046row5_col2 {\n",
       "            background-color:  #a9c6fd;\n",
       "        }    #T_de7dc6d4_51ad_11e9_a772_8c8590cfa046row5_col3 {\n",
       "            background-color:  #3f53c6;\n",
       "        }    #T_de7dc6d4_51ad_11e9_a772_8c8590cfa046row5_col4 {\n",
       "            background-color:  #8db0fe;\n",
       "        }    #T_de7dc6d4_51ad_11e9_a772_8c8590cfa046row5_col5 {\n",
       "            background-color:  #b40426;\n",
       "        }    #T_de7dc6d4_51ad_11e9_a772_8c8590cfa046row5_col6 {\n",
       "            background-color:  #81a4fb;\n",
       "        }    #T_de7dc6d4_51ad_11e9_a772_8c8590cfa046row5_col7 {\n",
       "            background-color:  #3f53c6;\n",
       "        }    #T_de7dc6d4_51ad_11e9_a772_8c8590cfa046row5_col8 {\n",
       "            background-color:  #cbd8ee;\n",
       "        }    #T_de7dc6d4_51ad_11e9_a772_8c8590cfa046row5_col9 {\n",
       "            background-color:  #7a9df8;\n",
       "        }    #T_de7dc6d4_51ad_11e9_a772_8c8590cfa046row5_col10 {\n",
       "            background-color:  #bfd3f6;\n",
       "        }    #T_de7dc6d4_51ad_11e9_a772_8c8590cfa046row6_col0 {\n",
       "            background-color:  #f7a889;\n",
       "        }    #T_de7dc6d4_51ad_11e9_a772_8c8590cfa046row6_col1 {\n",
       "            background-color:  #a5c3fe;\n",
       "        }    #T_de7dc6d4_51ad_11e9_a772_8c8590cfa046row6_col2 {\n",
       "            background-color:  #c0d4f5;\n",
       "        }    #T_de7dc6d4_51ad_11e9_a772_8c8590cfa046row6_col3 {\n",
       "            background-color:  #3c4ec2;\n",
       "        }    #T_de7dc6d4_51ad_11e9_a772_8c8590cfa046row6_col4 {\n",
       "            background-color:  #88abfd;\n",
       "        }    #T_de7dc6d4_51ad_11e9_a772_8c8590cfa046row6_col5 {\n",
       "            background-color:  #5875e1;\n",
       "        }    #T_de7dc6d4_51ad_11e9_a772_8c8590cfa046row6_col6 {\n",
       "            background-color:  #b40426;\n",
       "        }    #T_de7dc6d4_51ad_11e9_a772_8c8590cfa046row6_col7 {\n",
       "            background-color:  #7295f4;\n",
       "        }    #T_de7dc6d4_51ad_11e9_a772_8c8590cfa046row6_col8 {\n",
       "            background-color:  #d2dbe8;\n",
       "        }    #T_de7dc6d4_51ad_11e9_a772_8c8590cfa046row6_col9 {\n",
       "            background-color:  #516ddb;\n",
       "        }    #T_de7dc6d4_51ad_11e9_a772_8c8590cfa046row6_col10 {\n",
       "            background-color:  #c5d6f2;\n",
       "        }    #T_de7dc6d4_51ad_11e9_a772_8c8590cfa046row7_col0 {\n",
       "            background-color:  #b3cdfb;\n",
       "        }    #T_de7dc6d4_51ad_11e9_a772_8c8590cfa046row7_col1 {\n",
       "            background-color:  #3b4cc0;\n",
       "        }    #T_de7dc6d4_51ad_11e9_a772_8c8590cfa046row7_col2 {\n",
       "            background-color:  #98b9ff;\n",
       "        }    #T_de7dc6d4_51ad_11e9_a772_8c8590cfa046row7_col3 {\n",
       "            background-color:  #5e7de7;\n",
       "        }    #T_de7dc6d4_51ad_11e9_a772_8c8590cfa046row7_col4 {\n",
       "            background-color:  #799cf8;\n",
       "        }    #T_de7dc6d4_51ad_11e9_a772_8c8590cfa046row7_col5 {\n",
       "            background-color:  #4257c9;\n",
       "        }    #T_de7dc6d4_51ad_11e9_a772_8c8590cfa046row7_col6 {\n",
       "            background-color:  #9abbff;\n",
       "        }    #T_de7dc6d4_51ad_11e9_a772_8c8590cfa046row7_col7 {\n",
       "            background-color:  #b40426;\n",
       "        }    #T_de7dc6d4_51ad_11e9_a772_8c8590cfa046row7_col8 {\n",
       "            background-color:  #7b9ff9;\n",
       "        }    #T_de7dc6d4_51ad_11e9_a772_8c8590cfa046row7_col9 {\n",
       "            background-color:  #96b7ff;\n",
       "        }    #T_de7dc6d4_51ad_11e9_a772_8c8590cfa046row7_col10 {\n",
       "            background-color:  #cedaeb;\n",
       "        }    #T_de7dc6d4_51ad_11e9_a772_8c8590cfa046row8_col0 {\n",
       "            background-color:  #cbd8ee;\n",
       "        }    #T_de7dc6d4_51ad_11e9_a772_8c8590cfa046row8_col1 {\n",
       "            background-color:  #9abbff;\n",
       "        }    #T_de7dc6d4_51ad_11e9_a772_8c8590cfa046row8_col2 {\n",
       "            background-color:  #d9dce1;\n",
       "        }    #T_de7dc6d4_51ad_11e9_a772_8c8590cfa046row8_col3 {\n",
       "            background-color:  #5977e3;\n",
       "        }    #T_de7dc6d4_51ad_11e9_a772_8c8590cfa046row8_col4 {\n",
       "            background-color:  #7699f6;\n",
       "        }    #T_de7dc6d4_51ad_11e9_a772_8c8590cfa046row8_col5 {\n",
       "            background-color:  #9dbdff;\n",
       "        }    #T_de7dc6d4_51ad_11e9_a772_8c8590cfa046row8_col6 {\n",
       "            background-color:  #c5d6f2;\n",
       "        }    #T_de7dc6d4_51ad_11e9_a772_8c8590cfa046row8_col7 {\n",
       "            background-color:  #3b4cc0;\n",
       "        }    #T_de7dc6d4_51ad_11e9_a772_8c8590cfa046row8_col8 {\n",
       "            background-color:  #b40426;\n",
       "        }    #T_de7dc6d4_51ad_11e9_a772_8c8590cfa046row8_col9 {\n",
       "            background-color:  #3b4cc0;\n",
       "        }    #T_de7dc6d4_51ad_11e9_a772_8c8590cfa046row8_col10 {\n",
       "            background-color:  #b2ccfb;\n",
       "        }    #T_de7dc6d4_51ad_11e9_a772_8c8590cfa046row9_col0 {\n",
       "            background-color:  #3b4cc0;\n",
       "        }    #T_de7dc6d4_51ad_11e9_a772_8c8590cfa046row9_col1 {\n",
       "            background-color:  #445acc;\n",
       "        }    #T_de7dc6d4_51ad_11e9_a772_8c8590cfa046row9_col2 {\n",
       "            background-color:  #3b4cc0;\n",
       "        }    #T_de7dc6d4_51ad_11e9_a772_8c8590cfa046row9_col3 {\n",
       "            background-color:  #536edd;\n",
       "        }    #T_de7dc6d4_51ad_11e9_a772_8c8590cfa046row9_col4 {\n",
       "            background-color:  #3b4cc0;\n",
       "        }    #T_de7dc6d4_51ad_11e9_a772_8c8590cfa046row9_col5 {\n",
       "            background-color:  #3b4cc0;\n",
       "        }    #T_de7dc6d4_51ad_11e9_a772_8c8590cfa046row9_col6 {\n",
       "            background-color:  #3b4cc0;\n",
       "        }    #T_de7dc6d4_51ad_11e9_a772_8c8590cfa046row9_col7 {\n",
       "            background-color:  #5673e0;\n",
       "        }    #T_de7dc6d4_51ad_11e9_a772_8c8590cfa046row9_col8 {\n",
       "            background-color:  #3b4cc0;\n",
       "        }    #T_de7dc6d4_51ad_11e9_a772_8c8590cfa046row9_col9 {\n",
       "            background-color:  #b40426;\n",
       "        }    #T_de7dc6d4_51ad_11e9_a772_8c8590cfa046row9_col10 {\n",
       "            background-color:  #3b4cc0;\n",
       "        }    #T_de7dc6d4_51ad_11e9_a772_8c8590cfa046row10_col0 {\n",
       "            background-color:  #cedaeb;\n",
       "        }    #T_de7dc6d4_51ad_11e9_a772_8c8590cfa046row10_col1 {\n",
       "            background-color:  #7396f5;\n",
       "        }    #T_de7dc6d4_51ad_11e9_a772_8c8590cfa046row10_col2 {\n",
       "            background-color:  #bbd1f8;\n",
       "        }    #T_de7dc6d4_51ad_11e9_a772_8c8590cfa046row10_col3 {\n",
       "            background-color:  #3d50c3;\n",
       "        }    #T_de7dc6d4_51ad_11e9_a772_8c8590cfa046row10_col4 {\n",
       "            background-color:  #7699f6;\n",
       "        }    #T_de7dc6d4_51ad_11e9_a772_8c8590cfa046row10_col5 {\n",
       "            background-color:  #93b5fe;\n",
       "        }    #T_de7dc6d4_51ad_11e9_a772_8c8590cfa046row10_col6 {\n",
       "            background-color:  #bcd2f7;\n",
       "        }    #T_de7dc6d4_51ad_11e9_a772_8c8590cfa046row10_col7 {\n",
       "            background-color:  #a7c5fe;\n",
       "        }    #T_de7dc6d4_51ad_11e9_a772_8c8590cfa046row10_col8 {\n",
       "            background-color:  #b7cff9;\n",
       "        }    #T_de7dc6d4_51ad_11e9_a772_8c8590cfa046row10_col9 {\n",
       "            background-color:  #4358cb;\n",
       "        }    #T_de7dc6d4_51ad_11e9_a772_8c8590cfa046row10_col10 {\n",
       "            background-color:  #b40426;\n",
       "        }</style>  \n",
       "<table id=\"T_de7dc6d4_51ad_11e9_a772_8c8590cfa046\" > \n",
       "<thead>    <tr> \n",
       "        <th class=\"blank level0\" ></th> \n",
       "        <th class=\"col_heading level0 col0\" >slope_of_peak_exercise_st_segment</th> \n",
       "        <th class=\"col_heading level0 col1\" >resting_blood_pressure</th> \n",
       "        <th class=\"col_heading level0 col2\" >num_major_vessels</th> \n",
       "        <th class=\"col_heading level0 col3\" >fasting_blood_sugar_gt_120_mg_per_dl</th> \n",
       "        <th class=\"col_heading level0 col4\" >resting_ekg_results</th> \n",
       "        <th class=\"col_heading level0 col5\" >serum_cholesterol_mg_per_dl</th> \n",
       "        <th class=\"col_heading level0 col6\" >oldpeak_eq_st_depression</th> \n",
       "        <th class=\"col_heading level0 col7\" >sex</th> \n",
       "        <th class=\"col_heading level0 col8\" >age</th> \n",
       "        <th class=\"col_heading level0 col9\" >max_heart_rate_achieved</th> \n",
       "        <th class=\"col_heading level0 col10\" >exercise_induced_angina</th> \n",
       "    </tr></thead> \n",
       "<tbody>    <tr> \n",
       "        <th id=\"T_de7dc6d4_51ad_11e9_a772_8c8590cfa046level0_row0\" class=\"row_heading level0 row0\" >slope_of_peak_exercise_st_segment</th> \n",
       "        <td id=\"T_de7dc6d4_51ad_11e9_a772_8c8590cfa046row0_col0\" class=\"data row0 col0\" >1</td> \n",
       "        <td id=\"T_de7dc6d4_51ad_11e9_a772_8c8590cfa046row0_col1\" class=\"data row0 col1\" >0.1</td> \n",
       "        <td id=\"T_de7dc6d4_51ad_11e9_a772_8c8590cfa046row0_col2\" class=\"data row0 col2\" >0.07</td> \n",
       "        <td id=\"T_de7dc6d4_51ad_11e9_a772_8c8590cfa046row0_col3\" class=\"data row0 col3\" >0.069</td> \n",
       "        <td id=\"T_de7dc6d4_51ad_11e9_a772_8c8590cfa046row0_col4\" class=\"data row0 col4\" >0.16</td> \n",
       "        <td id=\"T_de7dc6d4_51ad_11e9_a772_8c8590cfa046row0_col5\" class=\"data row0 col5\" >-0.039</td> \n",
       "        <td id=\"T_de7dc6d4_51ad_11e9_a772_8c8590cfa046row0_col6\" class=\"data row0 col6\" >0.59</td> \n",
       "        <td id=\"T_de7dc6d4_51ad_11e9_a772_8c8590cfa046row0_col7\" class=\"data row0 col7\" >0.089</td> \n",
       "        <td id=\"T_de7dc6d4_51ad_11e9_a772_8c8590cfa046row0_col8\" class=\"data row0 col8\" >0.19</td> \n",
       "        <td id=\"T_de7dc6d4_51ad_11e9_a772_8c8590cfa046row0_col9\" class=\"data row0 col9\" >-0.42</td> \n",
       "        <td id=\"T_de7dc6d4_51ad_11e9_a772_8c8590cfa046row0_col10\" class=\"data row0 col10\" >0.21</td> \n",
       "    </tr>    <tr> \n",
       "        <th id=\"T_de7dc6d4_51ad_11e9_a772_8c8590cfa046level0_row1\" class=\"row_heading level0 row1\" >resting_blood_pressure</th> \n",
       "        <td id=\"T_de7dc6d4_51ad_11e9_a772_8c8590cfa046row1_col0\" class=\"data row1 col0\" >0.1</td> \n",
       "        <td id=\"T_de7dc6d4_51ad_11e9_a772_8c8590cfa046row1_col1\" class=\"data row1 col1\" >1</td> \n",
       "        <td id=\"T_de7dc6d4_51ad_11e9_a772_8c8590cfa046row1_col2\" class=\"data row1 col2\" >0.033</td> \n",
       "        <td id=\"T_de7dc6d4_51ad_11e9_a772_8c8590cfa046row1_col3\" class=\"data row1 col3\" >0.13</td> \n",
       "        <td id=\"T_de7dc6d4_51ad_11e9_a772_8c8590cfa046row1_col4\" class=\"data row1 col4\" >0.029</td> \n",
       "        <td id=\"T_de7dc6d4_51ad_11e9_a772_8c8590cfa046row1_col5\" class=\"data row1 col5\" >0.19</td> \n",
       "        <td id=\"T_de7dc6d4_51ad_11e9_a772_8c8590cfa046row1_col6\" class=\"data row1 col6\" >0.25</td> \n",
       "        <td id=\"T_de7dc6d4_51ad_11e9_a772_8c8590cfa046row1_col7\" class=\"data row1 col7\" >-0.091</td> \n",
       "        <td id=\"T_de7dc6d4_51ad_11e9_a772_8c8590cfa046row1_col8\" class=\"data row1 col8\" >0.22</td> \n",
       "        <td id=\"T_de7dc6d4_51ad_11e9_a772_8c8590cfa046row1_col9\" class=\"data row1 col9\" >-0.054</td> \n",
       "        <td id=\"T_de7dc6d4_51ad_11e9_a772_8c8590cfa046row1_col10\" class=\"data row1 col10\" >0.1</td> \n",
       "    </tr>    <tr> \n",
       "        <th id=\"T_de7dc6d4_51ad_11e9_a772_8c8590cfa046level0_row2\" class=\"row_heading level0 row2\" >num_major_vessels</th> \n",
       "        <td id=\"T_de7dc6d4_51ad_11e9_a772_8c8590cfa046row2_col0\" class=\"data row2 col0\" >0.07</td> \n",
       "        <td id=\"T_de7dc6d4_51ad_11e9_a772_8c8590cfa046row2_col1\" class=\"data row2 col1\" >0.033</td> \n",
       "        <td id=\"T_de7dc6d4_51ad_11e9_a772_8c8590cfa046row2_col2\" class=\"data row2 col2\" >1</td> \n",
       "        <td id=\"T_de7dc6d4_51ad_11e9_a772_8c8590cfa046row2_col3\" class=\"data row2 col3\" >0.18</td> \n",
       "        <td id=\"T_de7dc6d4_51ad_11e9_a772_8c8590cfa046row2_col4\" class=\"data row2 col4\" >0.095</td> \n",
       "        <td id=\"T_de7dc6d4_51ad_11e9_a772_8c8590cfa046row2_col5\" class=\"data row2 col5\" >0.13</td> \n",
       "        <td id=\"T_de7dc6d4_51ad_11e9_a772_8c8590cfa046row2_col6\" class=\"data row2 col6\" >0.22</td> \n",
       "        <td id=\"T_de7dc6d4_51ad_11e9_a772_8c8590cfa046row2_col7\" class=\"data row2 col7\" >0.071</td> \n",
       "        <td id=\"T_de7dc6d4_51ad_11e9_a772_8c8590cfa046row2_col8\" class=\"data row2 col8\" >0.34</td> \n",
       "        <td id=\"T_de7dc6d4_51ad_11e9_a772_8c8590cfa046row2_col9\" class=\"data row2 col9\" >-0.29</td> \n",
       "        <td id=\"T_de7dc6d4_51ad_11e9_a772_8c8590cfa046row2_col10\" class=\"data row2 col10\" >0.2</td> \n",
       "    </tr>    <tr> \n",
       "        <th id=\"T_de7dc6d4_51ad_11e9_a772_8c8590cfa046level0_row3\" class=\"row_heading level0 row3\" >fasting_blood_sugar_gt_120_mg_per_dl</th> \n",
       "        <td id=\"T_de7dc6d4_51ad_11e9_a772_8c8590cfa046row3_col0\" class=\"data row3 col0\" >0.069</td> \n",
       "        <td id=\"T_de7dc6d4_51ad_11e9_a772_8c8590cfa046row3_col1\" class=\"data row3 col1\" >0.13</td> \n",
       "        <td id=\"T_de7dc6d4_51ad_11e9_a772_8c8590cfa046row3_col2\" class=\"data row3 col2\" >0.18</td> \n",
       "        <td id=\"T_de7dc6d4_51ad_11e9_a772_8c8590cfa046row3_col3\" class=\"data row3 col3\" >1</td> \n",
       "        <td id=\"T_de7dc6d4_51ad_11e9_a772_8c8590cfa046row3_col4\" class=\"data row3 col4\" >-0.0031</td> \n",
       "        <td id=\"T_de7dc6d4_51ad_11e9_a772_8c8590cfa046row3_col5\" class=\"data row3 col5\" >0.014</td> \n",
       "        <td id=\"T_de7dc6d4_51ad_11e9_a772_8c8590cfa046row3_col6\" class=\"data row3 col6\" >0.0042</td> \n",
       "        <td id=\"T_de7dc6d4_51ad_11e9_a772_8c8590cfa046row3_col7\" class=\"data row3 col7\" >0.11</td> \n",
       "        <td id=\"T_de7dc6d4_51ad_11e9_a772_8c8590cfa046row3_col8\" class=\"data row3 col8\" >0.097</td> \n",
       "        <td id=\"T_de7dc6d4_51ad_11e9_a772_8c8590cfa046row3_col9\" class=\"data row3 col9\" >0.076</td> \n",
       "        <td id=\"T_de7dc6d4_51ad_11e9_a772_8c8590cfa046row3_col10\" class=\"data row3 col10\" >0.0066</td> \n",
       "    </tr>    <tr> \n",
       "        <th id=\"T_de7dc6d4_51ad_11e9_a772_8c8590cfa046level0_row4\" class=\"row_heading level0 row4\" >resting_ekg_results</th> \n",
       "        <td id=\"T_de7dc6d4_51ad_11e9_a772_8c8590cfa046row4_col0\" class=\"data row4 col0\" >0.16</td> \n",
       "        <td id=\"T_de7dc6d4_51ad_11e9_a772_8c8590cfa046row4_col1\" class=\"data row4 col1\" >0.029</td> \n",
       "        <td id=\"T_de7dc6d4_51ad_11e9_a772_8c8590cfa046row4_col2\" class=\"data row4 col2\" >0.095</td> \n",
       "        <td id=\"T_de7dc6d4_51ad_11e9_a772_8c8590cfa046row4_col3\" class=\"data row4 col3\" >-0.0031</td> \n",
       "        <td id=\"T_de7dc6d4_51ad_11e9_a772_8c8590cfa046row4_col4\" class=\"data row4 col4\" >1</td> \n",
       "        <td id=\"T_de7dc6d4_51ad_11e9_a772_8c8590cfa046row4_col5\" class=\"data row4 col5\" >0.16</td> \n",
       "        <td id=\"T_de7dc6d4_51ad_11e9_a772_8c8590cfa046row4_col6\" class=\"data row4 col6\" >0.14</td> \n",
       "        <td id=\"T_de7dc6d4_51ad_11e9_a772_8c8590cfa046row4_col7\" class=\"data row4 col7\" >0.094</td> \n",
       "        <td id=\"T_de7dc6d4_51ad_11e9_a772_8c8590cfa046row4_col8\" class=\"data row4 col8\" >0.086</td> \n",
       "        <td id=\"T_de7dc6d4_51ad_11e9_a772_8c8590cfa046row4_col9\" class=\"data row4 col9\" >-0.12</td> \n",
       "        <td id=\"T_de7dc6d4_51ad_11e9_a772_8c8590cfa046row4_col10\" class=\"data row4 col10\" >0.084</td> \n",
       "    </tr>    <tr> \n",
       "        <th id=\"T_de7dc6d4_51ad_11e9_a772_8c8590cfa046level0_row5\" class=\"row_heading level0 row5\" >serum_cholesterol_mg_per_dl</th> \n",
       "        <td id=\"T_de7dc6d4_51ad_11e9_a772_8c8590cfa046row5_col0\" class=\"data row5 col0\" >-0.039</td> \n",
       "        <td id=\"T_de7dc6d4_51ad_11e9_a772_8c8590cfa046row5_col1\" class=\"data row5 col1\" >0.19</td> \n",
       "        <td id=\"T_de7dc6d4_51ad_11e9_a772_8c8590cfa046row5_col2\" class=\"data row5 col2\" >0.13</td> \n",
       "        <td id=\"T_de7dc6d4_51ad_11e9_a772_8c8590cfa046row5_col3\" class=\"data row5 col3\" >0.014</td> \n",
       "        <td id=\"T_de7dc6d4_51ad_11e9_a772_8c8590cfa046row5_col4\" class=\"data row5 col4\" >0.16</td> \n",
       "        <td id=\"T_de7dc6d4_51ad_11e9_a772_8c8590cfa046row5_col5\" class=\"data row5 col5\" >1</td> \n",
       "        <td id=\"T_de7dc6d4_51ad_11e9_a772_8c8590cfa046row5_col6\" class=\"data row5 col6\" >-0.035</td> \n",
       "        <td id=\"T_de7dc6d4_51ad_11e9_a772_8c8590cfa046row5_col7\" class=\"data row5 col7\" >-0.12</td> \n",
       "        <td id=\"T_de7dc6d4_51ad_11e9_a772_8c8590cfa046row5_col8\" class=\"data row5 col8\" >0.19</td> \n",
       "        <td id=\"T_de7dc6d4_51ad_11e9_a772_8c8590cfa046row5_col9\" class=\"data row5 col9\" >-0.14</td> \n",
       "        <td id=\"T_de7dc6d4_51ad_11e9_a772_8c8590cfa046row5_col10\" class=\"data row5 col10\" >0.16</td> \n",
       "    </tr>    <tr> \n",
       "        <th id=\"T_de7dc6d4_51ad_11e9_a772_8c8590cfa046level0_row6\" class=\"row_heading level0 row6\" >oldpeak_eq_st_depression</th> \n",
       "        <td id=\"T_de7dc6d4_51ad_11e9_a772_8c8590cfa046row6_col0\" class=\"data row6 col0\" >0.59</td> \n",
       "        <td id=\"T_de7dc6d4_51ad_11e9_a772_8c8590cfa046row6_col1\" class=\"data row6 col1\" >0.25</td> \n",
       "        <td id=\"T_de7dc6d4_51ad_11e9_a772_8c8590cfa046row6_col2\" class=\"data row6 col2\" >0.22</td> \n",
       "        <td id=\"T_de7dc6d4_51ad_11e9_a772_8c8590cfa046row6_col3\" class=\"data row6 col3\" >0.0042</td> \n",
       "        <td id=\"T_de7dc6d4_51ad_11e9_a772_8c8590cfa046row6_col4\" class=\"data row6 col4\" >0.14</td> \n",
       "        <td id=\"T_de7dc6d4_51ad_11e9_a772_8c8590cfa046row6_col5\" class=\"data row6 col5\" >-0.035</td> \n",
       "        <td id=\"T_de7dc6d4_51ad_11e9_a772_8c8590cfa046row6_col6\" class=\"data row6 col6\" >1</td> \n",
       "        <td id=\"T_de7dc6d4_51ad_11e9_a772_8c8590cfa046row6_col7\" class=\"data row6 col7\" >0.059</td> \n",
       "        <td id=\"T_de7dc6d4_51ad_11e9_a772_8c8590cfa046row6_col8\" class=\"data row6 col8\" >0.23</td> \n",
       "        <td id=\"T_de7dc6d4_51ad_11e9_a772_8c8590cfa046row6_col9\" class=\"data row6 col9\" >-0.32</td> \n",
       "        <td id=\"T_de7dc6d4_51ad_11e9_a772_8c8590cfa046row6_col10\" class=\"data row6 col10\" >0.19</td> \n",
       "    </tr>    <tr> \n",
       "        <th id=\"T_de7dc6d4_51ad_11e9_a772_8c8590cfa046level0_row7\" class=\"row_heading level0 row7\" >sex</th> \n",
       "        <td id=\"T_de7dc6d4_51ad_11e9_a772_8c8590cfa046row7_col0\" class=\"data row7 col0\" >0.089</td> \n",
       "        <td id=\"T_de7dc6d4_51ad_11e9_a772_8c8590cfa046row7_col1\" class=\"data row7 col1\" >-0.091</td> \n",
       "        <td id=\"T_de7dc6d4_51ad_11e9_a772_8c8590cfa046row7_col2\" class=\"data row7 col2\" >0.071</td> \n",
       "        <td id=\"T_de7dc6d4_51ad_11e9_a772_8c8590cfa046row7_col3\" class=\"data row7 col3\" >0.11</td> \n",
       "        <td id=\"T_de7dc6d4_51ad_11e9_a772_8c8590cfa046row7_col4\" class=\"data row7 col4\" >0.094</td> \n",
       "        <td id=\"T_de7dc6d4_51ad_11e9_a772_8c8590cfa046row7_col5\" class=\"data row7 col5\" >-0.12</td> \n",
       "        <td id=\"T_de7dc6d4_51ad_11e9_a772_8c8590cfa046row7_col6\" class=\"data row7 col6\" >0.059</td> \n",
       "        <td id=\"T_de7dc6d4_51ad_11e9_a772_8c8590cfa046row7_col7\" class=\"data row7 col7\" >1</td> \n",
       "        <td id=\"T_de7dc6d4_51ad_11e9_a772_8c8590cfa046row7_col8\" class=\"data row7 col8\" >-0.14</td> \n",
       "        <td id=\"T_de7dc6d4_51ad_11e9_a772_8c8590cfa046row7_col9\" class=\"data row7 col9\" >-0.031</td> \n",
       "        <td id=\"T_de7dc6d4_51ad_11e9_a772_8c8590cfa046row7_col10\" class=\"data row7 col10\" >0.23</td> \n",
       "    </tr>    <tr> \n",
       "        <th id=\"T_de7dc6d4_51ad_11e9_a772_8c8590cfa046level0_row8\" class=\"row_heading level0 row8\" >age</th> \n",
       "        <td id=\"T_de7dc6d4_51ad_11e9_a772_8c8590cfa046row8_col0\" class=\"data row8 col0\" >0.19</td> \n",
       "        <td id=\"T_de7dc6d4_51ad_11e9_a772_8c8590cfa046row8_col1\" class=\"data row8 col1\" >0.22</td> \n",
       "        <td id=\"T_de7dc6d4_51ad_11e9_a772_8c8590cfa046row8_col2\" class=\"data row8 col2\" >0.34</td> \n",
       "        <td id=\"T_de7dc6d4_51ad_11e9_a772_8c8590cfa046row8_col3\" class=\"data row8 col3\" >0.097</td> \n",
       "        <td id=\"T_de7dc6d4_51ad_11e9_a772_8c8590cfa046row8_col4\" class=\"data row8 col4\" >0.086</td> \n",
       "        <td id=\"T_de7dc6d4_51ad_11e9_a772_8c8590cfa046row8_col5\" class=\"data row8 col5\" >0.19</td> \n",
       "        <td id=\"T_de7dc6d4_51ad_11e9_a772_8c8590cfa046row8_col6\" class=\"data row8 col6\" >0.23</td> \n",
       "        <td id=\"T_de7dc6d4_51ad_11e9_a772_8c8590cfa046row8_col7\" class=\"data row8 col7\" >-0.14</td> \n",
       "        <td id=\"T_de7dc6d4_51ad_11e9_a772_8c8590cfa046row8_col8\" class=\"data row8 col8\" >1</td> \n",
       "        <td id=\"T_de7dc6d4_51ad_11e9_a772_8c8590cfa046row8_col9\" class=\"data row8 col9\" >-0.43</td> \n",
       "        <td id=\"T_de7dc6d4_51ad_11e9_a772_8c8590cfa046row8_col10\" class=\"data row8 col10\" >0.11</td> \n",
       "    </tr>    <tr> \n",
       "        <th id=\"T_de7dc6d4_51ad_11e9_a772_8c8590cfa046level0_row9\" class=\"row_heading level0 row9\" >max_heart_rate_achieved</th> \n",
       "        <td id=\"T_de7dc6d4_51ad_11e9_a772_8c8590cfa046row9_col0\" class=\"data row9 col0\" >-0.42</td> \n",
       "        <td id=\"T_de7dc6d4_51ad_11e9_a772_8c8590cfa046row9_col1\" class=\"data row9 col1\" >-0.054</td> \n",
       "        <td id=\"T_de7dc6d4_51ad_11e9_a772_8c8590cfa046row9_col2\" class=\"data row9 col2\" >-0.29</td> \n",
       "        <td id=\"T_de7dc6d4_51ad_11e9_a772_8c8590cfa046row9_col3\" class=\"data row9 col3\" >0.076</td> \n",
       "        <td id=\"T_de7dc6d4_51ad_11e9_a772_8c8590cfa046row9_col4\" class=\"data row9 col4\" >-0.12</td> \n",
       "        <td id=\"T_de7dc6d4_51ad_11e9_a772_8c8590cfa046row9_col5\" class=\"data row9 col5\" >-0.14</td> \n",
       "        <td id=\"T_de7dc6d4_51ad_11e9_a772_8c8590cfa046row9_col6\" class=\"data row9 col6\" >-0.32</td> \n",
       "        <td id=\"T_de7dc6d4_51ad_11e9_a772_8c8590cfa046row9_col7\" class=\"data row9 col7\" >-0.031</td> \n",
       "        <td id=\"T_de7dc6d4_51ad_11e9_a772_8c8590cfa046row9_col8\" class=\"data row9 col8\" >-0.43</td> \n",
       "        <td id=\"T_de7dc6d4_51ad_11e9_a772_8c8590cfa046row9_col9\" class=\"data row9 col9\" >1</td> \n",
       "        <td id=\"T_de7dc6d4_51ad_11e9_a772_8c8590cfa046row9_col10\" class=\"data row9 col10\" >-0.39</td> \n",
       "    </tr>    <tr> \n",
       "        <th id=\"T_de7dc6d4_51ad_11e9_a772_8c8590cfa046level0_row10\" class=\"row_heading level0 row10\" >exercise_induced_angina</th> \n",
       "        <td id=\"T_de7dc6d4_51ad_11e9_a772_8c8590cfa046row10_col0\" class=\"data row10 col0\" >0.21</td> \n",
       "        <td id=\"T_de7dc6d4_51ad_11e9_a772_8c8590cfa046row10_col1\" class=\"data row10 col1\" >0.1</td> \n",
       "        <td id=\"T_de7dc6d4_51ad_11e9_a772_8c8590cfa046row10_col2\" class=\"data row10 col2\" >0.2</td> \n",
       "        <td id=\"T_de7dc6d4_51ad_11e9_a772_8c8590cfa046row10_col3\" class=\"data row10 col3\" >0.0066</td> \n",
       "        <td id=\"T_de7dc6d4_51ad_11e9_a772_8c8590cfa046row10_col4\" class=\"data row10 col4\" >0.084</td> \n",
       "        <td id=\"T_de7dc6d4_51ad_11e9_a772_8c8590cfa046row10_col5\" class=\"data row10 col5\" >0.16</td> \n",
       "        <td id=\"T_de7dc6d4_51ad_11e9_a772_8c8590cfa046row10_col6\" class=\"data row10 col6\" >0.19</td> \n",
       "        <td id=\"T_de7dc6d4_51ad_11e9_a772_8c8590cfa046row10_col7\" class=\"data row10 col7\" >0.23</td> \n",
       "        <td id=\"T_de7dc6d4_51ad_11e9_a772_8c8590cfa046row10_col8\" class=\"data row10 col8\" >0.11</td> \n",
       "        <td id=\"T_de7dc6d4_51ad_11e9_a772_8c8590cfa046row10_col9\" class=\"data row10 col9\" >-0.39</td> \n",
       "        <td id=\"T_de7dc6d4_51ad_11e9_a772_8c8590cfa046row10_col10\" class=\"data row10 col10\" >1</td> \n",
       "    </tr></tbody> \n",
       "</table> "
      ],
      "text/plain": [
       "<pandas.io.formats.style.Styler at 0x1a26e755c0>"
      ]
     },
     "execution_count": 23,
     "metadata": {},
     "output_type": "execute_result"
    }
   ],
   "source": [
    "corr_matrix.style.background_gradient(cmap='coolwarm').set_precision(2)"
   ]
  },
  {
   "cell_type": "code",
   "execution_count": 24,
   "metadata": {},
   "outputs": [],
   "source": [
    "y_train = y_train['heart_disease_present'].values"
   ]
  },
  {
   "cell_type": "code",
   "execution_count": 25,
   "metadata": {},
   "outputs": [],
   "source": [
    "X_train2 = pipe.fit_transform(X_train)"
   ]
  },
  {
   "cell_type": "markdown",
   "metadata": {},
   "source": [
    "### Model Evaluation"
   ]
  },
  {
   "cell_type": "code",
   "execution_count": 26,
   "metadata": {},
   "outputs": [],
   "source": [
    "scores_df = pd.DataFrame()"
   ]
  },
  {
   "cell_type": "code",
   "execution_count": 27,
   "metadata": {},
   "outputs": [],
   "source": [
    "sgd_cvs = cross_val_score(SGDClassifier(max_iter=1000,tol=0.001,random_state=42), X_train2, y_train, cv=5, scoring=\"roc_auc\")\n",
    "scores_df['SGD'] = sgd_cvs"
   ]
  },
  {
   "cell_type": "code",
   "execution_count": 28,
   "metadata": {},
   "outputs": [],
   "source": [
    "log_cvs = cross_val_score(LogisticRegression(solver='lbfgs',random_state=42), X_train2, y_train, cv=5, scoring=\"roc_auc\")\n",
    "scores_df['Logistic Regression'] = log_cvs"
   ]
  },
  {
   "cell_type": "code",
   "execution_count": 29,
   "metadata": {},
   "outputs": [],
   "source": [
    "tree_cvs = cross_val_score(DecisionTreeClassifier(random_state=42), X_train2, y_train, cv=5, scoring=\"roc_auc\")\n",
    "scores_df['Decision Tree'] = tree_cvs"
   ]
  },
  {
   "cell_type": "code",
   "execution_count": 30,
   "metadata": {},
   "outputs": [],
   "source": [
    "svc_cvs = cross_val_score(SVC(gamma='auto',random_state=42), X_train2, y_train, cv=5, scoring=\"roc_auc\")\n",
    "scores_df['SVC'] = svc_cvs"
   ]
  },
  {
   "cell_type": "code",
   "execution_count": 31,
   "metadata": {},
   "outputs": [],
   "source": [
    "svp_cvs = cross_val_score(SVC(kernel='poly',gamma='auto',random_state=42), X_train2, y_train, cv=5, scoring=\"roc_auc\")\n",
    "scores_df['SVC Poly'] = svp_cvs"
   ]
  },
  {
   "cell_type": "code",
   "execution_count": 32,
   "metadata": {},
   "outputs": [],
   "source": [
    "knn_cvs = cross_val_score(KNeighborsClassifier(), X_train2, y_train, cv=5, scoring=\"roc_auc\")\n",
    "scores_df['KNN'] = knn_cvs"
   ]
  },
  {
   "cell_type": "code",
   "execution_count": 33,
   "metadata": {},
   "outputs": [],
   "source": [
    "for_cvs = cross_val_score(RandomForestClassifier(n_estimators=100,random_state=42), X_train2, y_train, cv=5, scoring=\"roc_auc\")\n",
    "scores_df['Forest'] = for_cvs"
   ]
  },
  {
   "cell_type": "code",
   "execution_count": 34,
   "metadata": {},
   "outputs": [],
   "source": [
    "xtr_cvs = cross_val_score(ExtraTreesClassifier(n_estimators=1000,random_state=42), X_train2, y_train, cv=5, scoring=\"roc_auc\")\n",
    "scores_df['Extra Trees'] = xtr_cvs"
   ]
  },
  {
   "cell_type": "code",
   "execution_count": 35,
   "metadata": {},
   "outputs": [],
   "source": [
    "ada_cvs = cross_val_score(AdaBoostClassifier(random_state=42), X_train2, y_train, cv=5, scoring=\"roc_auc\")\n",
    "scores_df['Adaboost'] = ada_cvs"
   ]
  },
  {
   "cell_type": "code",
   "execution_count": 36,
   "metadata": {},
   "outputs": [],
   "source": [
    "xgb_cvs = cross_val_score(XGBClassifier(), X_train2, y_train, cv=5, scoring=\"roc_auc\")\n",
    "scores_df['XGBoost'] = xgb_cvs"
   ]
  },
  {
   "cell_type": "code",
   "execution_count": 37,
   "metadata": {},
   "outputs": [
    {
     "data": {
      "text/html": [
       "<div>\n",
       "<style scoped>\n",
       "    .dataframe tbody tr th:only-of-type {\n",
       "        vertical-align: middle;\n",
       "    }\n",
       "\n",
       "    .dataframe tbody tr th {\n",
       "        vertical-align: top;\n",
       "    }\n",
       "\n",
       "    .dataframe thead th {\n",
       "        text-align: right;\n",
       "    }\n",
       "</style>\n",
       "<table border=\"1\" class=\"dataframe\">\n",
       "  <thead>\n",
       "    <tr style=\"text-align: right;\">\n",
       "      <th></th>\n",
       "      <th>SGD</th>\n",
       "      <th>Logistic Regression</th>\n",
       "      <th>Decision Tree</th>\n",
       "      <th>SVC</th>\n",
       "      <th>SVC Poly</th>\n",
       "      <th>KNN</th>\n",
       "      <th>Forest</th>\n",
       "      <th>Extra Trees</th>\n",
       "      <th>Adaboost</th>\n",
       "      <th>XGBoost</th>\n",
       "    </tr>\n",
       "  </thead>\n",
       "  <tbody>\n",
       "    <tr>\n",
       "      <th>mean</th>\n",
       "      <td>0.846017</td>\n",
       "      <td>0.865686</td>\n",
       "      <td>0.696569</td>\n",
       "      <td>0.882659</td>\n",
       "      <td>0.886581</td>\n",
       "      <td>0.821936</td>\n",
       "      <td>0.890625</td>\n",
       "      <td>0.882598</td>\n",
       "      <td>0.792157</td>\n",
       "      <td>0.848284</td>\n",
       "    </tr>\n",
       "    <tr>\n",
       "      <th>std</th>\n",
       "      <td>0.020456</td>\n",
       "      <td>0.036122</td>\n",
       "      <td>0.058475</td>\n",
       "      <td>0.039336</td>\n",
       "      <td>0.040562</td>\n",
       "      <td>0.052424</td>\n",
       "      <td>0.039952</td>\n",
       "      <td>0.032474</td>\n",
       "      <td>0.089627</td>\n",
       "      <td>0.074465</td>\n",
       "    </tr>\n",
       "    <tr>\n",
       "      <th>min</th>\n",
       "      <td>0.823529</td>\n",
       "      <td>0.828431</td>\n",
       "      <td>0.644608</td>\n",
       "      <td>0.848039</td>\n",
       "      <td>0.838235</td>\n",
       "      <td>0.769608</td>\n",
       "      <td>0.850490</td>\n",
       "      <td>0.862745</td>\n",
       "      <td>0.676471</td>\n",
       "      <td>0.745098</td>\n",
       "    </tr>\n",
       "    <tr>\n",
       "      <th>25%</th>\n",
       "      <td>0.828125</td>\n",
       "      <td>0.833333</td>\n",
       "      <td>0.644608</td>\n",
       "      <td>0.857843</td>\n",
       "      <td>0.857843</td>\n",
       "      <td>0.789216</td>\n",
       "      <td>0.862745</td>\n",
       "      <td>0.862745</td>\n",
       "      <td>0.745098</td>\n",
       "      <td>0.813725</td>\n",
       "    </tr>\n",
       "    <tr>\n",
       "      <th>50%</th>\n",
       "      <td>0.848039</td>\n",
       "      <td>0.872549</td>\n",
       "      <td>0.698529</td>\n",
       "      <td>0.862745</td>\n",
       "      <td>0.892157</td>\n",
       "      <td>0.816176</td>\n",
       "      <td>0.887255</td>\n",
       "      <td>0.862745</td>\n",
       "      <td>0.799020</td>\n",
       "      <td>0.848039</td>\n",
       "    </tr>\n",
       "    <tr>\n",
       "      <th>75%</th>\n",
       "      <td>0.857843</td>\n",
       "      <td>0.877451</td>\n",
       "      <td>0.708333</td>\n",
       "      <td>0.901961</td>\n",
       "      <td>0.901961</td>\n",
       "      <td>0.828431</td>\n",
       "      <td>0.899510</td>\n",
       "      <td>0.887255</td>\n",
       "      <td>0.823529</td>\n",
       "      <td>0.897059</td>\n",
       "    </tr>\n",
       "    <tr>\n",
       "      <th>max</th>\n",
       "      <td>0.872549</td>\n",
       "      <td>0.916667</td>\n",
       "      <td>0.786765</td>\n",
       "      <td>0.942708</td>\n",
       "      <td>0.942708</td>\n",
       "      <td>0.906250</td>\n",
       "      <td>0.953125</td>\n",
       "      <td>0.937500</td>\n",
       "      <td>0.916667</td>\n",
       "      <td>0.937500</td>\n",
       "    </tr>\n",
       "  </tbody>\n",
       "</table>\n",
       "</div>"
      ],
      "text/plain": [
       "           SGD  Logistic Regression  Decision Tree       SVC  SVC Poly  \\\n",
       "mean  0.846017             0.865686       0.696569  0.882659  0.886581   \n",
       "std   0.020456             0.036122       0.058475  0.039336  0.040562   \n",
       "min   0.823529             0.828431       0.644608  0.848039  0.838235   \n",
       "25%   0.828125             0.833333       0.644608  0.857843  0.857843   \n",
       "50%   0.848039             0.872549       0.698529  0.862745  0.892157   \n",
       "75%   0.857843             0.877451       0.708333  0.901961  0.901961   \n",
       "max   0.872549             0.916667       0.786765  0.942708  0.942708   \n",
       "\n",
       "           KNN    Forest  Extra Trees  Adaboost   XGBoost  \n",
       "mean  0.821936  0.890625     0.882598  0.792157  0.848284  \n",
       "std   0.052424  0.039952     0.032474  0.089627  0.074465  \n",
       "min   0.769608  0.850490     0.862745  0.676471  0.745098  \n",
       "25%   0.789216  0.862745     0.862745  0.745098  0.813725  \n",
       "50%   0.816176  0.887255     0.862745  0.799020  0.848039  \n",
       "75%   0.828431  0.899510     0.887255  0.823529  0.897059  \n",
       "max   0.906250  0.953125     0.937500  0.916667  0.937500  "
      ]
     },
     "execution_count": 37,
     "metadata": {},
     "output_type": "execute_result"
    }
   ],
   "source": [
    "scores_df.describe()[1:]"
   ]
  },
  {
   "cell_type": "code",
   "execution_count": 38,
   "metadata": {},
   "outputs": [
    {
     "data": {
      "text/plain": [
       "<matplotlib.axes._subplots.AxesSubplot at 0x1a26452b70>"
      ]
     },
     "execution_count": 38,
     "metadata": {},
     "output_type": "execute_result"
    },
    {
     "data": {
      "image/png": "[encoded data removed]",
      "text/plain": [
       "<Figure size 1080x720 with 1 Axes>"
      ]
     },
     "metadata": {
      "needs_background": "light"
     },
     "output_type": "display_data"
    }
   ],
   "source": [
    "scores_df.plot(kind='box', figsize=(15,10))"
   ]
  },
  {
   "cell_type": "markdown",
   "metadata": {},
   "source": [
    "### Hyperparameter Tuning"
   ]
  },
  {
   "cell_type": "markdown",
   "metadata": {},
   "source": [
    "#### XGBoost"
   ]
  },
  {
   "cell_type": "code",
   "execution_count": null,
   "metadata": {},
   "outputs": [],
   "source": [
    "param_grid = [\n",
    "    {'max_depth':[3,6,10,15],\n",
    "     'n_estimators':[10,100,500,1000],\n",
    "     'gamma':[0,0.5,1]\n",
    "    }\n",
    "]"
   ]
  },
  {
   "cell_type": "code",
   "execution_count": null,
   "metadata": {},
   "outputs": [],
   "source": [
    "grid_search = GridSearchCV(XGBClassifier(n_jobs=-1), param_grid, cv=5, scoring=\"roc_auc\")\n",
    "grid_search.fit(X_train2, y_train)"
   ]
  },
  {
   "cell_type": "code",
   "execution_count": null,
   "metadata": {},
   "outputs": [],
   "source": [
    "cvres = grid_search.cv_results_"
   ]
  },
  {
   "cell_type": "code",
   "execution_count": null,
   "metadata": {},
   "outputs": [],
   "source": [
    "cvres = grid_search.cv_results_\n",
    "cv_results = sorted([(x,y) for x,y in zip(cvres[\"mean_test_score\"],cvres[\"params\"])],key=lambda x: x[0],reverse=True)\n",
    "for AUC, params in cv_results:\n",
    "    print(round(AUC,5), params)"
   ]
  },
  {
   "cell_type": "code",
   "execution_count": null,
   "metadata": {},
   "outputs": [],
   "source": [
    "grid_search.best_score_"
   ]
  },
  {
   "cell_type": "code",
   "execution_count": null,
   "metadata": {},
   "outputs": [],
   "source": [
    "grid_search.best_params_"
   ]
  },
  {
   "cell_type": "markdown",
   "metadata": {},
   "source": [
    "#### Extra Trees"
   ]
  },
  {
   "cell_type": "code",
   "execution_count": 39,
   "metadata": {},
   "outputs": [],
   "source": [
    "param_grid = [\n",
    "    {'max_depth':[2,3],\n",
    "     'n_estimators':[200,225,250,500,1000,1500],\n",
    "     'bootstrap':[True,False],\n",
    "    }\n",
    "]"
   ]
  },
  {
   "cell_type": "code",
   "execution_count": 40,
   "metadata": {},
   "outputs": [
    {
     "name": "stderr",
     "output_type": "stream",
     "text": [
      "/anaconda3/envs/python3/lib/python3.6/site-packages/sklearn/model_selection/_search.py:841: DeprecationWarning: The default of the `iid` parameter will change from True to False in version 0.22 and will be removed in 0.24. This will change numeric results when test-set sizes are unequal.\n",
      "  DeprecationWarning)\n"
     ]
    },
    {
     "data": {
      "text/plain": [
       "GridSearchCV(cv=5, error_score='raise-deprecating',\n",
       "       estimator=ExtraTreesClassifier(bootstrap=False, class_weight=None, criterion='gini',\n",
       "           max_depth=None, max_features='auto', max_leaf_nodes=None,\n",
       "           min_impurity_decrease=0.0, min_impurity_split=None,\n",
       "           min_samples_leaf=1, min_samples_split=2,\n",
       "           min_weight_fraction_leaf=0.0, n_estimators='warn', n_jobs=-1,\n",
       "           oob_score=False, random_state=None, verbose=0, warm_start=False),\n",
       "       fit_params=None, iid='warn', n_jobs=None,\n",
       "       param_grid=[{'max_depth': [2, 3], 'n_estimators': [200, 225, 250, 500, 1000, 1500], 'bootstrap': [True, False]}],\n",
       "       pre_dispatch='2*n_jobs', refit=True, return_train_score='warn',\n",
       "       scoring='roc_auc', verbose=0)"
      ]
     },
     "execution_count": 40,
     "metadata": {},
     "output_type": "execute_result"
    }
   ],
   "source": [
    "grid_search_xtr = GridSearchCV(ExtraTreesClassifier(n_jobs=-1), param_grid, cv=5, scoring=\"roc_auc\")\n",
    "grid_search_xtr.fit(X_train2, y_train)"
   ]
  },
  {
   "cell_type": "code",
   "execution_count": 41,
   "metadata": {},
   "outputs": [
    {
     "data": {
      "text/plain": [
       "0.9010501770152506"
      ]
     },
     "execution_count": 41,
     "metadata": {},
     "output_type": "execute_result"
    }
   ],
   "source": [
    "grid_search_xtr.best_score_"
   ]
  },
  {
   "cell_type": "code",
   "execution_count": 42,
   "metadata": {},
   "outputs": [
    {
     "name": "stdout",
     "output_type": "stream",
     "text": [
      "0.90105 {'bootstrap': True, 'max_depth': 2, 'n_estimators': 1500}\n",
      "0.89811 {'bootstrap': True, 'max_depth': 2, 'n_estimators': 225}\n",
      "0.89713 {'bootstrap': False, 'max_depth': 2, 'n_estimators': 250}\n",
      "0.8971 {'bootstrap': True, 'max_depth': 2, 'n_estimators': 1000}\n",
      "0.89614 {'bootstrap': True, 'max_depth': 2, 'n_estimators': 250}\n",
      "0.89611 {'bootstrap': True, 'max_depth': 3, 'n_estimators': 250}\n",
      "0.89611 {'bootstrap': False, 'max_depth': 2, 'n_estimators': 225}\n",
      "0.89611 {'bootstrap': True, 'max_depth': 2, 'n_estimators': 500}\n",
      "0.89518 {'bootstrap': True, 'max_depth': 3, 'n_estimators': 1000}\n",
      "0.89417 {'bootstrap': True, 'max_depth': 3, 'n_estimators': 200}\n",
      "0.89414 {'bootstrap': False, 'max_depth': 2, 'n_estimators': 200}\n",
      "0.89409 {'bootstrap': False, 'max_depth': 3, 'n_estimators': 500}\n",
      "0.89318 {'bootstrap': True, 'max_depth': 3, 'n_estimators': 500}\n",
      "0.89318 {'bootstrap': True, 'max_depth': 3, 'n_estimators': 1500}\n",
      "0.89313 {'bootstrap': False, 'max_depth': 2, 'n_estimators': 1500}\n",
      "0.89217 {'bootstrap': False, 'max_depth': 2, 'n_estimators': 1000}\n",
      "0.89214 {'bootstrap': False, 'max_depth': 3, 'n_estimators': 1000}\n",
      "0.89214 {'bootstrap': False, 'max_depth': 3, 'n_estimators': 1500}\n",
      "0.89115 {'bootstrap': True, 'max_depth': 3, 'n_estimators': 225}\n",
      "0.89017 {'bootstrap': False, 'max_depth': 2, 'n_estimators': 500}\n",
      "0.89014 {'bootstrap': False, 'max_depth': 3, 'n_estimators': 250}\n",
      "0.88822 {'bootstrap': False, 'max_depth': 3, 'n_estimators': 200}\n",
      "0.88723 {'bootstrap': True, 'max_depth': 2, 'n_estimators': 200}\n",
      "0.88323 {'bootstrap': False, 'max_depth': 3, 'n_estimators': 225}\n"
     ]
    }
   ],
   "source": [
    "cvres_xtr = grid_search_xtr.cv_results_\n",
    "cv_results_xtr = sorted([(x,y) for x,y in zip(cvres_xtr[\"mean_test_score\"],cvres_xtr[\"params\"])],key=lambda x: x[0],reverse=True)\n",
    "for AUC, params in cv_results_xtr:\n",
    "    print(round(AUC,5), params)"
   ]
  },
  {
   "cell_type": "code",
   "execution_count": 43,
   "metadata": {},
   "outputs": [],
   "source": [
    "final_model = grid_search_xtr.best_estimator_"
   ]
  },
  {
   "cell_type": "markdown",
   "metadata": {},
   "source": [
    "### Generate predictions on test_values dataset"
   ]
  },
  {
   "cell_type": "code",
   "execution_count": 44,
   "metadata": {},
   "outputs": [],
   "source": [
    "test_values = pd.read_csv('https://s3.amazonaws.com/drivendata/data/54/public/test_values.csv')"
   ]
  },
  {
   "cell_type": "code",
   "execution_count": 45,
   "metadata": {},
   "outputs": [
    {
     "name": "stdout",
     "output_type": "stream",
     "text": [
      "<class 'pandas.core.frame.DataFrame'>\n",
      "RangeIndex: 90 entries, 0 to 89\n",
      "Data columns (total 14 columns):\n",
      "patient_id                              90 non-null object\n",
      "slope_of_peak_exercise_st_segment       90 non-null int64\n",
      "thal                                    90 non-null object\n",
      "resting_blood_pressure                  90 non-null int64\n",
      "chest_pain_type                         90 non-null int64\n",
      "num_major_vessels                       90 non-null int64\n",
      "fasting_blood_sugar_gt_120_mg_per_dl    90 non-null int64\n",
      "resting_ekg_results                     90 non-null int64\n",
      "serum_cholesterol_mg_per_dl             90 non-null int64\n",
      "oldpeak_eq_st_depression                90 non-null float64\n",
      "sex                                     90 non-null int64\n",
      "age                                     90 non-null int64\n",
      "max_heart_rate_achieved                 90 non-null int64\n",
      "exercise_induced_angina                 90 non-null int64\n",
      "dtypes: float64(1), int64(11), object(2)\n",
      "memory usage: 9.9+ KB\n"
     ]
    }
   ],
   "source": [
    "test_values.info()"
   ]
  },
  {
   "cell_type": "code",
   "execution_count": 46,
   "metadata": {},
   "outputs": [],
   "source": [
    "test_values.loc[:,'thal'] = test_values.loc[:,'thal'].astype('category')\n",
    "test_values.loc[:,'chest_pain_type'] = test_values.loc[:,'chest_pain_type'].astype('category')"
   ]
  },
  {
   "cell_type": "code",
   "execution_count": 47,
   "metadata": {},
   "outputs": [],
   "source": [
    "test_ids = test_values['patient_id']\n",
    "test_values = test_values.drop('patient_id',axis=1)"
   ]
  },
  {
   "cell_type": "code",
   "execution_count": 48,
   "metadata": {},
   "outputs": [
    {
     "name": "stdout",
     "output_type": "stream",
     "text": [
      "<class 'pandas.core.frame.DataFrame'>\n",
      "RangeIndex: 90 entries, 0 to 89\n",
      "Data columns (total 13 columns):\n",
      "slope_of_peak_exercise_st_segment       90 non-null int64\n",
      "thal                                    90 non-null category\n",
      "resting_blood_pressure                  90 non-null int64\n",
      "chest_pain_type                         90 non-null category\n",
      "num_major_vessels                       90 non-null int64\n",
      "fasting_blood_sugar_gt_120_mg_per_dl    90 non-null int64\n",
      "resting_ekg_results                     90 non-null int64\n",
      "serum_cholesterol_mg_per_dl             90 non-null int64\n",
      "oldpeak_eq_st_depression                90 non-null float64\n",
      "sex                                     90 non-null int64\n",
      "age                                     90 non-null int64\n",
      "max_heart_rate_achieved                 90 non-null int64\n",
      "exercise_induced_angina                 90 non-null int64\n",
      "dtypes: category(2), float64(1), int64(10)\n",
      "memory usage: 8.3 KB\n"
     ]
    }
   ],
   "source": [
    "test_values.info()"
   ]
  },
  {
   "cell_type": "code",
   "execution_count": 49,
   "metadata": {
    "scrolled": true
   },
   "outputs": [
    {
     "data": {
      "text/plain": [
       "(90, 190)"
      ]
     },
     "execution_count": 49,
     "metadata": {},
     "output_type": "execute_result"
    }
   ],
   "source": [
    "input_ = pipe.transform(test_values)\n",
    "input_.shape"
   ]
  },
  {
   "cell_type": "code",
   "execution_count": 50,
   "metadata": {},
   "outputs": [
    {
     "data": {
      "text/plain": [
       "(90, 13)"
      ]
     },
     "execution_count": 50,
     "metadata": {},
     "output_type": "execute_result"
    }
   ],
   "source": [
    "test_values.shape"
   ]
  },
  {
   "cell_type": "code",
   "execution_count": 51,
   "metadata": {},
   "outputs": [
    {
     "data": {
      "text/plain": [
       "(144, 13)"
      ]
     },
     "execution_count": 51,
     "metadata": {},
     "output_type": "execute_result"
    }
   ],
   "source": [
    "X_train.shape"
   ]
  },
  {
   "cell_type": "code",
   "execution_count": 52,
   "metadata": {},
   "outputs": [
    {
     "data": {
      "text/plain": [
       "(144, 190)"
      ]
     },
     "execution_count": 52,
     "metadata": {},
     "output_type": "execute_result"
    }
   ],
   "source": [
    "X_train2.shape"
   ]
  },
  {
   "cell_type": "code",
   "execution_count": 53,
   "metadata": {},
   "outputs": [
    {
     "data": {
      "text/plain": [
       "array([0, 0, 1, 0, 1, 0, 0, 1, 0, 0, 0, 0, 0, 1, 0, 0, 0, 0, 1, 0, 1, 0,\n",
       "       0, 0, 1, 1, 0, 0, 0, 0, 1, 0, 0, 0, 0, 0, 0, 0, 0, 0, 1, 0, 1, 0,\n",
       "       1, 0, 0, 0, 0, 0, 1, 0, 1, 0, 0, 0, 1, 0, 0, 1, 0, 1, 0, 1, 0, 1,\n",
       "       1, 1, 1, 1, 0, 1, 1, 1, 1, 1, 1, 0, 0, 1, 1, 0, 0, 1, 0, 0, 1, 0,\n",
       "       0, 0])"
      ]
     },
     "execution_count": 53,
     "metadata": {},
     "output_type": "execute_result"
    }
   ],
   "source": [
    "final_model.predict(input_)"
   ]
  },
  {
   "cell_type": "code",
   "execution_count": 54,
   "metadata": {},
   "outputs": [],
   "source": [
    "test_probas = final_model.predict_proba(input_)"
   ]
  },
  {
   "cell_type": "code",
   "execution_count": 55,
   "metadata": {
    "scrolled": true
   },
   "outputs": [
    {
     "data": {
      "text/plain": [
       "array([[0.57586528, 0.42413472],\n",
       "       [0.77746344, 0.22253656],\n",
       "       [0.22384695, 0.77615305],\n",
       "       [0.828683  , 0.171317  ],\n",
       "       [0.38580398, 0.61419602],\n",
       "       [0.8414793 , 0.1585207 ],\n",
       "       [0.76499464, 0.23500536],\n",
       "       [0.42270534, 0.57729466],\n",
       "       [0.72323547, 0.27676453],\n",
       "       [0.83886317, 0.16113683],\n",
       "       [0.7819501 , 0.2180499 ],\n",
       "       [0.53204724, 0.46795276],\n",
       "       [0.56482368, 0.43517632],\n",
       "       [0.25005963, 0.74994037],\n",
       "       [0.74639235, 0.25360765],\n",
       "       [0.85145698, 0.14854302],\n",
       "       [0.84657135, 0.15342865],\n",
       "       [0.81284535, 0.18715465],\n",
       "       [0.46801336, 0.53198664],\n",
       "       [0.84649519, 0.15350481],\n",
       "       [0.17486724, 0.82513276],\n",
       "       [0.72965426, 0.27034574],\n",
       "       [0.79650874, 0.20349126],\n",
       "       [0.8378357 , 0.1621643 ],\n",
       "       [0.4944742 , 0.5055258 ],\n",
       "       [0.32796362, 0.67203638],\n",
       "       [0.58213448, 0.41786552],\n",
       "       [0.73626649, 0.26373351],\n",
       "       [0.51286495, 0.48713505],\n",
       "       [0.84344873, 0.15655127],\n",
       "       [0.24137145, 0.75862855],\n",
       "       [0.58080496, 0.41919504],\n",
       "       [0.52601298, 0.47398702],\n",
       "       [0.78071433, 0.21928567],\n",
       "       [0.7504244 , 0.2495756 ],\n",
       "       [0.78556494, 0.21443506],\n",
       "       [0.60710071, 0.39289929],\n",
       "       [0.70451222, 0.29548778],\n",
       "       [0.64626989, 0.35373011],\n",
       "       [0.84181208, 0.15818792],\n",
       "       [0.16757006, 0.83242994],\n",
       "       [0.7122125 , 0.2877875 ],\n",
       "       [0.32586396, 0.67413604],\n",
       "       [0.82363488, 0.17636512],\n",
       "       [0.20140504, 0.79859496],\n",
       "       [0.81453843, 0.18546157],\n",
       "       [0.76186993, 0.23813007],\n",
       "       [0.64437942, 0.35562058],\n",
       "       [0.78947505, 0.21052495],\n",
       "       [0.59379179, 0.40620821],\n",
       "       [0.49956034, 0.50043966],\n",
       "       [0.84976325, 0.15023675],\n",
       "       [0.15927355, 0.84072645],\n",
       "       [0.83108602, 0.16891398],\n",
       "       [0.55022319, 0.44977681],\n",
       "       [0.84060608, 0.15939392],\n",
       "       [0.39144907, 0.60855093],\n",
       "       [0.79916866, 0.20083134],\n",
       "       [0.72498576, 0.27501424],\n",
       "       [0.44550442, 0.55449558],\n",
       "       [0.84425163, 0.15574837],\n",
       "       [0.24997544, 0.75002456],\n",
       "       [0.73554393, 0.26445607],\n",
       "       [0.34522069, 0.65477931],\n",
       "       [0.8206559 , 0.1793441 ],\n",
       "       [0.41381359, 0.58618641],\n",
       "       [0.41584092, 0.58415908],\n",
       "       [0.44013393, 0.55986607],\n",
       "       [0.24609954, 0.75390046],\n",
       "       [0.43349548, 0.56650452],\n",
       "       [0.79719057, 0.20280943],\n",
       "       [0.17892693, 0.82107307],\n",
       "       [0.20146098, 0.79853902],\n",
       "       [0.12074907, 0.87925093],\n",
       "       [0.23077098, 0.76922902],\n",
       "       [0.12244783, 0.87755217],\n",
       "       [0.33477498, 0.66522502],\n",
       "       [0.51015375, 0.48984625],\n",
       "       [0.71223174, 0.28776826],\n",
       "       [0.46640013, 0.53359987],\n",
       "       [0.40527712, 0.59472288],\n",
       "       [0.83051186, 0.16948814],\n",
       "       [0.6904185 , 0.3095815 ],\n",
       "       [0.38638755, 0.61361245],\n",
       "       [0.71369474, 0.28630526],\n",
       "       [0.85446379, 0.14553621],\n",
       "       [0.43146408, 0.56853592],\n",
       "       [0.74920452, 0.25079548],\n",
       "       [0.60111839, 0.39888161],\n",
       "       [0.74685599, 0.25314401]])"
      ]
     },
     "execution_count": 55,
     "metadata": {},
     "output_type": "execute_result"
    }
   ],
   "source": [
    "test_probas"
   ]
  },
  {
   "cell_type": "code",
   "execution_count": 56,
   "metadata": {
    "scrolled": true
   },
   "outputs": [],
   "source": [
    "heart_disease_probas = [y for x,y in test_probas]"
   ]
  },
  {
   "cell_type": "code",
   "execution_count": 57,
   "metadata": {},
   "outputs": [
    {
     "data": {
      "text/html": [
       "<div>\n",
       "<style scoped>\n",
       "    .dataframe tbody tr th:only-of-type {\n",
       "        vertical-align: middle;\n",
       "    }\n",
       "\n",
       "    .dataframe tbody tr th {\n",
       "        vertical-align: top;\n",
       "    }\n",
       "\n",
       "    .dataframe thead th {\n",
       "        text-align: right;\n",
       "    }\n",
       "</style>\n",
       "<table border=\"1\" class=\"dataframe\">\n",
       "  <thead>\n",
       "    <tr style=\"text-align: right;\">\n",
       "      <th></th>\n",
       "      <th>patient_id</th>\n",
       "      <th>heart_disease_present</th>\n",
       "    </tr>\n",
       "  </thead>\n",
       "  <tbody>\n",
       "    <tr>\n",
       "      <th>0</th>\n",
       "      <td>olalu7</td>\n",
       "      <td>0.424135</td>\n",
       "    </tr>\n",
       "    <tr>\n",
       "      <th>1</th>\n",
       "      <td>z9n6mx</td>\n",
       "      <td>0.222537</td>\n",
       "    </tr>\n",
       "    <tr>\n",
       "      <th>2</th>\n",
       "      <td>5k4413</td>\n",
       "      <td>0.776153</td>\n",
       "    </tr>\n",
       "    <tr>\n",
       "      <th>3</th>\n",
       "      <td>mrg7q5</td>\n",
       "      <td>0.171317</td>\n",
       "    </tr>\n",
       "    <tr>\n",
       "      <th>4</th>\n",
       "      <td>uki4do</td>\n",
       "      <td>0.614196</td>\n",
       "    </tr>\n",
       "    <tr>\n",
       "      <th>5</th>\n",
       "      <td>kev1sk</td>\n",
       "      <td>0.158521</td>\n",
       "    </tr>\n",
       "    <tr>\n",
       "      <th>6</th>\n",
       "      <td>9n6let</td>\n",
       "      <td>0.235005</td>\n",
       "    </tr>\n",
       "    <tr>\n",
       "      <th>7</th>\n",
       "      <td>jxmtyg</td>\n",
       "      <td>0.577295</td>\n",
       "    </tr>\n",
       "    <tr>\n",
       "      <th>8</th>\n",
       "      <td>51s2ff</td>\n",
       "      <td>0.276765</td>\n",
       "    </tr>\n",
       "    <tr>\n",
       "      <th>9</th>\n",
       "      <td>wi9mcs</td>\n",
       "      <td>0.161137</td>\n",
       "    </tr>\n",
       "    <tr>\n",
       "      <th>10</th>\n",
       "      <td>741h4l</td>\n",
       "      <td>0.218050</td>\n",
       "    </tr>\n",
       "    <tr>\n",
       "      <th>11</th>\n",
       "      <td>1ef64a</td>\n",
       "      <td>0.467953</td>\n",
       "    </tr>\n",
       "    <tr>\n",
       "      <th>12</th>\n",
       "      <td>wa2ix6</td>\n",
       "      <td>0.435176</td>\n",
       "    </tr>\n",
       "    <tr>\n",
       "      <th>13</th>\n",
       "      <td>8167zl</td>\n",
       "      <td>0.749940</td>\n",
       "    </tr>\n",
       "    <tr>\n",
       "      <th>14</th>\n",
       "      <td>n6nldr</td>\n",
       "      <td>0.253608</td>\n",
       "    </tr>\n",
       "    <tr>\n",
       "      <th>15</th>\n",
       "      <td>ph85fp</td>\n",
       "      <td>0.148543</td>\n",
       "    </tr>\n",
       "    <tr>\n",
       "      <th>16</th>\n",
       "      <td>jfan5p</td>\n",
       "      <td>0.153429</td>\n",
       "    </tr>\n",
       "    <tr>\n",
       "      <th>17</th>\n",
       "      <td>7c4iz1</td>\n",
       "      <td>0.187155</td>\n",
       "    </tr>\n",
       "    <tr>\n",
       "      <th>18</th>\n",
       "      <td>ukigml</td>\n",
       "      <td>0.531987</td>\n",
       "    </tr>\n",
       "    <tr>\n",
       "      <th>19</th>\n",
       "      <td>flwvnq</td>\n",
       "      <td>0.153505</td>\n",
       "    </tr>\n",
       "    <tr>\n",
       "      <th>20</th>\n",
       "      <td>5i4fw2</td>\n",
       "      <td>0.825133</td>\n",
       "    </tr>\n",
       "    <tr>\n",
       "      <th>21</th>\n",
       "      <td>du1pqf</td>\n",
       "      <td>0.270346</td>\n",
       "    </tr>\n",
       "    <tr>\n",
       "      <th>22</th>\n",
       "      <td>vs68qz</td>\n",
       "      <td>0.203491</td>\n",
       "    </tr>\n",
       "    <tr>\n",
       "      <th>23</th>\n",
       "      <td>pfyez0</td>\n",
       "      <td>0.162164</td>\n",
       "    </tr>\n",
       "    <tr>\n",
       "      <th>24</th>\n",
       "      <td>azvkw2</td>\n",
       "      <td>0.505526</td>\n",
       "    </tr>\n",
       "    <tr>\n",
       "      <th>25</th>\n",
       "      <td>cird1i</td>\n",
       "      <td>0.672036</td>\n",
       "    </tr>\n",
       "    <tr>\n",
       "      <th>26</th>\n",
       "      <td>3bg32t</td>\n",
       "      <td>0.417866</td>\n",
       "    </tr>\n",
       "    <tr>\n",
       "      <th>27</th>\n",
       "      <td>xzd050</td>\n",
       "      <td>0.263734</td>\n",
       "    </tr>\n",
       "    <tr>\n",
       "      <th>28</th>\n",
       "      <td>eyi8et</td>\n",
       "      <td>0.487135</td>\n",
       "    </tr>\n",
       "    <tr>\n",
       "      <th>29</th>\n",
       "      <td>ce4x2h</td>\n",
       "      <td>0.156551</td>\n",
       "    </tr>\n",
       "    <tr>\n",
       "      <th>...</th>\n",
       "      <td>...</td>\n",
       "      <td>...</td>\n",
       "    </tr>\n",
       "    <tr>\n",
       "      <th>60</th>\n",
       "      <td>tgpy9u</td>\n",
       "      <td>0.155748</td>\n",
       "    </tr>\n",
       "    <tr>\n",
       "      <th>61</th>\n",
       "      <td>pf5wp6</td>\n",
       "      <td>0.750025</td>\n",
       "    </tr>\n",
       "    <tr>\n",
       "      <th>62</th>\n",
       "      <td>cj8vj2</td>\n",
       "      <td>0.264456</td>\n",
       "    </tr>\n",
       "    <tr>\n",
       "      <th>63</th>\n",
       "      <td>9w6d9j</td>\n",
       "      <td>0.654779</td>\n",
       "    </tr>\n",
       "    <tr>\n",
       "      <th>64</th>\n",
       "      <td>3l89wd</td>\n",
       "      <td>0.179344</td>\n",
       "    </tr>\n",
       "    <tr>\n",
       "      <th>65</th>\n",
       "      <td>83a6x1</td>\n",
       "      <td>0.586186</td>\n",
       "    </tr>\n",
       "    <tr>\n",
       "      <th>66</th>\n",
       "      <td>oua0gr</td>\n",
       "      <td>0.584159</td>\n",
       "    </tr>\n",
       "    <tr>\n",
       "      <th>67</th>\n",
       "      <td>j0hl96</td>\n",
       "      <td>0.559866</td>\n",
       "    </tr>\n",
       "    <tr>\n",
       "      <th>68</th>\n",
       "      <td>dlkzyg</td>\n",
       "      <td>0.753900</td>\n",
       "    </tr>\n",
       "    <tr>\n",
       "      <th>69</th>\n",
       "      <td>r0w4a8</td>\n",
       "      <td>0.566505</td>\n",
       "    </tr>\n",
       "    <tr>\n",
       "      <th>70</th>\n",
       "      <td>46dlca</td>\n",
       "      <td>0.202809</td>\n",
       "    </tr>\n",
       "    <tr>\n",
       "      <th>71</th>\n",
       "      <td>9fkefu</td>\n",
       "      <td>0.821073</td>\n",
       "    </tr>\n",
       "    <tr>\n",
       "      <th>72</th>\n",
       "      <td>6uk6kl</td>\n",
       "      <td>0.798539</td>\n",
       "    </tr>\n",
       "    <tr>\n",
       "      <th>73</th>\n",
       "      <td>c7olxr</td>\n",
       "      <td>0.879251</td>\n",
       "    </tr>\n",
       "    <tr>\n",
       "      <th>74</th>\n",
       "      <td>iiyx0q</td>\n",
       "      <td>0.769229</td>\n",
       "    </tr>\n",
       "    <tr>\n",
       "      <th>75</th>\n",
       "      <td>25vetx</td>\n",
       "      <td>0.877552</td>\n",
       "    </tr>\n",
       "    <tr>\n",
       "      <th>76</th>\n",
       "      <td>073vc5</td>\n",
       "      <td>0.665225</td>\n",
       "    </tr>\n",
       "    <tr>\n",
       "      <th>77</th>\n",
       "      <td>18abn0</td>\n",
       "      <td>0.489846</td>\n",
       "    </tr>\n",
       "    <tr>\n",
       "      <th>78</th>\n",
       "      <td>v5fsfs</td>\n",
       "      <td>0.287768</td>\n",
       "    </tr>\n",
       "    <tr>\n",
       "      <th>79</th>\n",
       "      <td>2ekoo7</td>\n",
       "      <td>0.533600</td>\n",
       "    </tr>\n",
       "    <tr>\n",
       "      <th>80</th>\n",
       "      <td>5bbknr</td>\n",
       "      <td>0.594723</td>\n",
       "    </tr>\n",
       "    <tr>\n",
       "      <th>81</th>\n",
       "      <td>hr6pjx</td>\n",
       "      <td>0.169488</td>\n",
       "    </tr>\n",
       "    <tr>\n",
       "      <th>82</th>\n",
       "      <td>r4hsar</td>\n",
       "      <td>0.309581</td>\n",
       "    </tr>\n",
       "    <tr>\n",
       "      <th>83</th>\n",
       "      <td>4cezdf</td>\n",
       "      <td>0.613612</td>\n",
       "    </tr>\n",
       "    <tr>\n",
       "      <th>84</th>\n",
       "      <td>palhcc</td>\n",
       "      <td>0.286305</td>\n",
       "    </tr>\n",
       "    <tr>\n",
       "      <th>85</th>\n",
       "      <td>bwoyg6</td>\n",
       "      <td>0.145536</td>\n",
       "    </tr>\n",
       "    <tr>\n",
       "      <th>86</th>\n",
       "      <td>j8i7ve</td>\n",
       "      <td>0.568536</td>\n",
       "    </tr>\n",
       "    <tr>\n",
       "      <th>87</th>\n",
       "      <td>t2zn1n</td>\n",
       "      <td>0.250795</td>\n",
       "    </tr>\n",
       "    <tr>\n",
       "      <th>88</th>\n",
       "      <td>oxf8kj</td>\n",
       "      <td>0.398882</td>\n",
       "    </tr>\n",
       "    <tr>\n",
       "      <th>89</th>\n",
       "      <td>aeiv0y</td>\n",
       "      <td>0.253144</td>\n",
       "    </tr>\n",
       "  </tbody>\n",
       "</table>\n",
       "<p>90 rows × 2 columns</p>\n",
       "</div>"
      ],
      "text/plain": [
       "   patient_id  heart_disease_present\n",
       "0      olalu7               0.424135\n",
       "1      z9n6mx               0.222537\n",
       "2      5k4413               0.776153\n",
       "3      mrg7q5               0.171317\n",
       "4      uki4do               0.614196\n",
       "5      kev1sk               0.158521\n",
       "6      9n6let               0.235005\n",
       "7      jxmtyg               0.577295\n",
       "8      51s2ff               0.276765\n",
       "9      wi9mcs               0.161137\n",
       "10     741h4l               0.218050\n",
       "11     1ef64a               0.467953\n",
       "12     wa2ix6               0.435176\n",
       "13     8167zl               0.749940\n",
       "14     n6nldr               0.253608\n",
       "15     ph85fp               0.148543\n",
       "16     jfan5p               0.153429\n",
       "17     7c4iz1               0.187155\n",
       "18     ukigml               0.531987\n",
       "19     flwvnq               0.153505\n",
       "20     5i4fw2               0.825133\n",
       "21     du1pqf               0.270346\n",
       "22     vs68qz               0.203491\n",
       "23     pfyez0               0.162164\n",
       "24     azvkw2               0.505526\n",
       "25     cird1i               0.672036\n",
       "26     3bg32t               0.417866\n",
       "27     xzd050               0.263734\n",
       "28     eyi8et               0.487135\n",
       "29     ce4x2h               0.156551\n",
       "..        ...                    ...\n",
       "60     tgpy9u               0.155748\n",
       "61     pf5wp6               0.750025\n",
       "62     cj8vj2               0.264456\n",
       "63     9w6d9j               0.654779\n",
       "64     3l89wd               0.179344\n",
       "65     83a6x1               0.586186\n",
       "66     oua0gr               0.584159\n",
       "67     j0hl96               0.559866\n",
       "68     dlkzyg               0.753900\n",
       "69     r0w4a8               0.566505\n",
       "70     46dlca               0.202809\n",
       "71     9fkefu               0.821073\n",
       "72     6uk6kl               0.798539\n",
       "73     c7olxr               0.879251\n",
       "74     iiyx0q               0.769229\n",
       "75     25vetx               0.877552\n",
       "76     073vc5               0.665225\n",
       "77     18abn0               0.489846\n",
       "78     v5fsfs               0.287768\n",
       "79     2ekoo7               0.533600\n",
       "80     5bbknr               0.594723\n",
       "81     hr6pjx               0.169488\n",
       "82     r4hsar               0.309581\n",
       "83     4cezdf               0.613612\n",
       "84     palhcc               0.286305\n",
       "85     bwoyg6               0.145536\n",
       "86     j8i7ve               0.568536\n",
       "87     t2zn1n               0.250795\n",
       "88     oxf8kj               0.398882\n",
       "89     aeiv0y               0.253144\n",
       "\n",
       "[90 rows x 2 columns]"
      ]
     },
     "execution_count": 57,
     "metadata": {},
     "output_type": "execute_result"
    }
   ],
   "source": [
    "out_df = pd.DataFrame({'patient_id':test_ids,'heart_disease_present':heart_disease_probas})\n",
    "out_df"
   ]
  },
  {
   "cell_type": "code",
   "execution_count": 58,
   "metadata": {},
   "outputs": [],
   "source": [
    "out_df.to_csv('submission2.csv',index=False)"
   ]
  },
  {
   "cell_type": "code",
   "execution_count": null,
   "metadata": {},
   "outputs": [],
   "source": []
  }
 ],
 "metadata": {
  "kernelspec": {
   "display_name": "Python 3",
   "language": "python",
   "name": "python3"
  },
  "language_info": {
   "codemirror_mode": {
    "name": "ipython",
    "version": 3
   },
   "file_extension": ".py",
   "mimetype": "text/x-python",
   "name": "python",
   "nbconvert_exporter": "python",
   "pygments_lexer": "ipython3",
   "version": "3.6.8"
  }
 },
 "nbformat": 4,
 "nbformat_minor": 2
}
